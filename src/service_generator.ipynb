{
 "cells": [
  {
   "cell_type": "code",
   "execution_count": 133,
   "id": "18fa796c-60ce-4444-b175-c48ad8e32824",
   "metadata": {},
   "outputs": [],
   "source": [
    "import os\n",
    "import difflib\n",
    "from tqdm import tqdm\n",
    "import pandas as pd\n",
    "import re\n",
    "import sys\n",
    "import json\n",
    "import base64\n",
    "import hashlib\n",
    "import requests\n",
    "from typing import Union\n",
    "from requests.auth import HTTPBasicAuth\n",
    "from requests.exceptions import HTTPError"
   ]
  },
  {
   "cell_type": "code",
   "execution_count": 2,
   "id": "700d1675-9448-4af6-a096-1882fbeb87f8",
   "metadata": {},
   "outputs": [
    {
     "data": {
      "text/plain": [
       "['C:\\\\Users\\\\Filipp\\\\PycharmProjects\\\\Invoice_scanner\\\\src',\n",
       " 'C:\\\\Users\\\\Filipp\\\\AppData\\\\Local\\\\anaconda3\\\\python311.zip',\n",
       " 'C:\\\\Users\\\\Filipp\\\\AppData\\\\Local\\\\anaconda3\\\\DLLs',\n",
       " 'C:\\\\Users\\\\Filipp\\\\AppData\\\\Local\\\\anaconda3\\\\Lib',\n",
       " 'C:\\\\Users\\\\Filipp\\\\AppData\\\\Local\\\\anaconda3',\n",
       " '',\n",
       " 'C:\\\\Users\\\\Filipp\\\\AppData\\\\Local\\\\anaconda3\\\\Lib\\\\site-packages',\n",
       " 'C:\\\\Users\\\\Filipp\\\\AppData\\\\Local\\\\anaconda3\\\\Lib\\\\site-packages\\\\win32',\n",
       " 'C:\\\\Users\\\\Filipp\\\\AppData\\\\Local\\\\anaconda3\\\\Lib\\\\site-packages\\\\win32\\\\lib',\n",
       " 'C:\\\\Users\\\\Filipp\\\\AppData\\\\Local\\\\anaconda3\\\\Lib\\\\site-packages\\\\Pythonwin',\n",
       " 'C:\\\\Users\\\\Filipp\\\\PycharmProjects\\\\Invoice_scanner']"
      ]
     },
     "execution_count": 2,
     "metadata": {},
     "output_type": "execute_result"
    }
   ],
   "source": [
    "project_path = os.path.abspath('..')\n",
    "if project_path not in sys.path:\n",
    "    sys.path.append(project_path)\n",
    "sys.path"
   ]
  },
  {
   "cell_type": "code",
   "execution_count": 3,
   "id": "e2dd9964-725c-47fe-b3e3-f02cb821939f",
   "metadata": {},
   "outputs": [],
   "source": [
    "from config.config import config"
   ]
  },
  {
   "cell_type": "code",
   "execution_count": 4,
   "id": "29d0ee05-a079-4f4c-9fac-5daeadfe5980",
   "metadata": {},
   "outputs": [],
   "source": [
    "auth = HTTPBasicAuth(config['user_1C'], config['password_1C'])"
   ]
  },
  {
   "cell_type": "markdown",
   "id": "80907ee0-502a-4934-a4ae-a02e92a61373",
   "metadata": {},
   "source": [
    "### Получение списка номеров счетов"
   ]
  },
  {
   "cell_type": "code",
   "execution_count": 5,
   "id": "2739f309-bb67-4d4d-b1ca-b492537feae6",
   "metadata": {},
   "outputs": [
    {
     "name": "stdout",
     "output_type": "stream",
     "text": [
      "length: 2002\n",
      "deal_numbers: ['0С000000000000137236', '0С000000000000138343', '0С000000000000138344']\n"
     ]
    }
   ],
   "source": [
    "# Получение списка номеров счетов за период времени\n",
    "\n",
    "# месяцы 04-06 уже есть\n",
    "month1 = '07'\n",
    "month2 = '08'\n",
    "\n",
    "date_1 = f'01-{month1}-2024'\n",
    "date_2 = f'01-{month2}-2024'\n",
    "\n",
    "deal_numbers_list = requests.get(fr'http://10.10.0.10:81/ca/hs/interaction/InvoicesByDate/{date_1}/{date_2}', auth=auth).json()\n",
    "print(f\"length: {len(deal_numbers_list)}\")\n",
    "\n",
    "print(f\"deal_numbers: {deal_numbers_list[0:3]}\")"
   ]
  },
  {
   "cell_type": "markdown",
   "id": "0edc53a8-67ea-4524-93d0-c0586f80e9d6",
   "metadata": {},
   "source": [
    "### Получение деталей по данным счетам"
   ]
  },
  {
   "cell_type": "markdown",
   "id": "f47f1687-ce56-4239-9567-062eb53119fa",
   "metadata": {},
   "source": [
    "```\n",
    "[\n",
    "{\"СтрокиСчета\": [\"Услуга\": , \"УслугаКод\": , \"ТранспортнаяПозиция\": , \"Количество\": , \"Цена: \"], \"ФайлыСчета\": [..]},\n",
    "{\"СтрокиСчета\": [..], \"ФайлыСчета\": [..]},\n",
    "..\n",
    "]\n",
    "```"
   ]
  },
  {
   "cell_type": "code",
   "execution_count": null,
   "id": "26d18bbb-1957-4baf-bf9e-68870048c2ed",
   "metadata": {},
   "outputs": [],
   "source": [
    "# Получение деталей счетов\n",
    "# ЗДЕСЬ ДОБАВИТЬ НОМЕР СЧЕТА К КАЖДОМУ СЛОВАРЮ ДЕТАЛЕЙ\n",
    "\n",
    "numbers = []\n",
    "for number in tqdm(deal_numbers_list):\n",
    "    try:\n",
    "        res = requests.get(fr'http://10.10.0.10:81/ca/hs/interaction/InvoiceDetailsByNumber/{number}', auth=auth).json()\n",
    "    except:\n",
    "        print(number)\n",
    "        continue\n",
    "    numbers.append(res)"
   ]
  },
  {
   "cell_type": "code",
   "execution_count": null,
   "id": "d6634e8a-5256-4ad8-b76e-946546327da7",
   "metadata": {},
   "outputs": [],
   "source": [
    "numbers[0]"
   ]
  },
  {
   "cell_type": "code",
   "execution_count": null,
   "id": "29662530-466e-45bd-a2ee-f7f1cfc95306",
   "metadata": {},
   "outputs": [],
   "source": [
    "# Запись деталей в файл\n",
    "\n",
    "file = os.path.join(config['BASE_DIR'], 'config', 'generated_services', f'result_numbers_{month1}.json')\n",
    "with open(file, 'w', encoding='utf-8') as f:\n",
    "    json.dump(numbers, f, ensure_ascii=False, indent=4)"
   ]
  },
  {
   "cell_type": "markdown",
   "id": "13d8f9bd-5e59-4968-9096-e1e1ef8389cc",
   "metadata": {},
   "source": [
    "### Фильтрация деталей"
   ]
  },
  {
   "cell_type": "code",
   "execution_count": 7,
   "id": "2f0be27b-239e-4b13-a007-4944ab2530aa",
   "metadata": {},
   "outputs": [],
   "source": [
    "# Получение списка частых услуг\n",
    "\n",
    "file = os.path.join(config['BASE_DIR'], 'config', 'freq_services.json')\n",
    "with open(file, 'r', encoding='utf-8') as f:\n",
    "    freq_services = json.load(f)\n",
    "\n",
    "\n",
    "def remove_special_characters(text):\n",
    "    response = re.sub(r'[^\\w\\s]', ' ', text.lower())\n",
    "    return re.sub(r'(\\s{2,}|\\n)', ' ', response)\n",
    "    \n",
    "freq_services = [remove_special_characters(service) for service in freq_services]"
   ]
  },
  {
   "cell_type": "code",
   "execution_count": 8,
   "id": "2a498067-3838-46f6-9d23-925c660fcf13",
   "metadata": {},
   "outputs": [],
   "source": [
    "# Определение функций очистки\n",
    "\n",
    "# hash\n",
    "\n",
    "def calculate_hash(file_path):\n",
    "    # Инициализация хэш-объекта MD5\n",
    "    md5_hash = hashlib.md5()\n",
    "\n",
    "    # Открываем файл в бинарном режиме для чтения\n",
    "    with open(file_path, \"rb\") as f:\n",
    "        # Чтение файла блоками по 4096 байт (можно настроить)\n",
    "        for byte_block in iter(lambda: f.read(4096), b\"\"):\n",
    "            md5_hash.update(byte_block)\n",
    "\n",
    "    # Возвращаем хэш-сумму в виде шестнадцатеричной строки\n",
    "    return md5_hash.hexdigest()\n",
    "\n",
    "\n",
    "def is_single_hash(lst: list[str]) -> str | None:\n",
    "    \"\"\"\n",
    "    lst: result['ФайлыСчета'] from result = requests.get(fr'http://.../InvoiceDetailsByNumber/{deal}', auth=auth).json()\n",
    "    \"\"\"\n",
    "    if not list:\n",
    "        return None\n",
    "        \n",
    "    res = [calculate_hash(file) for file in lst]\n",
    "        \n",
    "    if len(set(res)) == 1:\n",
    "        return lst[0]\n",
    "\n",
    "\n",
    "# frequent services\n",
    "\n",
    "def is_all_services_freq(lst: list, freq_services: list) -> bool:\n",
    "    \"\"\"\n",
    "    lst: result['СтрокиСчета'] from result = requests.get(fr'http://.../InvoiceDetailsByNumber/{deal}', auth=auth).json()\n",
    "    freq_services: list of frequently used services (cleared)\n",
    "    \"\"\"\n",
    "    services = [d['Услуга'] for d in lst]\n",
    "    clear_services = [remove_special_characters(service) for service in services]\n",
    "    \n",
    "    if set(clear_services).issubset(freq_services):\n",
    "        return True\n",
    "    else:\n",
    "        return False    "
   ]
  },
  {
   "cell_type": "code",
   "execution_count": 134,
   "id": "68afaed2-b1ef-4c87-a610-0cc9fa28b2c0",
   "metadata": {},
   "outputs": [
    {
     "name": "stdout",
     "output_type": "stream",
     "text": [
      "1963\n"
     ]
    }
   ],
   "source": [
    "# неотфильтрованные детали\n",
    "\n",
    "file = os.path.join(config['BASE_DIR'], 'config', 'generated_services', 'result_numbers_07.json')\n",
    "with open(file, 'r', encoding='utf-8') as f:\n",
    "    result = json.load(f)\n",
    "\n",
    "print(len(result))"
   ]
  },
  {
   "cell_type": "code",
   "execution_count": null,
   "id": "2f569b04-aa2a-40af-a876-8fb990d5f46d",
   "metadata": {},
   "outputs": [],
   "source": [
    "# отфильтрованные детали\n",
    "\n",
    "filtered_response_list = []\n",
    "for res in tqdm(result):\n",
    "    \n",
    "    raws = res['СтрокиСчета']\n",
    "    files = res['ФайлыСчета']\n",
    "    \n",
    "    if is_all_services_freq(raws, freq_services):\n",
    "        # print('freq')\n",
    "        continue\n",
    "    if not is_single_hash(files):\n",
    "        # print('hash')\n",
    "        continue\n",
    "\n",
    "    filtered_response_list.append(res)\n",
    "\n",
    "print(f\"{len(deal_numbers_list)} --> {len(filtered_response_list)}\")"
   ]
  },
  {
   "cell_type": "code",
   "execution_count": 11,
   "id": "59acfd6a-5396-4784-b441-c9fe023de77b",
   "metadata": {},
   "outputs": [
    {
     "data": {
      "text/plain": [
       "{'СтрокиСчета': [{'Услуга': 'Терминальная обработка',\n",
       "   'УслугаКод': '000000421',\n",
       "   'ТранспортнаяПозиция': 'CICU9764876',\n",
       "   'Количество': 1,\n",
       "   'Цена': 10500}],\n",
       " 'ФайлыСчета': ['\\\\\\\\10.10.0.3\\\\docs\\\\Baltimpex\\\\Invoice\\\\Import\\\\АА-0093285\\\\T1_ОФ-00011348_71c5acb7-b8f5-4cda-b618-bd631ff0c088_СчетНаОплату.pdf']}"
      ]
     },
     "execution_count": 11,
     "metadata": {},
     "output_type": "execute_result"
    }
   ],
   "source": [
    "filtered_response_list[0]"
   ]
  },
  {
   "cell_type": "code",
   "execution_count": 12,
   "id": "9a9531ba-f78b-428b-adf7-30f14238bef9",
   "metadata": {},
   "outputs": [],
   "source": [
    "# Запись отфильтрованных деталей в файл\n",
    "\n",
    "file = os.path.join(config['BASE_DIR'], 'config', 'generated_services', f'filtered_result_numbers_{month1}.json')\n",
    "with open(file, 'w', encoding='utf-8') as f:\n",
    "    json.dump(filtered_response_list, f, ensure_ascii=False, indent=4)"
   ]
  },
  {
   "cell_type": "code",
   "execution_count": null,
   "id": "7af47a8b-59f6-434b-a6e7-78c8a8a650d2",
   "metadata": {},
   "outputs": [],
   "source": [
    "# запись предварительно отформатированных услуг в формате\n",
    "# Услуга | УслугаКод | Цена\n",
    "\n",
    "with open(os.path.join(config['BASE_DIR'], 'config', 'new_services.txt'), 'a', encoding='utf-8') as file:\n",
    "    for i, res in enumerate(result):\n",
    "        print(f'-----{i}-----')\n",
    "        raws = res['СтрокиСчета']\n",
    "        files = res['ФайлыСчета']\n",
    "    \n",
    "        for raw in raws:\n",
    "            service = raw['Услуга']\n",
    "            code = raw['УслугаКод']\n",
    "            price = raw['Цена']\n",
    "            s = f\"{service}|{code}|{price}\\n\"\n",
    "            print(s.strip())\n",
    "            if i > 57:\n",
    "                file.write(s)\n",
    "        print('file:')\n",
    "        print(files[0])"
   ]
  },
  {
   "cell_type": "markdown",
   "id": "796ae5e1-fc47-416c-8afa-b89fe89ca217",
   "metadata": {},
   "source": [
    "... ЗАМЕНА ЦЕНЫ НА КОММЕНТАРИЙ ..."
   ]
  },
  {
   "cell_type": "markdown",
   "id": "54baf79d-d56f-4af1-8a6b-2d85dba3d115",
   "metadata": {},
   "source": [
    "### Загрузка отфильтрованного и дополненного \"комментариями\" файла"
   ]
  },
  {
   "cell_type": "code",
   "execution_count": 141,
   "id": "9b6cec77-d885-434c-8af5-b2869287e5b5",
   "metadata": {},
   "outputs": [],
   "source": [
    "with open(os.path.join(config['BASE_DIR'], 'config', 'new_services.txt'), 'r', encoding='utf-8') as file:\n",
    "    data = file.readlines()"
   ]
  },
  {
   "cell_type": "code",
   "execution_count": null,
   "id": "7a6e9e49-0047-499b-8d2f-c7c83533534b",
   "metadata": {},
   "outputs": [],
   "source": [
    "# Удаление пустых строк из новых сервисов\n",
    "\n",
    "data = list(filter(lambda x: bool(x), map(lambda y: y.strip(), data)))\n",
    "data"
   ]
  },
  {
   "cell_type": "code",
   "execution_count": 143,
   "id": "8ff6317a-0036-4593-b559-c825c74c318a",
   "metadata": {},
   "outputs": [],
   "source": [
    "regex = r'.*\\|.*\\|.*'\n",
    "for i in data:\n",
    "    if re.fullmatch(regex, i):\n",
    "        pass\n",
    "    else:\n",
    "        print(i)"
   ]
  },
  {
   "cell_type": "code",
   "execution_count": 144,
   "id": "38676703-c5c2-4de6-9f6c-f17ba413299d",
   "metadata": {},
   "outputs": [],
   "source": [
    "def create_dataframe(data_list):\n",
    "    # Преобразуем список в список списков, разделяя строки по символу |\n",
    "    data_split = [item.split('|') for item in data_list]\n",
    "    \n",
    "    # Создаем DataFrame с соответствующими заголовками столбцов\n",
    "    df = pd.DataFrame(data_split, columns=['service', 'code', 'comment'])\n",
    "    \n",
    "    return df"
   ]
  },
  {
   "cell_type": "code",
   "execution_count": 145,
   "id": "e5163dac-c1bc-4d95-b7f2-7354c45689aa",
   "metadata": {},
   "outputs": [],
   "source": [
    "df = create_dataframe(data)"
   ]
  },
  {
   "cell_type": "code",
   "execution_count": 146,
   "id": "c73a9550-87e6-4b00-a6fd-fe5751f1dab1",
   "metadata": {},
   "outputs": [
    {
     "data": {
      "text/html": [
       "<div>\n",
       "<style scoped>\n",
       "    .dataframe tbody tr th:only-of-type {\n",
       "        vertical-align: middle;\n",
       "    }\n",
       "\n",
       "    .dataframe tbody tr th {\n",
       "        vertical-align: top;\n",
       "    }\n",
       "\n",
       "    .dataframe thead th {\n",
       "        text-align: right;\n",
       "    }\n",
       "</style>\n",
       "<table border=\"1\" class=\"dataframe\">\n",
       "  <thead>\n",
       "    <tr style=\"text-align: right;\">\n",
       "      <th></th>\n",
       "      <th>service</th>\n",
       "      <th>code</th>\n",
       "      <th>comment</th>\n",
       "    </tr>\n",
       "  </thead>\n",
       "  <tbody>\n",
       "    <tr>\n",
       "      <th>277</th>\n",
       "      <td>Дегазация подкарантинной продукции</td>\n",
       "      <td>000000493</td>\n",
       "      <td>Дегазация подкарантинной продукции в контейнерах</td>\n",
       "    </tr>\n",
       "    <tr>\n",
       "      <th>278</th>\n",
       "      <td>DROP OFF FEE</td>\n",
       "      <td>ТК-008677</td>\n",
       "      <td>+</td>\n",
       "    </tr>\n",
       "    <tr>\n",
       "      <th>279</th>\n",
       "      <td>ПРР груженый опасным грузом импортный контейнер</td>\n",
       "      <td>ТК-009177</td>\n",
       "      <td>+</td>\n",
       "    </tr>\n",
       "    <tr>\n",
       "      <th>280</th>\n",
       "      <td>ПРР груженого импортного контейнера</td>\n",
       "      <td>ТК-008422</td>\n",
       "      <td>Организация ПРР груженый импортный контейнер</td>\n",
       "    </tr>\n",
       "    <tr>\n",
       "      <th>281</th>\n",
       "      <td>Перемещение контейнера, выгрузка/погрузка груз...</td>\n",
       "      <td>ТК-002702</td>\n",
       "      <td>+</td>\n",
       "    </tr>\n",
       "  </tbody>\n",
       "</table>\n",
       "</div>"
      ],
      "text/plain": [
       "                                               service           code  \\\n",
       "277                 Дегазация подкарантинной продукции      000000493   \n",
       "278                                       DROP OFF FEE      ТК-008677   \n",
       "279    ПРР груженый опасным грузом импортный контейнер      ТК-009177   \n",
       "280                ПРР груженого импортного контейнера    ТК-008422     \n",
       "281  Перемещение контейнера, выгрузка/погрузка груз...      ТК-002702   \n",
       "\n",
       "                                              comment  \n",
       "277  Дегазация подкарантинной продукции в контейнерах  \n",
       "278                                                 +  \n",
       "279                                                 +  \n",
       "280      Организация ПРР груженый импортный контейнер  \n",
       "281                                                 +  "
      ]
     },
     "execution_count": 146,
     "metadata": {},
     "output_type": "execute_result"
    }
   ],
   "source": [
    "df.tail()"
   ]
  },
  {
   "cell_type": "code",
   "execution_count": 147,
   "id": "4248de00-9234-4e1e-b254-23b163be2c4d",
   "metadata": {},
   "outputs": [],
   "source": [
    "# замена + (как в 1 в 1)\n",
    "\n",
    "def replace_plus(raw):\n",
    "    if raw['comment'] == '+':\n",
    "        raw['comment'] = raw['service']\n",
    "    return raw"
   ]
  },
  {
   "cell_type": "code",
   "execution_count": 148,
   "id": "497b8012-e5b3-479e-8e1d-2ce3efed90c4",
   "metadata": {},
   "outputs": [
    {
     "data": {
      "text/html": [
       "<div>\n",
       "<style scoped>\n",
       "    .dataframe tbody tr th:only-of-type {\n",
       "        vertical-align: middle;\n",
       "    }\n",
       "\n",
       "    .dataframe tbody tr th {\n",
       "        vertical-align: top;\n",
       "    }\n",
       "\n",
       "    .dataframe thead th {\n",
       "        text-align: right;\n",
       "    }\n",
       "</style>\n",
       "<table border=\"1\" class=\"dataframe\">\n",
       "  <thead>\n",
       "    <tr style=\"text-align: right;\">\n",
       "      <th></th>\n",
       "      <th>service</th>\n",
       "      <th>code</th>\n",
       "      <th>comment</th>\n",
       "    </tr>\n",
       "  </thead>\n",
       "  <tbody>\n",
       "    <tr>\n",
       "      <th>277</th>\n",
       "      <td>Дегазация подкарантинной продукции</td>\n",
       "      <td>000000493</td>\n",
       "      <td>Дегазация подкарантинной продукции в контейнерах</td>\n",
       "    </tr>\n",
       "    <tr>\n",
       "      <th>278</th>\n",
       "      <td>DROP OFF FEE</td>\n",
       "      <td>ТК-008677</td>\n",
       "      <td>DROP OFF FEE</td>\n",
       "    </tr>\n",
       "    <tr>\n",
       "      <th>279</th>\n",
       "      <td>ПРР груженый опасным грузом импортный контейнер</td>\n",
       "      <td>ТК-009177</td>\n",
       "      <td>ПРР груженый опасным грузом импортный контейнер</td>\n",
       "    </tr>\n",
       "    <tr>\n",
       "      <th>280</th>\n",
       "      <td>ПРР груженого импортного контейнера</td>\n",
       "      <td>ТК-008422</td>\n",
       "      <td>Организация ПРР груженый импортный контейнер</td>\n",
       "    </tr>\n",
       "    <tr>\n",
       "      <th>281</th>\n",
       "      <td>Перемещение контейнера, выгрузка/погрузка груз...</td>\n",
       "      <td>ТК-002702</td>\n",
       "      <td>Перемещение контейнера, выгрузка/погрузка груз...</td>\n",
       "    </tr>\n",
       "  </tbody>\n",
       "</table>\n",
       "</div>"
      ],
      "text/plain": [
       "                                               service           code  \\\n",
       "277                 Дегазация подкарантинной продукции      000000493   \n",
       "278                                       DROP OFF FEE      ТК-008677   \n",
       "279    ПРР груженый опасным грузом импортный контейнер      ТК-009177   \n",
       "280                ПРР груженого импортного контейнера    ТК-008422     \n",
       "281  Перемещение контейнера, выгрузка/погрузка груз...      ТК-002702   \n",
       "\n",
       "                                               comment  \n",
       "277   Дегазация подкарантинной продукции в контейнерах  \n",
       "278                                       DROP OFF FEE  \n",
       "279    ПРР груженый опасным грузом импортный контейнер  \n",
       "280       Организация ПРР груженый импортный контейнер  \n",
       "281  Перемещение контейнера, выгрузка/погрузка груз...  "
      ]
     },
     "execution_count": 148,
     "metadata": {},
     "output_type": "execute_result"
    }
   ],
   "source": [
    "df.apply(replace_plus, axis=1)\n",
    "df.tail()"
   ]
  },
  {
   "cell_type": "code",
   "execution_count": 149,
   "id": "90168c94-21f0-4c27-8b16-6ce1c0eb58a9",
   "metadata": {},
   "outputs": [
    {
     "data": {
      "text/html": [
       "<div>\n",
       "<style scoped>\n",
       "    .dataframe tbody tr th:only-of-type {\n",
       "        vertical-align: middle;\n",
       "    }\n",
       "\n",
       "    .dataframe tbody tr th {\n",
       "        vertical-align: top;\n",
       "    }\n",
       "\n",
       "    .dataframe thead th {\n",
       "        text-align: right;\n",
       "    }\n",
       "</style>\n",
       "<table border=\"1\" class=\"dataframe\">\n",
       "  <thead>\n",
       "    <tr style=\"text-align: right;\">\n",
       "      <th></th>\n",
       "      <th>service</th>\n",
       "      <th>code</th>\n",
       "      <th>comment</th>\n",
       "    </tr>\n",
       "  </thead>\n",
       "  <tbody>\n",
       "    <tr>\n",
       "      <th>233</th>\n",
       "      <td>выставление контейнера</td>\n",
       "      <td>Т0632</td>\n",
       "      <td>Выставление контейнера и перетарка паллетизиро...</td>\n",
       "    </tr>\n",
       "    <tr>\n",
       "      <th>234</th>\n",
       "      <td>Дегазация подкарантинной продукции</td>\n",
       "      <td>000000493</td>\n",
       "      <td>Дегазация подкарантинной продукции в контейнерах</td>\n",
       "    </tr>\n",
       "    <tr>\n",
       "      <th>235</th>\n",
       "      <td>ПРР груженый опасным грузом импортный контейнер</td>\n",
       "      <td>ТК-009177</td>\n",
       "      <td>ПРР груженый опасным грузом импортный контейнер</td>\n",
       "    </tr>\n",
       "    <tr>\n",
       "      <th>236</th>\n",
       "      <td>ПРР груженого импортного контейнера</td>\n",
       "      <td>ТК-008422</td>\n",
       "      <td>Организация ПРР груженый импортный контейнер</td>\n",
       "    </tr>\n",
       "    <tr>\n",
       "      <th>237</th>\n",
       "      <td>Перемещение контейнера, выгрузка/погрузка груз...</td>\n",
       "      <td>ТК-002702</td>\n",
       "      <td>Перемещение контейнера, выгрузка/погрузка груз...</td>\n",
       "    </tr>\n",
       "  </tbody>\n",
       "</table>\n",
       "</div>"
      ],
      "text/plain": [
       "                                               service           code  \\\n",
       "233                             выставление контейнера      Т0632       \n",
       "234                 Дегазация подкарантинной продукции      000000493   \n",
       "235    ПРР груженый опасным грузом импортный контейнер      ТК-009177   \n",
       "236                ПРР груженого импортного контейнера    ТК-008422     \n",
       "237  Перемещение контейнера, выгрузка/погрузка груз...      ТК-002702   \n",
       "\n",
       "                                               comment  \n",
       "233  Выставление контейнера и перетарка паллетизиро...  \n",
       "234   Дегазация подкарантинной продукции в контейнерах  \n",
       "235    ПРР груженый опасным грузом импортный контейнер  \n",
       "236       Организация ПРР груженый импортный контейнер  \n",
       "237  Перемещение контейнера, выгрузка/погрузка груз...  "
      ]
     },
     "execution_count": 149,
     "metadata": {},
     "output_type": "execute_result"
    }
   ],
   "source": [
    "df = df.drop_duplicates().reset_index(drop=True)\n",
    "df.tail()"
   ]
  },
  {
   "cell_type": "code",
   "execution_count": 151,
   "id": "ece5fae1-eac5-4b4f-a98a-19e72aed0b6a",
   "metadata": {},
   "outputs": [],
   "source": [
    "# порядок полей\n",
    "\n",
    "df = df[['service', 'comment', 'code']]"
   ]
  },
  {
   "cell_type": "code",
   "execution_count": 152,
   "id": "0ffe8892-baf8-4233-8c04-cfc4f909703c",
   "metadata": {},
   "outputs": [],
   "source": [
    "df.to_excel(r'asdasd.xlsx')"
   ]
  },
  {
   "cell_type": "markdown",
   "id": "e4c8b8b0-e4dc-492a-967f-f20c17d6f4f5",
   "metadata": {
    "jp-MarkdownHeadingCollapsed": true
   },
   "source": [
    "### Проверка на похожие строки"
   ]
  },
  {
   "cell_type": "code",
   "execution_count": null,
   "id": "e9093a86-20a9-4f3b-a20a-da633957af7c",
   "metadata": {},
   "outputs": [],
   "source": [
    "for i in df['comment']:\n",
    "    lst = list(dict.fromkeys(df['comment'].to_list()))\n",
    "    lst.remove(i)\n",
    "    dif = difflib.get_close_matches(i, lst, n=1)\n",
    "    if dif:\n",
    "        print(i)\n",
    "        print(dif[0])\n",
    "        print('----------------------')"
   ]
  },
  {
   "cell_type": "code",
   "execution_count": null,
   "id": "7049961f-82d9-4216-94d1-6e2c2a11e9ff",
   "metadata": {},
   "outputs": [],
   "source": []
  },
  {
   "cell_type": "markdown",
   "id": "d7dd1376-0f65-4e9d-a64d-452996f32839",
   "metadata": {
    "jp-MarkdownHeadingCollapsed": true
   },
   "source": [
    "### Дополнительно"
   ]
  },
  {
   "cell_type": "code",
   "execution_count": 99,
   "id": "e682616a-c4d7-4f7b-a454-7da5572224ba",
   "metadata": {},
   "outputs": [],
   "source": [
    "grouped = df.groupby([\"service\"]).agg(com=('comment', lambda x: list(x))).reset_index()"
   ]
  },
  {
   "cell_type": "code",
   "execution_count": 105,
   "id": "92d63b36-3745-4197-bd9d-d51e7a16913d",
   "metadata": {},
   "outputs": [
    {
     "data": {
      "text/html": [
       "<div>\n",
       "<style scoped>\n",
       "    .dataframe tbody tr th:only-of-type {\n",
       "        vertical-align: middle;\n",
       "    }\n",
       "\n",
       "    .dataframe tbody tr th {\n",
       "        vertical-align: top;\n",
       "    }\n",
       "\n",
       "    .dataframe thead th {\n",
       "        text-align: right;\n",
       "    }\n",
       "</style>\n",
       "<table border=\"1\" class=\"dataframe\">\n",
       "  <thead>\n",
       "    <tr style=\"text-align: right;\">\n",
       "      <th></th>\n",
       "      <th>service</th>\n",
       "      <th>com</th>\n",
       "    </tr>\n",
       "  </thead>\n",
       "  <tbody>\n",
       "    <tr>\n",
       "      <th>23</th>\n",
       "      <td>Въезд на базу</td>\n",
       "      <td>[Чек въезд на базу, Чек на въезд]</td>\n",
       "    </tr>\n",
       "    <tr>\n",
       "      <th>29</th>\n",
       "      <td>Выявление и идентификация грибов,нематод, вред...</td>\n",
       "      <td>[Выявление и идентификация грибов,нематод, вре...</td>\n",
       "    </tr>\n",
       "    <tr>\n",
       "      <th>32</th>\n",
       "      <td>Документационные услуги</td>\n",
       "      <td>[Документационные услуги при организации ТЭО, ...</td>\n",
       "    </tr>\n",
       "    <tr>\n",
       "      <th>36</th>\n",
       "      <td>Доставка проб в лабораторию</td>\n",
       "      <td>[Доставка проб в лабораторию по заключению, До...</td>\n",
       "    </tr>\n",
       "    <tr>\n",
       "      <th>38</th>\n",
       "      <td>Железнодорожная перевозка</td>\n",
       "      <td>[Железнодорожная доставка поезд , рейс, Железн...</td>\n",
       "    </tr>\n",
       "    <tr>\n",
       "      <th>49</th>\n",
       "      <td>Комплекс терминальных услуг по прибытию контей...</td>\n",
       "      <td>[Комплекс терминальных услуг по прибытию конте...</td>\n",
       "    </tr>\n",
       "    <tr>\n",
       "      <th>56</th>\n",
       "      <td>Комплексная услуга по прибытию одного груженог...</td>\n",
       "      <td>[Комплексная услуга по прибытию одного гружено...</td>\n",
       "    </tr>\n",
       "    <tr>\n",
       "      <th>61</th>\n",
       "      <td>Лабораторная фитопатологическая экспертиза сре...</td>\n",
       "      <td>[Лабораторная фитопатологическая экспертиза ср...</td>\n",
       "    </tr>\n",
       "    <tr>\n",
       "      <th>64</th>\n",
       "      <td>Линейный фрахтовый сбор (THC)</td>\n",
       "      <td>[Линейный фрахтовый сбор (ТНС), Линейный фрахт...</td>\n",
       "    </tr>\n",
       "    <tr>\n",
       "      <th>66</th>\n",
       "      <td>Морской фрахт</td>\n",
       "      <td>[Морской фрахт , Порт_отпр, Порт_назн, Номер_к...</td>\n",
       "    </tr>\n",
       "    <tr>\n",
       "      <th>74</th>\n",
       "      <td>Определение зараженности вредителями хлебных з...</td>\n",
       "      <td>[ Определение зараженности вредителями хлебных...</td>\n",
       "    </tr>\n",
       "    <tr>\n",
       "      <th>79</th>\n",
       "      <td>Определение содержания остаточных количеств пе...</td>\n",
       "      <td>[Определение содержания микотоксинов методом И...</td>\n",
       "    </tr>\n",
       "    <tr>\n",
       "      <th>87</th>\n",
       "      <td>Организация отправки контейнера</td>\n",
       "      <td>[ Организация отправки контейнера : Морской фр...</td>\n",
       "    </tr>\n",
       "    <tr>\n",
       "      <th>97</th>\n",
       "      <td>Оформление документации</td>\n",
       "      <td>[Оформление документации: Оформление заключени...</td>\n",
       "    </tr>\n",
       "    <tr>\n",
       "      <th>98</th>\n",
       "      <td>Оформление документов</td>\n",
       "      <td>[Оформление документов (международная перевозк...</td>\n",
       "    </tr>\n",
       "    <tr>\n",
       "      <th>101</th>\n",
       "      <td>Оформление пропусков на грузовые а/м</td>\n",
       "      <td>[Оформление пропусков на грузовые а/м по т/х, ...</td>\n",
       "    </tr>\n",
       "    <tr>\n",
       "      <th>102</th>\n",
       "      <td>Оформление протокола испытаний</td>\n",
       "      <td>[Оформление протокола испытаний по заключению,...</td>\n",
       "    </tr>\n",
       "    <tr>\n",
       "      <th>106</th>\n",
       "      <td>Оформление релиз-ордера</td>\n",
       "      <td>[Услуги по оформлению релиз-ордеров, т/х, Выст...</td>\n",
       "    </tr>\n",
       "    <tr>\n",
       "      <th>114</th>\n",
       "      <td>Переадресация</td>\n",
       "      <td>[Переадресация груза по маршруту, Переадресация]</td>\n",
       "    </tr>\n",
       "    <tr>\n",
       "      <th>120</th>\n",
       "      <td>Перемещение для досмотра (шт)</td>\n",
       "      <td>[Перемещение для досмотра RUB new/Extra moves ...</td>\n",
       "    </tr>\n",
       "    <tr>\n",
       "      <th>123</th>\n",
       "      <td>Перемещение контейнера для целей осмотра с исп...</td>\n",
       "      <td>[Перемещение контейнера для целей осмотра с ис...</td>\n",
       "    </tr>\n",
       "    <tr>\n",
       "      <th>124</th>\n",
       "      <td>Перемещение контейнера для целей осмотра/досмотра</td>\n",
       "      <td>[Перемещение контейнера для целей осмотра/досм...</td>\n",
       "    </tr>\n",
       "    <tr>\n",
       "      <th>127</th>\n",
       "      <td>Печать транспортной накладной</td>\n",
       "      <td>[ Печать транспортной накладной в 3-х экземпля...</td>\n",
       "    </tr>\n",
       "    <tr>\n",
       "      <th>133</th>\n",
       "      <td>Преддиагностическая обработка средней пробы</td>\n",
       "      <td>[Преддиагностическая обработка средней пробы д...</td>\n",
       "    </tr>\n",
       "    <tr>\n",
       "      <th>152</th>\n",
       "      <td>Сверхнорм. использование контейнера</td>\n",
       "      <td>[СНП, СНП сутки, СНП сутки и далее]</td>\n",
       "    </tr>\n",
       "    <tr>\n",
       "      <th>167</th>\n",
       "      <td>Терминальная обработка</td>\n",
       "      <td>[Терминальная обработка по приёму (40' контейн...</td>\n",
       "    </tr>\n",
       "    <tr>\n",
       "      <th>169</th>\n",
       "      <td>Транспортировка груза на судне</td>\n",
       "      <td>[Транспортировка груза на судне, Транспортиров...</td>\n",
       "    </tr>\n",
       "    <tr>\n",
       "      <th>183</th>\n",
       "      <td>Услуги в области ветеринарии.Лабораторные иссл...</td>\n",
       "      <td>[Услуги в области ветеринарии (группа) / Лабор...</td>\n",
       "    </tr>\n",
       "    <tr>\n",
       "      <th>188</th>\n",
       "      <td>Услуги по организации приема вагона</td>\n",
       "      <td>[Услуги по организации приема вагона на ст. (г...</td>\n",
       "    </tr>\n",
       "    <tr>\n",
       "      <th>190</th>\n",
       "      <td>Услуги терминала по дополнительной сортировке</td>\n",
       "      <td>[Услуги терминала по дополнительной сортировке...</td>\n",
       "    </tr>\n",
       "    <tr>\n",
       "      <th>202</th>\n",
       "      <td>Экспертиза, ед</td>\n",
       "      <td>[Лабораторная энтомологическая экспертиза сред...</td>\n",
       "    </tr>\n",
       "    <tr>\n",
       "      <th>203</th>\n",
       "      <td>выдача документов</td>\n",
       "      <td>[Выдача документов, выдача документов]</td>\n",
       "    </tr>\n",
       "    <tr>\n",
       "      <th>204</th>\n",
       "      <td>выставление контейнера</td>\n",
       "      <td>[Выставление контейнера из штабеля для дополни...</td>\n",
       "    </tr>\n",
       "  </tbody>\n",
       "</table>\n",
       "</div>"
      ],
      "text/plain": [
       "                                               service  \\\n",
       "23                                       Въезд на базу   \n",
       "29   Выявление и идентификация грибов,нематод, вред...   \n",
       "32                             Документационные услуги   \n",
       "36                         Доставка проб в лабораторию   \n",
       "38                           Железнодорожная перевозка   \n",
       "49   Комплекс терминальных услуг по прибытию контей...   \n",
       "56   Комплексная услуга по прибытию одного груженог...   \n",
       "61   Лабораторная фитопатологическая экспертиза сре...   \n",
       "64                       Линейный фрахтовый сбор (THC)   \n",
       "66                                       Морской фрахт   \n",
       "74   Определение зараженности вредителями хлебных з...   \n",
       "79   Определение содержания остаточных количеств пе...   \n",
       "87                     Организация отправки контейнера   \n",
       "97                             Оформление документации   \n",
       "98                               Оформление документов   \n",
       "101              Оформление пропусков на грузовые а/м    \n",
       "102                     Оформление протокола испытаний   \n",
       "106                            Оформление релиз-ордера   \n",
       "114                                      Переадресация   \n",
       "120                      Перемещение для досмотра (шт)   \n",
       "123  Перемещение контейнера для целей осмотра с исп...   \n",
       "124  Перемещение контейнера для целей осмотра/досмотра   \n",
       "127                      Печать транспортной накладной   \n",
       "133        Преддиагностическая обработка средней пробы   \n",
       "152                Сверхнорм. использование контейнера   \n",
       "167                             Терминальная обработка   \n",
       "169                     Транспортировка груза на судне   \n",
       "183  Услуги в области ветеринарии.Лабораторные иссл...   \n",
       "188                Услуги по организации приема вагона   \n",
       "190      Услуги терминала по дополнительной сортировке   \n",
       "202                                     Экспертиза, ед   \n",
       "203                                  выдача документов   \n",
       "204                             выставление контейнера   \n",
       "\n",
       "                                                   com  \n",
       "23                   [Чек въезд на базу, Чек на въезд]  \n",
       "29   [Выявление и идентификация грибов,нематод, вре...  \n",
       "32   [Документационные услуги при организации ТЭО, ...  \n",
       "36   [Доставка проб в лабораторию по заключению, До...  \n",
       "38   [Железнодорожная доставка поезд , рейс, Железн...  \n",
       "49   [Комплекс терминальных услуг по прибытию конте...  \n",
       "56   [Комплексная услуга по прибытию одного гружено...  \n",
       "61   [Лабораторная фитопатологическая экспертиза ср...  \n",
       "64   [Линейный фрахтовый сбор (ТНС), Линейный фрахт...  \n",
       "66   [Морской фрахт , Порт_отпр, Порт_назн, Номер_к...  \n",
       "74   [ Определение зараженности вредителями хлебных...  \n",
       "79   [Определение содержания микотоксинов методом И...  \n",
       "87   [ Организация отправки контейнера : Морской фр...  \n",
       "97   [Оформление документации: Оформление заключени...  \n",
       "98   [Оформление документов (международная перевозк...  \n",
       "101  [Оформление пропусков на грузовые а/м по т/х, ...  \n",
       "102  [Оформление протокола испытаний по заключению,...  \n",
       "106  [Услуги по оформлению релиз-ордеров, т/х, Выст...  \n",
       "114   [Переадресация груза по маршруту, Переадресация]  \n",
       "120  [Перемещение для досмотра RUB new/Extra moves ...  \n",
       "123  [Перемещение контейнера для целей осмотра с ис...  \n",
       "124  [Перемещение контейнера для целей осмотра/досм...  \n",
       "127  [ Печать транспортной накладной в 3-х экземпля...  \n",
       "133  [Преддиагностическая обработка средней пробы д...  \n",
       "152                [СНП, СНП сутки, СНП сутки и далее]  \n",
       "167  [Терминальная обработка по приёму (40' контейн...  \n",
       "169  [Транспортировка груза на судне, Транспортиров...  \n",
       "183  [Услуги в области ветеринарии (группа) / Лабор...  \n",
       "188  [Услуги по организации приема вагона на ст. (г...  \n",
       "190  [Услуги терминала по дополнительной сортировке...  \n",
       "202  [Лабораторная энтомологическая экспертиза сред...  \n",
       "203             [Выдача документов, выдача документов]  \n",
       "204  [Выставление контейнера из штабеля для дополни...  "
      ]
     },
     "execution_count": 105,
     "metadata": {},
     "output_type": "execute_result"
    }
   ],
   "source": [
    "grouped[grouped['com'].apply(len) > 1]"
   ]
  },
  {
   "cell_type": "code",
   "execution_count": 106,
   "id": "ddd9fc77-f554-4e65-b843-9ec73161d09d",
   "metadata": {},
   "outputs": [
    {
     "data": {
      "text/html": [
       "<div>\n",
       "<style scoped>\n",
       "    .dataframe tbody tr th:only-of-type {\n",
       "        vertical-align: middle;\n",
       "    }\n",
       "\n",
       "    .dataframe tbody tr th {\n",
       "        vertical-align: top;\n",
       "    }\n",
       "\n",
       "    .dataframe thead th {\n",
       "        text-align: right;\n",
       "    }\n",
       "</style>\n",
       "<table border=\"1\" class=\"dataframe\">\n",
       "  <thead>\n",
       "    <tr style=\"text-align: right;\">\n",
       "      <th></th>\n",
       "      <th>service</th>\n",
       "      <th>code</th>\n",
       "      <th>comment</th>\n",
       "    </tr>\n",
       "  </thead>\n",
       "  <tbody>\n",
       "    <tr>\n",
       "      <th>136</th>\n",
       "      <td>Сверхнорм. использование контейнера</td>\n",
       "      <td>000000593</td>\n",
       "      <td>СНП</td>\n",
       "    </tr>\n",
       "    <tr>\n",
       "      <th>137</th>\n",
       "      <td>Сверхнорм. использование контейнера</td>\n",
       "      <td>000000593</td>\n",
       "      <td>СНП сутки</td>\n",
       "    </tr>\n",
       "    <tr>\n",
       "      <th>138</th>\n",
       "      <td>Сверхнорм. использование контейнера</td>\n",
       "      <td>000000593</td>\n",
       "      <td>СНП сутки и далее</td>\n",
       "    </tr>\n",
       "  </tbody>\n",
       "</table>\n",
       "</div>"
      ],
      "text/plain": [
       "                                 service       code            comment\n",
       "136  Сверхнорм. использование контейнера  000000593                СНП\n",
       "137  Сверхнорм. использование контейнера  000000593          СНП сутки\n",
       "138  Сверхнорм. использование контейнера  000000593  СНП сутки и далее"
      ]
     },
     "execution_count": 106,
     "metadata": {},
     "output_type": "execute_result"
    }
   ],
   "source": [
    "df[df['service'] == 'Сверхнорм. использование контейнера']"
   ]
  }
 ],
 "metadata": {
  "kernelspec": {
   "display_name": "Python 3 (ipykernel)",
   "language": "python",
   "name": "python3"
  },
  "language_info": {
   "codemirror_mode": {
    "name": "ipython",
    "version": 3
   },
   "file_extension": ".py",
   "mimetype": "text/x-python",
   "name": "python",
   "nbconvert_exporter": "python",
   "pygments_lexer": "ipython3",
   "version": "3.11.7"
  }
 },
 "nbformat": 4,
 "nbformat_minor": 5
}
