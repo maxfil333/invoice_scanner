{
 "cells": [
  {
   "cell_type": "code",
   "execution_count": 1,
   "id": "18fa796c-60ce-4444-b175-c48ad8e32824",
   "metadata": {},
   "outputs": [],
   "source": [
    "import os\n",
    "import difflib\n",
    "from tqdm import tqdm\n",
    "import pandas as pd\n",
    "import re\n",
    "import sys\n",
    "import json\n",
    "import base64\n",
    "import hashlib\n",
    "import requests\n",
    "from typing import Union\n",
    "from requests.auth import HTTPBasicAuth\n",
    "from requests.exceptions import HTTPError"
   ]
  },
  {
   "cell_type": "code",
   "execution_count": 2,
   "id": "700d1675-9448-4af6-a096-1882fbeb87f8",
   "metadata": {},
   "outputs": [
    {
     "data": {
      "text/plain": [
       "['C:\\\\Users\\\\Filipp\\\\PycharmProjects\\\\Invoice_scanner\\\\src',\n",
       " 'C:\\\\Users\\\\Filipp\\\\AppData\\\\Local\\\\anaconda3\\\\python311.zip',\n",
       " 'C:\\\\Users\\\\Filipp\\\\AppData\\\\Local\\\\anaconda3\\\\DLLs',\n",
       " 'C:\\\\Users\\\\Filipp\\\\AppData\\\\Local\\\\anaconda3\\\\Lib',\n",
       " 'C:\\\\Users\\\\Filipp\\\\AppData\\\\Local\\\\anaconda3',\n",
       " '',\n",
       " 'C:\\\\Users\\\\Filipp\\\\AppData\\\\Local\\\\anaconda3\\\\Lib\\\\site-packages',\n",
       " 'C:\\\\Users\\\\Filipp\\\\AppData\\\\Local\\\\anaconda3\\\\Lib\\\\site-packages\\\\win32',\n",
       " 'C:\\\\Users\\\\Filipp\\\\AppData\\\\Local\\\\anaconda3\\\\Lib\\\\site-packages\\\\win32\\\\lib',\n",
       " 'C:\\\\Users\\\\Filipp\\\\AppData\\\\Local\\\\anaconda3\\\\Lib\\\\site-packages\\\\Pythonwin',\n",
       " 'C:\\\\Users\\\\Filipp\\\\PycharmProjects\\\\Invoice_scanner']"
      ]
     },
     "execution_count": 2,
     "metadata": {},
     "output_type": "execute_result"
    }
   ],
   "source": [
    "project_path = os.path.abspath('..')\n",
    "if project_path not in sys.path:\n",
    "    sys.path.append(project_path)\n",
    "sys.path"
   ]
  },
  {
   "cell_type": "code",
   "execution_count": 3,
   "id": "e2dd9964-725c-47fe-b3e3-f02cb821939f",
   "metadata": {},
   "outputs": [
    {
     "data": {
      "text/plain": [
       "True"
      ]
     },
     "execution_count": 3,
     "metadata": {},
     "output_type": "execute_result"
    }
   ],
   "source": [
    "from config.config import config\n",
    "from dotenv import load_dotenv\n",
    "\n",
    "load_dotenv()"
   ]
  },
  {
   "cell_type": "code",
   "execution_count": 4,
   "id": "b1e7808d-26b8-473d-845e-5083b74210f2",
   "metadata": {},
   "outputs": [],
   "source": [
    "config['user_1C'] = os.getenv('user_1C')\n",
    "config['password_1C'] = os.getenv('password_1C')"
   ]
  },
  {
   "cell_type": "code",
   "execution_count": 5,
   "id": "29d0ee05-a079-4f4c-9fac-5daeadfe5980",
   "metadata": {},
   "outputs": [],
   "source": [
    "auth = HTTPBasicAuth(config['user_1C'], config['password_1C'])"
   ]
  },
  {
   "cell_type": "markdown",
   "id": "80907ee0-502a-4934-a4ae-a02e92a61373",
   "metadata": {},
   "source": [
    "### Получение списка номеров счетов"
   ]
  },
  {
   "cell_type": "code",
   "execution_count": 6,
   "id": "2739f309-bb67-4d4d-b1ca-b492537feae6",
   "metadata": {},
   "outputs": [
    {
     "name": "stdout",
     "output_type": "stream",
     "text": [
      "length: 2102\n",
      "deal_numbers: ['0С000000000000142499', '0С000000000000142511', '0С000000000000142641']\n"
     ]
    }
   ],
   "source": [
    "# Получение списка номеров счетов за период времени\n",
    "\n",
    "# месяцы 04-06 уже есть (excel от экономистов)\n",
    "# месяцы 07-08 - дообучено\n",
    "month1 = '11'\n",
    "month2 = '12'\n",
    "\n",
    "date_1 = f'01-{month1}-2024'\n",
    "date_2 = f'01-{month2}-2024'\n",
    "\n",
    "deal_numbers_list = requests.get(fr'http://10.10.0.10:81/ca/hs/interaction/InvoicesByDate/{date_1}/{date_2}', auth=auth).json()\n",
    "print(f\"length: {len(deal_numbers_list)}\")\n",
    "\n",
    "print(f\"deal_numbers: {deal_numbers_list[0:3]}\")"
   ]
  },
  {
   "cell_type": "markdown",
   "id": "0edc53a8-67ea-4524-93d0-c0586f80e9d6",
   "metadata": {},
   "source": [
    "### Получение деталей по данным счетам"
   ]
  },
  {
   "cell_type": "markdown",
   "id": "f47f1687-ce56-4239-9567-062eb53119fa",
   "metadata": {},
   "source": [
    "```\n",
    "[\n",
    "{\"СтрокиСчета\": [\"Услуга\": , \"УслугаКод\": , \"ТранспортнаяПозиция\": , \"Количество\": , \"Цена: \"], \"ФайлыСчета\": [..]},\n",
    "{\"СтрокиСчета\": [..], \"ФайлыСчета\": [..]},\n",
    "..\n",
    "]\n",
    "```"
   ]
  },
  {
   "cell_type": "code",
   "execution_count": null,
   "id": "26d18bbb-1957-4baf-bf9e-68870048c2ed",
   "metadata": {},
   "outputs": [
    {
     "name": "stderr",
     "output_type": "stream",
     "text": [
      " 17%|████████████▉                                                                | 336/2000 [20:29<1:19:04,  2.85s/it]"
     ]
    },
    {
     "name": "stdout",
     "output_type": "stream",
     "text": [
      "0С000000000000145487\n"
     ]
    },
    {
     "name": "stderr",
     "output_type": "stream",
     "text": [
      " 17%|█████████████                                                                | 338/2000 [20:35<1:21:43,  2.95s/it]"
     ]
    },
    {
     "name": "stdout",
     "output_type": "stream",
     "text": [
      "0С000000000000145489\n"
     ]
    },
    {
     "name": "stderr",
     "output_type": "stream",
     "text": [
      " 38%|█████████████████████████████▎                                               | 760/2000 [44:07<1:03:33,  3.08s/it]"
     ]
    },
    {
     "name": "stdout",
     "output_type": "stream",
     "text": [
      "0С000000000000145908\n"
     ]
    },
    {
     "name": "stderr",
     "output_type": "stream",
     "text": [
      " 46%|███████████████████████████████████▎                                         | 917/2000 [53:04<1:07:58,  3.77s/it]"
     ]
    },
    {
     "name": "stdout",
     "output_type": "stream",
     "text": [
      "0С000000000000146038\n"
     ]
    },
    {
     "name": "stderr",
     "output_type": "stream",
     "text": [
      " 49%|█████████████████████████████████████▊                                       | 983/2000 [56:47<1:10:31,  4.16s/it]"
     ]
    },
    {
     "name": "stdout",
     "output_type": "stream",
     "text": [
      "0С000000000000146155\n"
     ]
    },
    {
     "name": "stderr",
     "output_type": "stream",
     "text": [
      " 76%|█████████████████████████████████████████████████████████▍                  | 1510/2000 [1:26:53<30:36,  3.75s/it]"
     ]
    }
   ],
   "source": [
    "# Получение деталей счетов\n",
    "# ЗДЕСЬ ДОБАВИТЬ НОМЕР СЧЕТА К КАЖДОМУ СЛОВАРЮ ДЕТАЛЕЙ\n",
    "\n",
    "numbers = []\n",
    "for number in tqdm(deal_numbers_list[100:]):\n",
    "    try:\n",
    "        res = requests.get(fr'http://10.10.0.10:81/ca/hs/interaction/InvoiceDetailsByNumber/{number}', auth=auth).json()\n",
    "    except:\n",
    "        print(number)\n",
    "        continue\n",
    "    numbers.append(res)"
   ]
  },
  {
   "cell_type": "code",
   "execution_count": 8,
   "id": "d6634e8a-5256-4ad8-b76e-946546327da7",
   "metadata": {},
   "outputs": [
    {
     "data": {
      "text/plain": [
       "{'СтрокиСчета': [{'Услуга': 'Предоплата ',\n",
       "   'УслугаКод': 'ТК-004931',\n",
       "   'ТранспортнаяПозиция': 'ARKU8444548',\n",
       "   'Количество': 1,\n",
       "   'Цена': 72466.21}],\n",
       " 'ФайлыСчета': []}"
      ]
     },
     "execution_count": 8,
     "metadata": {},
     "output_type": "execute_result"
    }
   ],
   "source": [
    "numbers[0]"
   ]
  },
  {
   "cell_type": "code",
   "execution_count": 9,
   "id": "29662530-466e-45bd-a2ee-f7f1cfc95306",
   "metadata": {},
   "outputs": [],
   "source": [
    "# Запись деталей в файл\n",
    "\n",
    "file = os.path.join(config['BASE_DIR'], 'config', 'generated_services', f'result_numbers_{month1}.json')\n",
    "with open(file, 'w', encoding='utf-8') as f:\n",
    "    json.dump(numbers, f, ensure_ascii=False, indent=4)"
   ]
  },
  {
   "cell_type": "markdown",
   "id": "13d8f9bd-5e59-4968-9096-e1e1ef8389cc",
   "metadata": {},
   "source": [
    "### Фильтрация деталей"
   ]
  },
  {
   "cell_type": "code",
   "execution_count": 6,
   "id": "2f0be27b-239e-4b13-a007-4944ab2530aa",
   "metadata": {},
   "outputs": [],
   "source": [
    "# Получение списка частых услуг\n",
    "\n",
    "file = os.path.join(config['BASE_DIR'], 'config', 'freq_services.json')\n",
    "with open(file, 'r', encoding='utf-8') as f:\n",
    "    freq_services = json.load(f)\n",
    "\n",
    "\n",
    "def remove_special_characters(text):\n",
    "    response = re.sub(r'[^\\w\\s]', ' ', text.lower())\n",
    "    return re.sub(r'(\\s{2,}|\\n)', ' ', response)\n",
    "    \n",
    "freq_services = [remove_special_characters(service) for service in freq_services]"
   ]
  },
  {
   "cell_type": "code",
   "execution_count": 7,
   "id": "2a498067-3838-46f6-9d23-925c660fcf13",
   "metadata": {},
   "outputs": [],
   "source": [
    "# Определение функций очистки\n",
    "\n",
    "# hash\n",
    "\n",
    "def calculate_hash(file_path):\n",
    "    # Инициализация хэш-объекта MD5\n",
    "    md5_hash = hashlib.md5()\n",
    "\n",
    "    # Открываем файл в бинарном режиме для чтения\n",
    "    with open(file_path, \"rb\") as f:\n",
    "        # Чтение файла блоками по 4096 байт (можно настроить)\n",
    "        for byte_block in iter(lambda: f.read(4096), b\"\"):\n",
    "            md5_hash.update(byte_block)\n",
    "\n",
    "    # Возвращаем хэш-сумму в виде шестнадцатеричной строки\n",
    "    return md5_hash.hexdigest()\n",
    "\n",
    "\n",
    "def is_single_hash(lst: list[str]) -> str | None:\n",
    "    \"\"\"\n",
    "    lst: result['ФайлыСчета'] from result = requests.get(fr'http://.../InvoiceDetailsByNumber/{deal}', auth=auth).json()\n",
    "    \"\"\"\n",
    "    if not list:\n",
    "        return None\n",
    "        \n",
    "    res = [calculate_hash(file) for file in lst]\n",
    "        \n",
    "    if len(set(res)) == 1:\n",
    "        return lst[0]\n",
    "\n",
    "\n",
    "# frequent services\n",
    "\n",
    "def is_all_services_freq(lst: list, freq_services: list) -> bool:\n",
    "    \"\"\"\n",
    "    lst: result['СтрокиСчета'] from result = requests.get(fr'http://.../InvoiceDetailsByNumber/{deal}', auth=auth).json()\n",
    "    freq_services: list of frequently used services (cleared)\n",
    "    \"\"\"\n",
    "    services = [d['Услуга'] for d in lst]\n",
    "    clear_services = [remove_special_characters(service) for service in services]\n",
    "    \n",
    "    if set(clear_services).issubset(freq_services):\n",
    "        return True\n",
    "    else:\n",
    "        return False    "
   ]
  },
  {
   "cell_type": "code",
   "execution_count": 10,
   "id": "68afaed2-b1ef-4c87-a610-0cc9fa28b2c0",
   "metadata": {},
   "outputs": [
    {
     "name": "stdout",
     "output_type": "stream",
     "text": [
      "1995\n"
     ]
    }
   ],
   "source": [
    "# неотфильтрованные детали\n",
    "\n",
    "file = os.path.join(config['BASE_DIR'], 'config', 'generated_services', f'result_numbers_{month1}.json')\n",
    "with open(file, 'r', encoding='utf-8') as f:\n",
    "    result = json.load(f)\n",
    "\n",
    "print(len(result))"
   ]
  },
  {
   "cell_type": "code",
   "execution_count": 11,
   "id": "2f569b04-aa2a-40af-a876-8fb990d5f46d",
   "metadata": {},
   "outputs": [
    {
     "name": "stderr",
     "output_type": "stream",
     "text": [
      "100%|██████████████████████████████████████████████████████████████████████████████| 1995/1995 [03:47<00:00,  8.75it/s]"
     ]
    },
    {
     "name": "stdout",
     "output_type": "stream",
     "text": [
      "2100 --> 384\n"
     ]
    },
    {
     "name": "stderr",
     "output_type": "stream",
     "text": [
      "\n"
     ]
    }
   ],
   "source": [
    "# отфильтрованные детали\n",
    "\n",
    "filtered_response_list = []\n",
    "for res in tqdm(result):\n",
    "    \n",
    "    raws = res['СтрокиСчета']\n",
    "    files = res['ФайлыСчета']\n",
    "    \n",
    "    if is_all_services_freq(raws, freq_services):\n",
    "        # print('freq')\n",
    "        continue\n",
    "    if not is_single_hash(files):\n",
    "        # print('hash')\n",
    "        continue\n",
    "\n",
    "    filtered_response_list.append(res)\n",
    "\n",
    "print(f\"{len(deal_numbers_list)} --> {len(filtered_response_list)}\")"
   ]
  },
  {
   "cell_type": "code",
   "execution_count": null,
   "id": "59acfd6a-5396-4784-b441-c9fe023de77b",
   "metadata": {},
   "outputs": [],
   "source": [
    "filtered_response_list[0]"
   ]
  },
  {
   "cell_type": "code",
   "execution_count": 13,
   "id": "9a9531ba-f78b-428b-adf7-30f14238bef9",
   "metadata": {},
   "outputs": [],
   "source": [
    "# Запись отфильтрованных деталей в файл\n",
    "\n",
    "file = os.path.join(config['BASE_DIR'], 'config', 'generated_services', f'filtered_result_numbers_{month1}.json')\n",
    "with open(file, 'w', encoding='utf-8') as f:\n",
    "    json.dump(filtered_response_list, f, ensure_ascii=False, indent=4)"
   ]
  },
  {
   "cell_type": "code",
   "execution_count": 14,
   "id": "7af47a8b-59f6-434b-a6e7-78c8a8a650d2",
   "metadata": {},
   "outputs": [],
   "source": [
    "# запись предварительно отформатированных услуг в формате\n",
    "# Услуга | УслугаКод | Цена\n",
    "\n",
    "with open(os.path.join(config['BASE_DIR'], 'config', 'new_services.txt'), 'a', encoding='utf-8') as file:\n",
    "    for i, res in enumerate(filtered_response_list):\n",
    "        file.write(f'-----{i}-----\\n')\n",
    "        raws = res['СтрокиСчета']\n",
    "        files = res['ФайлыСчета']\n",
    "    \n",
    "        for raw in raws:\n",
    "            service = raw['Услуга']\n",
    "            code = raw['УслугаКод']\n",
    "            price = raw['Цена']\n",
    "            s = f\"{service}|{code}|{price}\\n\"\n",
    "            file.write(s)\n",
    "        file.write('file:\\n')\n",
    "        file.write(files[0])\n",
    "        file.write('\\n\\n')"
   ]
  },
  {
   "cell_type": "markdown",
   "id": "796ae5e1-fc47-416c-8afa-b89fe89ca217",
   "metadata": {},
   "source": [
    "... ЗАМЕНА ЦЕНЫ НА КОММЕНТАРИЙ ..."
   ]
  },
  {
   "cell_type": "markdown",
   "id": "54baf79d-d56f-4af1-8a6b-2d85dba3d115",
   "metadata": {},
   "source": [
    "### Загрузка отфильтрованного и дополненного \"комментариями\" файла"
   ]
  },
  {
   "cell_type": "code",
   "execution_count": 40,
   "id": "9b6cec77-d885-434c-8af5-b2869287e5b5",
   "metadata": {},
   "outputs": [],
   "source": [
    "with open(os.path.join(config['BASE_DIR'], 'config', 'new_services.txt'), 'r', encoding='utf-8') as file:\n",
    "    data = file.readlines()"
   ]
  },
  {
   "cell_type": "code",
   "execution_count": 41,
   "id": "7a6e9e49-0047-499b-8d2f-c7c83533534b",
   "metadata": {},
   "outputs": [],
   "source": [
    "# Удаление пустых строк из новых сервисов\n",
    "\n",
    "data = list(filter(lambda x: bool(x), map(lambda y: y.strip(), data)))"
   ]
  },
  {
   "cell_type": "code",
   "execution_count": 42,
   "id": "8ff6317a-0036-4593-b559-c825c74c318a",
   "metadata": {},
   "outputs": [],
   "source": [
    "reg_data = []\n",
    "regex = r'.*\\|.*\\|.*'\n",
    "for i in data:\n",
    "    if re.fullmatch(regex, i):\n",
    "        if not re.sub(r'\\W', '', i).isdigit():\n",
    "            reg_data.append(i)"
   ]
  },
  {
   "cell_type": "code",
   "execution_count": 43,
   "id": "da3eedac-3dc1-4cc8-8744-19470689a0c5",
   "metadata": {},
   "outputs": [
    {
     "data": {
      "text/plain": [
       "205"
      ]
     },
     "execution_count": 43,
     "metadata": {},
     "output_type": "execute_result"
    }
   ],
   "source": [
    "len(reg_data)"
   ]
  },
  {
   "cell_type": "code",
   "execution_count": 44,
   "id": "38676703-c5c2-4de6-9f6c-f17ba413299d",
   "metadata": {},
   "outputs": [],
   "source": [
    "def create_dataframe(data_list):\n",
    "    # Преобразуем список в список списков, разделяя строки по символу |\n",
    "    data_split = [item.split('|') for item in data_list]\n",
    "    \n",
    "    # Создаем DataFrame с соответствующими заголовками столбцов\n",
    "    df = pd.DataFrame(data_split, columns=['service', 'code', 'comment'])\n",
    "    \n",
    "    return df"
   ]
  },
  {
   "cell_type": "code",
   "execution_count": 45,
   "id": "e5163dac-c1bc-4d95-b7f2-7354c45689aa",
   "metadata": {},
   "outputs": [],
   "source": [
    "df = create_dataframe(reg_data)"
   ]
  },
  {
   "cell_type": "code",
   "execution_count": 46,
   "id": "c73a9550-87e6-4b00-a6fd-fe5751f1dab1",
   "metadata": {},
   "outputs": [
    {
     "data": {
      "text/html": [
       "<div>\n",
       "<style scoped>\n",
       "    .dataframe tbody tr th:only-of-type {\n",
       "        vertical-align: middle;\n",
       "    }\n",
       "\n",
       "    .dataframe tbody tr th {\n",
       "        vertical-align: top;\n",
       "    }\n",
       "\n",
       "    .dataframe thead th {\n",
       "        text-align: right;\n",
       "    }\n",
       "</style>\n",
       "<table border=\"1\" class=\"dataframe\">\n",
       "  <thead>\n",
       "    <tr style=\"text-align: right;\">\n",
       "      <th></th>\n",
       "      <th>service</th>\n",
       "      <th>code</th>\n",
       "      <th>comment</th>\n",
       "    </tr>\n",
       "  </thead>\n",
       "  <tbody>\n",
       "    <tr>\n",
       "      <th>200</th>\n",
       "      <td>Транспортно-Экспедиторское обслуживание</td>\n",
       "      <td>000000510</td>\n",
       "      <td>ранспортно-экспедиторское обслуживание По марш...</td>\n",
       "    </tr>\n",
       "    <tr>\n",
       "      <th>201</th>\n",
       "      <td>Прием и выдача грузов</td>\n",
       "      <td>Т1319</td>\n",
       "      <td>Прием и выдача грузов(прием и раскредит.по ст-...</td>\n",
       "    </tr>\n",
       "    <tr>\n",
       "      <th>202</th>\n",
       "      <td>Лабораторная энтомологическая экспертиза средн...</td>\n",
       "      <td>ТК-009110</td>\n",
       "      <td>Лабораторная энтомологическая экспертиза средн...</td>\n",
       "    </tr>\n",
       "    <tr>\n",
       "      <th>203</th>\n",
       "      <td>Просмотр для выявления семян сорных растений, ...</td>\n",
       "      <td>ТК-008932</td>\n",
       "      <td>+</td>\n",
       "    </tr>\n",
       "    <tr>\n",
       "      <th>204</th>\n",
       "      <td>Лабораторная энтомологическая экспертиза средн...</td>\n",
       "      <td>ТК-009436</td>\n",
       "      <td>Лабораторная энтомологическая экспертиза средн...</td>\n",
       "    </tr>\n",
       "  </tbody>\n",
       "</table>\n",
       "</div>"
      ],
      "text/plain": [
       "                                               service       code  \\\n",
       "200            Транспортно-Экспедиторское обслуживание  000000510   \n",
       "201                              Прием и выдача грузов  Т1319       \n",
       "202  Лабораторная энтомологическая экспертиза средн...  ТК-009110   \n",
       "203  Просмотр для выявления семян сорных растений, ...  ТК-008932   \n",
       "204  Лабораторная энтомологическая экспертиза средн...  ТК-009436   \n",
       "\n",
       "                                               comment  \n",
       "200  ранспортно-экспедиторское обслуживание По марш...  \n",
       "201  Прием и выдача грузов(прием и раскредит.по ст-...  \n",
       "202  Лабораторная энтомологическая экспертиза средн...  \n",
       "203                                                  +  \n",
       "204  Лабораторная энтомологическая экспертиза средн...  "
      ]
     },
     "execution_count": 46,
     "metadata": {},
     "output_type": "execute_result"
    }
   ],
   "source": [
    "df.tail()"
   ]
  },
  {
   "cell_type": "code",
   "execution_count": 47,
   "id": "4248de00-9234-4e1e-b254-23b163be2c4d",
   "metadata": {},
   "outputs": [],
   "source": [
    "# замена + (как в 1 в 1)\n",
    "\n",
    "def replace_plus(raw):\n",
    "    if raw['comment'] == '+':\n",
    "        raw['comment'] = raw['service']\n",
    "    return raw"
   ]
  },
  {
   "cell_type": "code",
   "execution_count": 48,
   "id": "497b8012-e5b3-479e-8e1d-2ce3efed90c4",
   "metadata": {},
   "outputs": [
    {
     "data": {
      "text/html": [
       "<div>\n",
       "<style scoped>\n",
       "    .dataframe tbody tr th:only-of-type {\n",
       "        vertical-align: middle;\n",
       "    }\n",
       "\n",
       "    .dataframe tbody tr th {\n",
       "        vertical-align: top;\n",
       "    }\n",
       "\n",
       "    .dataframe thead th {\n",
       "        text-align: right;\n",
       "    }\n",
       "</style>\n",
       "<table border=\"1\" class=\"dataframe\">\n",
       "  <thead>\n",
       "    <tr style=\"text-align: right;\">\n",
       "      <th></th>\n",
       "      <th>service</th>\n",
       "      <th>code</th>\n",
       "      <th>comment</th>\n",
       "    </tr>\n",
       "  </thead>\n",
       "  <tbody>\n",
       "    <tr>\n",
       "      <th>200</th>\n",
       "      <td>Транспортно-Экспедиторское обслуживание</td>\n",
       "      <td>000000510</td>\n",
       "      <td>ранспортно-экспедиторское обслуживание По марш...</td>\n",
       "    </tr>\n",
       "    <tr>\n",
       "      <th>201</th>\n",
       "      <td>Прием и выдача грузов</td>\n",
       "      <td>Т1319</td>\n",
       "      <td>Прием и выдача грузов(прием и раскредит.по ст-...</td>\n",
       "    </tr>\n",
       "    <tr>\n",
       "      <th>202</th>\n",
       "      <td>Лабораторная энтомологическая экспертиза средн...</td>\n",
       "      <td>ТК-009110</td>\n",
       "      <td>Лабораторная энтомологическая экспертиза средн...</td>\n",
       "    </tr>\n",
       "    <tr>\n",
       "      <th>203</th>\n",
       "      <td>Просмотр для выявления семян сорных растений, ...</td>\n",
       "      <td>ТК-008932</td>\n",
       "      <td>Просмотр для выявления семян сорных растений, ...</td>\n",
       "    </tr>\n",
       "    <tr>\n",
       "      <th>204</th>\n",
       "      <td>Лабораторная энтомологическая экспертиза средн...</td>\n",
       "      <td>ТК-009436</td>\n",
       "      <td>Лабораторная энтомологическая экспертиза средн...</td>\n",
       "    </tr>\n",
       "  </tbody>\n",
       "</table>\n",
       "</div>"
      ],
      "text/plain": [
       "                                               service       code  \\\n",
       "200            Транспортно-Экспедиторское обслуживание  000000510   \n",
       "201                              Прием и выдача грузов  Т1319       \n",
       "202  Лабораторная энтомологическая экспертиза средн...  ТК-009110   \n",
       "203  Просмотр для выявления семян сорных растений, ...  ТК-008932   \n",
       "204  Лабораторная энтомологическая экспертиза средн...  ТК-009436   \n",
       "\n",
       "                                               comment  \n",
       "200  ранспортно-экспедиторское обслуживание По марш...  \n",
       "201  Прием и выдача грузов(прием и раскредит.по ст-...  \n",
       "202  Лабораторная энтомологическая экспертиза средн...  \n",
       "203  Просмотр для выявления семян сорных растений, ...  \n",
       "204  Лабораторная энтомологическая экспертиза средн...  "
      ]
     },
     "execution_count": 48,
     "metadata": {},
     "output_type": "execute_result"
    }
   ],
   "source": [
    "df.apply(replace_plus, axis=1)\n",
    "df.tail()"
   ]
  },
  {
   "cell_type": "code",
   "execution_count": 49,
   "id": "90168c94-21f0-4c27-8b16-6ce1c0eb58a9",
   "metadata": {},
   "outputs": [
    {
     "data": {
      "text/html": [
       "<div>\n",
       "<style scoped>\n",
       "    .dataframe tbody tr th:only-of-type {\n",
       "        vertical-align: middle;\n",
       "    }\n",
       "\n",
       "    .dataframe tbody tr th {\n",
       "        vertical-align: top;\n",
       "    }\n",
       "\n",
       "    .dataframe thead th {\n",
       "        text-align: right;\n",
       "    }\n",
       "</style>\n",
       "<table border=\"1\" class=\"dataframe\">\n",
       "  <thead>\n",
       "    <tr style=\"text-align: right;\">\n",
       "      <th></th>\n",
       "      <th>service</th>\n",
       "      <th>code</th>\n",
       "      <th>comment</th>\n",
       "    </tr>\n",
       "  </thead>\n",
       "  <tbody>\n",
       "    <tr>\n",
       "      <th>171</th>\n",
       "      <td>Пломбировка грузового отсека автомобиля</td>\n",
       "      <td>ТК-009923</td>\n",
       "      <td>Пломбировка грузового отсека автомобиля</td>\n",
       "    </tr>\n",
       "    <tr>\n",
       "      <th>172</th>\n",
       "      <td>Транспортно-Экспедиторское обслуживание</td>\n",
       "      <td>000000510</td>\n",
       "      <td>ранспортно-экспедиторское обслуживание По марш...</td>\n",
       "    </tr>\n",
       "    <tr>\n",
       "      <th>173</th>\n",
       "      <td>Прием и выдача грузов</td>\n",
       "      <td>Т1319</td>\n",
       "      <td>Прием и выдача грузов(прием и раскредит.по ст-...</td>\n",
       "    </tr>\n",
       "    <tr>\n",
       "      <th>174</th>\n",
       "      <td>Лабораторная энтомологическая экспертиза средн...</td>\n",
       "      <td>ТК-009110</td>\n",
       "      <td>Лабораторная энтомологическая экспертиза средн...</td>\n",
       "    </tr>\n",
       "    <tr>\n",
       "      <th>175</th>\n",
       "      <td>Лабораторная энтомологическая экспертиза средн...</td>\n",
       "      <td>ТК-009436</td>\n",
       "      <td>Лабораторная энтомологическая экспертиза средн...</td>\n",
       "    </tr>\n",
       "  </tbody>\n",
       "</table>\n",
       "</div>"
      ],
      "text/plain": [
       "                                               service       code  \\\n",
       "171            Пломбировка грузового отсека автомобиля  ТК-009923   \n",
       "172            Транспортно-Экспедиторское обслуживание  000000510   \n",
       "173                              Прием и выдача грузов  Т1319       \n",
       "174  Лабораторная энтомологическая экспертиза средн...  ТК-009110   \n",
       "175  Лабораторная энтомологическая экспертиза средн...  ТК-009436   \n",
       "\n",
       "                                               comment  \n",
       "171            Пломбировка грузового отсека автомобиля  \n",
       "172  ранспортно-экспедиторское обслуживание По марш...  \n",
       "173  Прием и выдача грузов(прием и раскредит.по ст-...  \n",
       "174  Лабораторная энтомологическая экспертиза средн...  \n",
       "175  Лабораторная энтомологическая экспертиза средн...  "
      ]
     },
     "execution_count": 49,
     "metadata": {},
     "output_type": "execute_result"
    }
   ],
   "source": [
    "df = df.drop_duplicates().reset_index(drop=True)\n",
    "df.tail()"
   ]
  },
  {
   "cell_type": "code",
   "execution_count": 50,
   "id": "ece5fae1-eac5-4b4f-a98a-19e72aed0b6a",
   "metadata": {},
   "outputs": [],
   "source": [
    "# порядок полей\n",
    "\n",
    "df = df[['service', 'comment', 'code']]"
   ]
  },
  {
   "cell_type": "code",
   "execution_count": 52,
   "id": "9b0fc3c4-7d06-4a24-b2b6-3dc9710eeea3",
   "metadata": {},
   "outputs": [
    {
     "data": {
      "text/html": [
       "<div>\n",
       "<style scoped>\n",
       "    .dataframe tbody tr th:only-of-type {\n",
       "        vertical-align: middle;\n",
       "    }\n",
       "\n",
       "    .dataframe tbody tr th {\n",
       "        vertical-align: top;\n",
       "    }\n",
       "\n",
       "    .dataframe thead th {\n",
       "        text-align: right;\n",
       "    }\n",
       "</style>\n",
       "<table border=\"1\" class=\"dataframe\">\n",
       "  <thead>\n",
       "    <tr style=\"text-align: right;\">\n",
       "      <th></th>\n",
       "      <th>service</th>\n",
       "      <th>comment</th>\n",
       "      <th>code</th>\n",
       "    </tr>\n",
       "  </thead>\n",
       "  <tbody>\n",
       "    <tr>\n",
       "      <th>171</th>\n",
       "      <td>Пломбировка грузового отсека автомобиля</td>\n",
       "      <td>Пломбировка грузового отсека автомобиля</td>\n",
       "      <td>ТК-009923</td>\n",
       "    </tr>\n",
       "    <tr>\n",
       "      <th>172</th>\n",
       "      <td>Транспортно-Экспедиторское обслуживание</td>\n",
       "      <td>ранспортно-экспедиторское обслуживание По марш...</td>\n",
       "      <td>000000510</td>\n",
       "    </tr>\n",
       "    <tr>\n",
       "      <th>173</th>\n",
       "      <td>Прием и выдача грузов</td>\n",
       "      <td>Прием и выдача грузов(прием и раскредит.по ст-...</td>\n",
       "      <td>Т1319</td>\n",
       "    </tr>\n",
       "    <tr>\n",
       "      <th>174</th>\n",
       "      <td>Лабораторная энтомологическая экспертиза средн...</td>\n",
       "      <td>Лабораторная энтомологическая экспертиза средн...</td>\n",
       "      <td>ТК-009110</td>\n",
       "    </tr>\n",
       "    <tr>\n",
       "      <th>175</th>\n",
       "      <td>Лабораторная энтомологическая экспертиза средн...</td>\n",
       "      <td>Лабораторная энтомологическая экспертиза средн...</td>\n",
       "      <td>ТК-009436</td>\n",
       "    </tr>\n",
       "  </tbody>\n",
       "</table>\n",
       "</div>"
      ],
      "text/plain": [
       "                                               service  \\\n",
       "171            Пломбировка грузового отсека автомобиля   \n",
       "172            Транспортно-Экспедиторское обслуживание   \n",
       "173                              Прием и выдача грузов   \n",
       "174  Лабораторная энтомологическая экспертиза средн...   \n",
       "175  Лабораторная энтомологическая экспертиза средн...   \n",
       "\n",
       "                                               comment       code  \n",
       "171            Пломбировка грузового отсека автомобиля  ТК-009923  \n",
       "172  ранспортно-экспедиторское обслуживание По марш...  000000510  \n",
       "173  Прием и выдача грузов(прием и раскредит.по ст-...  Т1319      \n",
       "174  Лабораторная энтомологическая экспертиза средн...  ТК-009110  \n",
       "175  Лабораторная энтомологическая экспертиза средн...  ТК-009436  "
      ]
     },
     "execution_count": 52,
     "metadata": {},
     "output_type": "execute_result"
    }
   ],
   "source": [
    "df.tail()"
   ]
  },
  {
   "cell_type": "markdown",
   "id": "473db396-c170-41a7-84af-55cfedfcf8fe",
   "metadata": {},
   "source": [
    "### Export to Excel"
   ]
  },
  {
   "cell_type": "code",
   "execution_count": 53,
   "id": "0ffe8892-baf8-4233-8c04-cfc4f909703c",
   "metadata": {},
   "outputs": [],
   "source": [
    "df.to_excel(os.path.join(config['BASE_DIR'], 'config','generated_services.xlsx'), index=False)"
   ]
  },
  {
   "cell_type": "markdown",
   "id": "e4c8b8b0-e4dc-492a-967f-f20c17d6f4f5",
   "metadata": {
    "jp-MarkdownHeadingCollapsed": true
   },
   "source": [
    "### Проверка на похожие строки"
   ]
  },
  {
   "cell_type": "code",
   "execution_count": null,
   "id": "e9093a86-20a9-4f3b-a20a-da633957af7c",
   "metadata": {},
   "outputs": [],
   "source": [
    "for i in df['comment']:\n",
    "    lst = list(dict.fromkeys(df['comment'].to_list()))\n",
    "    lst.remove(i)\n",
    "    dif = difflib.get_close_matches(i, lst, n=1)\n",
    "    if dif:\n",
    "        print(i)\n",
    "        print(dif[0])\n",
    "        print('----------------------')"
   ]
  },
  {
   "cell_type": "code",
   "execution_count": null,
   "id": "7049961f-82d9-4216-94d1-6e2c2a11e9ff",
   "metadata": {},
   "outputs": [],
   "source": []
  },
  {
   "cell_type": "markdown",
   "id": "d7dd1376-0f65-4e9d-a64d-452996f32839",
   "metadata": {
    "jp-MarkdownHeadingCollapsed": true
   },
   "source": [
    "### Дополнительно"
   ]
  },
  {
   "cell_type": "code",
   "execution_count": null,
   "id": "e682616a-c4d7-4f7b-a454-7da5572224ba",
   "metadata": {},
   "outputs": [],
   "source": [
    "grouped = df.groupby([\"service\"]).agg(com=('comment', lambda x: list(x))).reset_index()"
   ]
  },
  {
   "cell_type": "code",
   "execution_count": null,
   "id": "92d63b36-3745-4197-bd9d-d51e7a16913d",
   "metadata": {},
   "outputs": [],
   "source": [
    "grouped[grouped['com'].apply(len) > 1]"
   ]
  },
  {
   "cell_type": "code",
   "execution_count": null,
   "id": "ddd9fc77-f554-4e65-b843-9ec73161d09d",
   "metadata": {},
   "outputs": [],
   "source": [
    "df[df['service'] == 'Сверхнорм. использование контейнера']"
   ]
  }
 ],
 "metadata": {
  "kernelspec": {
   "display_name": "Python 3 (ipykernel)",
   "language": "python",
   "name": "python3"
  },
  "language_info": {
   "codemirror_mode": {
    "name": "ipython",
    "version": 3
   },
   "file_extension": ".py",
   "mimetype": "text/x-python",
   "name": "python",
   "nbconvert_exporter": "python",
   "pygments_lexer": "ipython3",
   "version": "3.11.7"
  }
 },
 "nbformat": 4,
 "nbformat_minor": 5
}
