{
 "cells": [
  {
   "cell_type": "code",
   "execution_count": 1,
   "id": "18fa796c-60ce-4444-b175-c48ad8e32824",
   "metadata": {},
   "outputs": [],
   "source": [
    "import os\n",
    "from tqdm import tqdm\n",
    "import re\n",
    "import sys\n",
    "import json\n",
    "import base64\n",
    "import hashlib\n",
    "import requests\n",
    "from typing import Union\n",
    "from requests.auth import HTTPBasicAuth\n",
    "from requests.exceptions import HTTPError"
   ]
  },
  {
   "cell_type": "code",
   "execution_count": 2,
   "id": "700d1675-9448-4af6-a096-1882fbeb87f8",
   "metadata": {},
   "outputs": [
    {
     "data": {
      "text/plain": [
       "['C:\\\\Users\\\\Filipp\\\\PycharmProjects\\\\Invoice_scanner\\\\src',\n",
       " 'C:\\\\Users\\\\Filipp\\\\AppData\\\\Local\\\\anaconda3\\\\python311.zip',\n",
       " 'C:\\\\Users\\\\Filipp\\\\AppData\\\\Local\\\\anaconda3\\\\DLLs',\n",
       " 'C:\\\\Users\\\\Filipp\\\\AppData\\\\Local\\\\anaconda3\\\\Lib',\n",
       " 'C:\\\\Users\\\\Filipp\\\\AppData\\\\Local\\\\anaconda3',\n",
       " '',\n",
       " 'C:\\\\Users\\\\Filipp\\\\AppData\\\\Local\\\\anaconda3\\\\Lib\\\\site-packages',\n",
       " 'C:\\\\Users\\\\Filipp\\\\AppData\\\\Local\\\\anaconda3\\\\Lib\\\\site-packages\\\\win32',\n",
       " 'C:\\\\Users\\\\Filipp\\\\AppData\\\\Local\\\\anaconda3\\\\Lib\\\\site-packages\\\\win32\\\\lib',\n",
       " 'C:\\\\Users\\\\Filipp\\\\AppData\\\\Local\\\\anaconda3\\\\Lib\\\\site-packages\\\\Pythonwin',\n",
       " 'C:\\\\Users\\\\Filipp\\\\PycharmProjects\\\\Invoice_scanner']"
      ]
     },
     "execution_count": 2,
     "metadata": {},
     "output_type": "execute_result"
    }
   ],
   "source": [
    "project_path = os.path.abspath('..')\n",
    "if project_path not in sys.path:\n",
    "    sys.path.append(project_path)\n",
    "sys.path"
   ]
  },
  {
   "cell_type": "code",
   "execution_count": 3,
   "id": "e2dd9964-725c-47fe-b3e3-f02cb821939f",
   "metadata": {},
   "outputs": [],
   "source": [
    "from config.config import config"
   ]
  },
  {
   "cell_type": "code",
   "execution_count": 4,
   "id": "29d0ee05-a079-4f4c-9fac-5daeadfe5980",
   "metadata": {},
   "outputs": [],
   "source": [
    "auth = HTTPBasicAuth(config['user_1C'], config['password_1C'])"
   ]
  },
  {
   "cell_type": "markdown",
   "id": "80907ee0-502a-4934-a4ae-a02e92a61373",
   "metadata": {},
   "source": [
    "### Получение списка номером счетов; Получение деталей по данным счетам"
   ]
  },
  {
   "cell_type": "code",
   "execution_count": 5,
   "id": "2739f309-bb67-4d4d-b1ca-b492537feae6",
   "metadata": {},
   "outputs": [
    {
     "name": "stdout",
     "output_type": "stream",
     "text": [
      "length: 2002\n",
      "deal_numbers: ['0С000000000000137236', '0С000000000000138343', '0С000000000000138344']\n"
     ]
    }
   ],
   "source": [
    "# Получение списка номеров счетов за период времени\n",
    "\n",
    "# месяцы 04-06 уже есть\n",
    "month1 = '07'\n",
    "month2 = '08'\n",
    "\n",
    "date_1 = f'01-{month1}-2024'\n",
    "date_2 = f'01-{month2}-2024'\n",
    "\n",
    "deal_numbers_list = requests.get(fr'http://10.10.0.10:81/ca/hs/interaction/InvoicesByDate/{date_1}/{date_2}', auth=auth).json()\n",
    "print(f\"length: {len(deal_numbers_list)}\")\n",
    "\n",
    "print(f\"deal_numbers: {deal_numbers_list[0:3]}\")"
   ]
  },
  {
   "cell_type": "code",
   "execution_count": null,
   "id": "26d18bbb-1957-4baf-bf9e-68870048c2ed",
   "metadata": {},
   "outputs": [],
   "source": [
    "# Получение деталей счетов\n",
    "\n",
    "numbers = []\n",
    "for number in tqdm(deal_numbers_list):\n",
    "    try:\n",
    "        res = requests.get(fr'http://10.10.0.10:81/ca/hs/interaction/InvoiceDetailsByNumber/{number}', auth=auth).json()\n",
    "    except:\n",
    "        print(number)\n",
    "        continue\n",
    "    numbers.append(res)"
   ]
  },
  {
   "cell_type": "code",
   "execution_count": null,
   "id": "d6634e8a-5256-4ad8-b76e-946546327da7",
   "metadata": {},
   "outputs": [],
   "source": [
    "numbers[0]"
   ]
  },
  {
   "cell_type": "code",
   "execution_count": null,
   "id": "29662530-466e-45bd-a2ee-f7f1cfc95306",
   "metadata": {},
   "outputs": [],
   "source": [
    "# Запись деталей в файл\n",
    "\n",
    "file = os.path.join(config['BASE_DIR'], 'config', 'generated_services', f'result_numbers_{month1}.json')\n",
    "with open(file, 'w', encoding='utf-8') as f:\n",
    "    json.dump(numbers, f, ensure_ascii=False, indent=4)"
   ]
  },
  {
   "cell_type": "markdown",
   "id": "13d8f9bd-5e59-4968-9096-e1e1ef8389cc",
   "metadata": {},
   "source": [
    "### Фильтрация деталей"
   ]
  },
  {
   "cell_type": "code",
   "execution_count": 6,
   "id": "2f0be27b-239e-4b13-a007-4944ab2530aa",
   "metadata": {},
   "outputs": [],
   "source": [
    "# Получение списка частых услуг\n",
    "\n",
    "file = os.path.join(config['BASE_DIR'], 'config', 'freq_services.json')\n",
    "with open(file, 'r', encoding='utf-8') as f:\n",
    "    freq_services = json.load(f)\n",
    "\n",
    "\n",
    "def remove_special_characters(text):\n",
    "    response = re.sub(r'[^\\w\\s]', ' ', text.lower())\n",
    "    return re.sub(r'(\\s{2,}|\\n)', ' ', response)\n",
    "    \n",
    "freq_services = [remove_special_characters(service) for service in freq_services]"
   ]
  },
  {
   "cell_type": "code",
   "execution_count": 7,
   "id": "2a498067-3838-46f6-9d23-925c660fcf13",
   "metadata": {},
   "outputs": [],
   "source": [
    "# Определение функций очистки\n",
    "\n",
    "# hash\n",
    "\n",
    "def calculate_hash(file_path):\n",
    "    # Инициализация хэш-объекта MD5\n",
    "    md5_hash = hashlib.md5()\n",
    "\n",
    "    # Открываем файл в бинарном режиме для чтения\n",
    "    with open(file_path, \"rb\") as f:\n",
    "        # Чтение файла блоками по 4096 байт (можно настроить)\n",
    "        for byte_block in iter(lambda: f.read(4096), b\"\"):\n",
    "            md5_hash.update(byte_block)\n",
    "\n",
    "    # Возвращаем хэш-сумму в виде шестнадцатеричной строки\n",
    "    return md5_hash.hexdigest()\n",
    "\n",
    "\n",
    "def is_single_hash(lst: list[str]) -> str | None:\n",
    "    \"\"\"\n",
    "    lst: result['ФайлыСчета'] from result = requests.get(fr'http://.../InvoiceDetailsByNumber/{deal}', auth=auth).json()\n",
    "    \"\"\"\n",
    "    if not list:\n",
    "        return None\n",
    "        \n",
    "    res = [calculate_hash(file) for file in lst]\n",
    "        \n",
    "    if len(set(res)) == 1:\n",
    "        return lst[0]\n",
    "\n",
    "\n",
    "# frequent services\n",
    "\n",
    "def is_all_services_freq(lst: list, freq_services: list) -> bool:\n",
    "    \"\"\"\n",
    "    lst: result['СтрокиСчета'] from result = requests.get(fr'http://.../InvoiceDetailsByNumber/{deal}', auth=auth).json()\n",
    "    freq_services: list of frequently used services (cleared)\n",
    "    \"\"\"\n",
    "    services = [d['Услуга'] for d in lst]\n",
    "    clear_services = [remove_special_characters(service) for service in services]\n",
    "    \n",
    "    if set(clear_services).issubset(freq_services):\n",
    "        return True\n",
    "    else:\n",
    "        return False    "
   ]
  },
  {
   "cell_type": "code",
   "execution_count": 8,
   "id": "68afaed2-b1ef-4c87-a610-0cc9fa28b2c0",
   "metadata": {},
   "outputs": [
    {
     "name": "stdout",
     "output_type": "stream",
     "text": [
      "1963\n"
     ]
    }
   ],
   "source": [
    "file = os.path.join(config['BASE_DIR'], 'config', 'generated_services', 'result_numbers_07.json')\n",
    "with open(file, 'r', encoding='utf-8') as f:\n",
    "    result = json.load(f)\n",
    "\n",
    "print(len(result))"
   ]
  },
  {
   "cell_type": "code",
   "execution_count": null,
   "id": "2f569b04-aa2a-40af-a876-8fb990d5f46d",
   "metadata": {},
   "outputs": [],
   "source": [
    "filtered_response_list = []\n",
    "for res in tqdm(result):\n",
    "    \n",
    "    raws = res['СтрокиСчета']\n",
    "    files = res['ФайлыСчета']\n",
    "    \n",
    "    if is_all_services_freq(raws, freq_services):\n",
    "        # print('freq')\n",
    "        continue\n",
    "    if not is_single_hash(files):\n",
    "        # print('hash')\n",
    "        continue\n",
    "\n",
    "    filtered_response_list.append(res)\n",
    "\n",
    "print(f\"{len(deal_numbers_list)} --> {len(filtered_response_list)}\")"
   ]
  },
  {
   "cell_type": "code",
   "execution_count": 10,
   "id": "59acfd6a-5396-4784-b441-c9fe023de77b",
   "metadata": {},
   "outputs": [
    {
     "data": {
      "text/plain": [
       "{'СтрокиСчета': [{'Услуга': 'Терминальная обработка',\n",
       "   'УслугаКод': '000000421',\n",
       "   'ТранспортнаяПозиция': 'CICU9764876',\n",
       "   'Количество': 1,\n",
       "   'Цена': 10500}],\n",
       " 'ФайлыСчета': ['\\\\\\\\10.10.0.3\\\\docs\\\\Baltimpex\\\\Invoice\\\\Import\\\\АА-0093285\\\\T1_ОФ-00011348_71c5acb7-b8f5-4cda-b618-bd631ff0c088_СчетНаОплату.pdf']}"
      ]
     },
     "execution_count": 10,
     "metadata": {},
     "output_type": "execute_result"
    }
   ],
   "source": [
    "filtered_response_list[0]"
   ]
  },
  {
   "cell_type": "code",
   "execution_count": 11,
   "id": "9a9531ba-f78b-428b-adf7-30f14238bef9",
   "metadata": {},
   "outputs": [],
   "source": [
    "# Запись отфильтрованных деталей в файл\n",
    "\n",
    "file = os.path.join(config['BASE_DIR'], 'config', 'generated_services', f'filtered_result_numbers_{month1}.json')\n",
    "with open(file, 'w', encoding='utf-8') as f:\n",
    "    json.dump(filtered_response_list, f, ensure_ascii=False, indent=4)"
   ]
  },
  {
   "cell_type": "code",
   "execution_count": null,
   "id": "f8c85286-6517-4f88-85bd-5f7f07cf666f",
   "metadata": {},
   "outputs": [],
   "source": []
  }
 ],
 "metadata": {
  "kernelspec": {
   "display_name": "Python 3 (ipykernel)",
   "language": "python",
   "name": "python3"
  },
  "language_info": {
   "codemirror_mode": {
    "name": "ipython",
    "version": 3
   },
   "file_extension": ".py",
   "mimetype": "text/x-python",
   "name": "python",
   "nbconvert_exporter": "python",
   "pygments_lexer": "ipython3",
   "version": "3.11.7"
  }
 },
 "nbformat": 4,
 "nbformat_minor": 5
}
