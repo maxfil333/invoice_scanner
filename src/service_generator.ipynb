{
 "cells": [
  {
   "cell_type": "code",
   "execution_count": 1,
   "id": "18fa796c-60ce-4444-b175-c48ad8e32824",
   "metadata": {},
   "outputs": [],
   "source": [
    "import os\n",
    "import sys\n",
    "import base64\n",
    "import requests\n",
    "from typing import Union\n",
    "from requests.auth import HTTPBasicAuth\n",
    "from requests.exceptions import HTTPError"
   ]
  },
  {
   "cell_type": "code",
   "execution_count": 2,
   "id": "700d1675-9448-4af6-a096-1882fbeb87f8",
   "metadata": {},
   "outputs": [
    {
     "data": {
      "text/plain": [
       "['C:\\\\Users\\\\Filipp\\\\PycharmProjects\\\\Invoice_scanner\\\\src',\n",
       " 'C:\\\\Users\\\\Filipp\\\\AppData\\\\Local\\\\anaconda3\\\\python311.zip',\n",
       " 'C:\\\\Users\\\\Filipp\\\\AppData\\\\Local\\\\anaconda3\\\\DLLs',\n",
       " 'C:\\\\Users\\\\Filipp\\\\AppData\\\\Local\\\\anaconda3\\\\Lib',\n",
       " 'C:\\\\Users\\\\Filipp\\\\AppData\\\\Local\\\\anaconda3',\n",
       " '',\n",
       " 'C:\\\\Users\\\\Filipp\\\\AppData\\\\Local\\\\anaconda3\\\\Lib\\\\site-packages',\n",
       " 'C:\\\\Users\\\\Filipp\\\\AppData\\\\Local\\\\anaconda3\\\\Lib\\\\site-packages\\\\win32',\n",
       " 'C:\\\\Users\\\\Filipp\\\\AppData\\\\Local\\\\anaconda3\\\\Lib\\\\site-packages\\\\win32\\\\lib',\n",
       " 'C:\\\\Users\\\\Filipp\\\\AppData\\\\Local\\\\anaconda3\\\\Lib\\\\site-packages\\\\Pythonwin',\n",
       " 'C:\\\\Users\\\\Filipp\\\\PycharmProjects\\\\Invoice_scanner']"
      ]
     },
     "execution_count": 2,
     "metadata": {},
     "output_type": "execute_result"
    }
   ],
   "source": [
    "project_path = os.path.abspath('..')\n",
    "if project_path not in sys.path:\n",
    "    sys.path.append(project_path)\n",
    "sys.path"
   ]
  },
  {
   "cell_type": "code",
   "execution_count": 3,
   "id": "e2dd9964-725c-47fe-b3e3-f02cb821939f",
   "metadata": {},
   "outputs": [],
   "source": [
    "from config.config import config"
   ]
  },
  {
   "cell_type": "code",
   "execution_count": 4,
   "id": "29d0ee05-a079-4f4c-9fac-5daeadfe5980",
   "metadata": {},
   "outputs": [],
   "source": [
    "auth = HTTPBasicAuth(config['user_1C'], config['password_1C'])"
   ]
  },
  {
   "cell_type": "markdown",
   "id": "80907ee0-502a-4934-a4ae-a02e92a61373",
   "metadata": {},
   "source": [
    "### test functions"
   ]
  },
  {
   "cell_type": "code",
   "execution_count": 5,
   "id": "2739f309-bb67-4d4d-b1ca-b492537feae6",
   "metadata": {},
   "outputs": [
    {
     "data": {
      "text/plain": [
       "587"
      ]
     },
     "execution_count": 5,
     "metadata": {},
     "output_type": "execute_result"
    }
   ],
   "source": [
    "deal_numbers_list = requests.get(r'http://10.10.0.10:81/ca/hs/interaction/InvoicesByDate/01-10-2024/10-10-2024', auth=auth).json()\n",
    "len(deal_numbers_list)"
   ]
  },
  {
   "cell_type": "code",
   "execution_count": 6,
   "id": "16a7fe28-6c04-42de-972c-df92f42fafca",
   "metadata": {},
   "outputs": [
    {
     "data": {
      "text/plain": [
       "['0С000000000000143272',\n",
       " '0С000000000000143273',\n",
       " '0С000000000000143282',\n",
       " '0С000000000000143283',\n",
       " '0С000000000000143329']"
      ]
     },
     "execution_count": 6,
     "metadata": {},
     "output_type": "execute_result"
    }
   ],
   "source": [
    "deal_numbers_list[0:5]"
   ]
  },
  {
   "cell_type": "code",
   "execution_count": 37,
   "id": "63d8bc58-a160-483e-9493-29542c5ab8fc",
   "metadata": {},
   "outputs": [
    {
     "name": "stdout",
     "output_type": "stream",
     "text": [
      "0С000000000000143272\n"
     ]
    }
   ],
   "source": [
    "deal = deal_numbers_list[0]\n",
    "print(deal)\n",
    "\n",
    "res = requests.get(fr'http://10.10.0.10:81/ca/hs/interaction/InvoiceDetailsByNumber/{deal}', auth=auth).json()"
   ]
  },
  {
   "cell_type": "code",
   "execution_count": 38,
   "id": "7aa96fe3-941a-4a11-a8c5-80f5b194027b",
   "metadata": {},
   "outputs": [
    {
     "data": {
      "text/plain": [
       "['СтрокиСчета', 'ФайлыСчета']"
      ]
     },
     "execution_count": 38,
     "metadata": {},
     "output_type": "execute_result"
    }
   ],
   "source": [
    "list(res)"
   ]
  },
  {
   "cell_type": "code",
   "execution_count": 43,
   "id": "bb4938ee-3b90-49f9-bd2c-6dbfaa9fa013",
   "metadata": {},
   "outputs": [
    {
     "data": {
      "text/plain": [
       "[{'Услуга': 'Организация автотранспортной перевозки',\n",
       "  'УслугаКод': '000000190',\n",
       "  'ТранспортнаяПозиция': 'SEGU9857890',\n",
       "  'Количество': 1,\n",
       "  'Цена': 12000},\n",
       " {'Услуга': 'Организация автотранспортной перевозки',\n",
       "  'УслугаКод': '000000190',\n",
       "  'ТранспортнаяПозиция': 'FOHU2060420',\n",
       "  'Количество': 1,\n",
       "  'Цена': 12000}]"
      ]
     },
     "execution_count": 43,
     "metadata": {},
     "output_type": "execute_result"
    }
   ],
   "source": [
    "res['СтрокиСчета'][0:2]"
   ]
  },
  {
   "cell_type": "code",
   "execution_count": 44,
   "id": "226df766-9407-48c1-9d28-2c85497b98c1",
   "metadata": {},
   "outputs": [
    {
     "data": {
      "text/plain": [
       "['\\\\\\\\10.10.0.3\\\\docs\\\\Baltimpex\\\\Invoice\\\\TR\\\\Import\\\\НОВ-119410\\\\Счет поставщика\\\\сч 81 от 01.10 Гаспарян ИП 01.10.2024.pdf',\n",
       " '\\\\\\\\10.10.0.3\\\\docs\\\\Baltimpex\\\\Invoice\\\\TR\\\\Import\\\\НОВ-119438\\\\Счет поставщика\\\\сч 81 от 01.10 Гаспарян ИП 01.10.2024.pdf']"
      ]
     },
     "execution_count": 44,
     "metadata": {},
     "output_type": "execute_result"
    }
   ],
   "source": [
    "res['ФайлыСчета'][0:2]"
   ]
  },
  {
   "cell_type": "code",
   "execution_count": 55,
   "id": "b1de4c90-b4cd-40a0-97dc-0b37e5aecbc6",
   "metadata": {},
   "outputs": [],
   "source": [
    "import hashlib\n",
    "\n",
    "\n",
    "def calculate_hash(file_path):\n",
    "    # Инициализация хэш-объекта MD5\n",
    "    md5_hash = hashlib.md5()\n",
    "\n",
    "    # Открываем файл в бинарном режиме для чтения\n",
    "    with open(file_path, \"rb\") as f:\n",
    "        # Чтение файла блоками по 4096 байт (можно настроить)\n",
    "        for byte_block in iter(lambda: f.read(4096), b\"\"):\n",
    "            md5_hash.update(byte_block)\n",
    "\n",
    "    # Возвращаем хэш-сумму в виде шестнадцатеричной строки\n",
    "    return md5_hash.hexdigest()\n",
    "\n",
    "\n",
    "def is_single_hash(lst: list[str]) -> str | None:\n",
    "    if not list:\n",
    "        return None\n",
    "        \n",
    "    res = [calculate_hash(file) for file in lst]\n",
    "        \n",
    "    if len(set(res)) == 1:\n",
    "        return lst[0]"
   ]
  },
  {
   "cell_type": "code",
   "execution_count": 56,
   "id": "f86b7332-9ac5-4f6c-b503-82ab23652b00",
   "metadata": {},
   "outputs": [
    {
     "data": {
      "text/plain": [
       "'\\\\\\\\10.10.0.3\\\\docs\\\\Baltimpex\\\\Invoice\\\\TR\\\\Import\\\\НОВ-119410\\\\Счет поставщика\\\\сч 81 от 01.10 Гаспарян ИП 01.10.2024.pdf'"
      ]
     },
     "execution_count": 56,
     "metadata": {},
     "output_type": "execute_result"
    }
   ],
   "source": [
    "is_single_hash(res['ФайлыСчета'])"
   ]
  },
  {
   "cell_type": "code",
   "execution_count": 68,
   "id": "9d4b8259-8349-4525-ab33-569ccf6d492b",
   "metadata": {},
   "outputs": [],
   "source": [
    "import re\n",
    "import json\n",
    "\n",
    "\n",
    "file = os.path.join(config['BASE_DIR'], 'config', 'freq_services.json')\n",
    "with open(file, 'r', encoding='utf-8') as f:\n",
    "    freq_services = json.load(f)\n",
    "\n",
    "\n",
    "def remove_special_characters(text):\n",
    "    response = re.sub(r'[^\\w\\s]', ' ', text.lower())\n",
    "    return re.sub(r'(\\s{2,}|\\n)', ' ', response)\n",
    "    \n",
    "freq_services = [remove_special_characters(service) for service in freq_services]"
   ]
  },
  {
   "cell_type": "code",
   "execution_count": 69,
   "id": "a7511796-9f32-4ee1-b5f7-926c8a939105",
   "metadata": {},
   "outputs": [],
   "source": [
    "def is_all_services_freq(lst: list, freq_services: list) -> bool:\n",
    "    \"\"\"\n",
    "    lst: result['СтрокиСчета'] from result = requests.get(fr'http://.../InvoiceDetailsByNumber/{deal}', auth=auth).json()\n",
    "    freq_services: list of frequently used services (cleared)\n",
    "    \"\"\"\n",
    "    services = [d['Услуга'] for d in lst]\n",
    "    clear_services = [remove_special_characters(service) for service in services]\n",
    "    \n",
    "    if set(clear_services).issubset(freq_services):\n",
    "        return True\n",
    "    else:\n",
    "        return False    "
   ]
  },
  {
   "cell_type": "code",
   "execution_count": 66,
   "id": "e43f4b55-13b4-4509-9e80-68659a276866",
   "metadata": {},
   "outputs": [],
   "source": []
  },
  {
   "cell_type": "code",
   "execution_count": 67,
   "id": "47023a84-06fd-480f-b2c6-4f008052c404",
   "metadata": {},
   "outputs": [
    {
     "data": {
      "text/plain": [
       "True"
      ]
     },
     "execution_count": 67,
     "metadata": {},
     "output_type": "execute_result"
    }
   ],
   "source": [
    "a.issubset(b)"
   ]
  },
  {
   "cell_type": "code",
   "execution_count": 70,
   "id": "a750de9e-cdd9-49f6-b326-6430b13e5a8b",
   "metadata": {},
   "outputs": [
    {
     "data": {
      "text/plain": [
       "['проведение экспертной оценки в целях фитосанитарной экспертизы и установления фитосанитарного состояния подкарантинной продукции',\n",
       " 'экспертиза ед',\n",
       " 'тэо по организации погрузочно разгрузочных работ',\n",
       " 'разрешение на использование контейнеров на территории рф',\n",
       " 'документационные услуги',\n",
       " 'оформление заключения о карантинном фитосанитарном состоянии',\n",
       " 'доставка проб в лабораторию',\n",
       " 'оформление протокола испытаний',\n",
       " 'тэо по организации хранения контейнеров на терминале',\n",
       " 'страховая премия',\n",
       " 'тэо по организации перемещения контейнера в рамках досмотровых операций',\n",
       " 'сюрвейерская инспекция груза',\n",
       " 'лабораторные исследования товара',\n",
       " 'перевалка назем транспортное средство контейнер исо 20 40 груженый импорт ',\n",
       " 'услуга платежного агента по сбору и перечислению сумм причитающихся принципалу',\n",
       " 'дегазация подкарантинной продукции в морском контейнере 40 футов',\n",
       " 'оформление результатов',\n",
       " 'сбор за оформление и выдачу грузовых документов',\n",
       " 'оформление пропусков на грузовые а м',\n",
       " 'документационный сбор за коносамент',\n",
       " 'организация терминальной обработки',\n",
       " 'организация релиз ордера за контейнер',\n",
       " 'лабораторная энтомологическая экспертиза',\n",
       " 'срочное выполнение заказа',\n",
       " 'оформление протокола исследований',\n",
       " 'оформление заключения карантинном фитосанитарном состоянии подкарантинной продукции',\n",
       " 'организация перемещения контейнера на складе для таможенного осмотра досмотра на территории порта',\n",
       " 'комплексная услуга по приему груженого универсального контейнера по железной дороге',\n",
       " 'организация хранения 40 футовых рефрижераторных контейнеров подключенных к электросети порта',\n",
       " 'страхование груза',\n",
       " 'хранение груза выгруженного с судна на температурном складе порта']"
      ]
     },
     "execution_count": 70,
     "metadata": {},
     "output_type": "execute_result"
    }
   ],
   "source": [
    "freq_services"
   ]
  },
  {
   "cell_type": "code",
   "execution_count": null,
   "id": "f64d18f7-311d-45fe-a78f-a06c1fbdfcaf",
   "metadata": {},
   "outputs": [],
   "source": []
  }
 ],
 "metadata": {
  "kernelspec": {
   "display_name": "Python 3 (ipykernel)",
   "language": "python",
   "name": "python3"
  },
  "language_info": {
   "codemirror_mode": {
    "name": "ipython",
    "version": 3
   },
   "file_extension": ".py",
   "mimetype": "text/x-python",
   "name": "python",
   "nbconvert_exporter": "python",
   "pygments_lexer": "ipython3",
   "version": "3.11.7"
  }
 },
 "nbformat": 4,
 "nbformat_minor": 5
}
