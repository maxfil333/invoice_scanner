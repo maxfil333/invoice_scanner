{
 "cells": [
  {
   "cell_type": "code",
   "execution_count": 1,
   "id": "1c8833d4-a2ba-4da4-8391-552cc09c1908",
   "metadata": {},
   "outputs": [],
   "source": [
    "# pip install xlrd\n",
    "\n",
    "import sys \n",
    "import os\n",
    "import pandas as pd\n",
    "import re"
   ]
  },
  {
   "cell_type": "code",
   "execution_count": 2,
   "id": "a44cb8ac-ab7c-4870-bb36-eb0bf648415f",
   "metadata": {},
   "outputs": [
    {
     "data": {
      "text/plain": [
       "['C:\\\\Users\\\\Filipp\\\\PycharmProjects\\\\Invoice_scanner\\\\src',\n",
       " 'C:\\\\Users\\\\Filipp\\\\AppData\\\\Local\\\\anaconda3\\\\python311.zip',\n",
       " 'C:\\\\Users\\\\Filipp\\\\AppData\\\\Local\\\\anaconda3\\\\DLLs',\n",
       " 'C:\\\\Users\\\\Filipp\\\\AppData\\\\Local\\\\anaconda3\\\\Lib',\n",
       " 'C:\\\\Users\\\\Filipp\\\\AppData\\\\Local\\\\anaconda3',\n",
       " '',\n",
       " 'C:\\\\Users\\\\Filipp\\\\AppData\\\\Local\\\\anaconda3\\\\Lib\\\\site-packages',\n",
       " 'C:\\\\Users\\\\Filipp\\\\AppData\\\\Local\\\\anaconda3\\\\Lib\\\\site-packages\\\\win32',\n",
       " 'C:\\\\Users\\\\Filipp\\\\AppData\\\\Local\\\\anaconda3\\\\Lib\\\\site-packages\\\\win32\\\\lib',\n",
       " 'C:\\\\Users\\\\Filipp\\\\AppData\\\\Local\\\\anaconda3\\\\Lib\\\\site-packages\\\\Pythonwin',\n",
       " 'C:\\\\Users\\\\Filipp\\\\PycharmProjects\\\\Invoice_scanner']"
      ]
     },
     "execution_count": 2,
     "metadata": {},
     "output_type": "execute_result"
    }
   ],
   "source": [
    "project_path = os.path.abspath('..')\n",
    "if project_path not in sys.path:\n",
    "    sys.path.append(project_path)\n",
    "sys.path"
   ]
  },
  {
   "cell_type": "code",
   "execution_count": 3,
   "id": "7062e6ec-1b7b-4d8d-bfa8-2c53211a859e",
   "metadata": {},
   "outputs": [],
   "source": [
    "from config.config import config"
   ]
  },
  {
   "cell_type": "code",
   "execution_count": 4,
   "id": "5df1ea5f-fcaa-4d67-b091-4ec03504fe12",
   "metadata": {},
   "outputs": [
    {
     "data": {
      "text/plain": [
       "(10608, 7)"
      ]
     },
     "execution_count": 4,
     "metadata": {},
     "output_type": "execute_result"
    }
   ],
   "source": [
    "df = pd.read_excel(config['services_excel_file'])\n",
    "df.shape"
   ]
  },
  {
   "cell_type": "code",
   "execution_count": 5,
   "id": "6ebd995d-ee21-433a-92f4-63865178ae38",
   "metadata": {},
   "outputs": [
    {
     "data": {
      "text/plain": [
       "(10608, 5)"
      ]
     },
     "execution_count": 5,
     "metadata": {},
     "output_type": "execute_result"
    }
   ],
   "source": [
    "# удаление и переименование\n",
    "\n",
    "df = df.drop([\"Ссылка.Автор.SAMAccount name\", \"Контрагент\"], axis=1)\n",
    "df.columns = ['link', 'bustype', 'service', 'comment', 'code']\n",
    "df.shape"
   ]
  },
  {
   "cell_type": "code",
   "execution_count": 6,
   "id": "a9b4d357-f8cc-4ed4-94fd-0859179400ec",
   "metadata": {},
   "outputs": [],
   "source": [
    "# преобразование в строку, замена переноса строк на пробел, удаление повторяющихся пробелов \n",
    "\n",
    "for col in df.columns:\n",
    "    df[col] = df[col].apply(lambda x: str(x).replace('\\n', ' ').strip())\n",
    "    df[col] = df[col].apply(lambda x: re.sub(r' {2,}', ' ', x).strip())"
   ]
  },
  {
   "cell_type": "code",
   "execution_count": 7,
   "id": "f15ff448-a616-4c60-a06b-fc11be81c579",
   "metadata": {},
   "outputs": [],
   "source": [
    "# замена \"1 в 1\"\n",
    "\n",
    "def replace1in1(row):\n",
    "    if row['comment'] == '1 в 1':\n",
    "        return row['service']\n",
    "    else:\n",
    "        return row['comment']\n",
    "\n",
    "df['comment'] = df.apply(replace1in1, axis=1)"
   ]
  },
  {
   "cell_type": "code",
   "execution_count": 8,
   "id": "1fb9c753-92a1-4ff8-a69b-23b02a33d2c8",
   "metadata": {},
   "outputs": [
    {
     "data": {
      "text/html": [
       "<div>\n",
       "<style scoped>\n",
       "    .dataframe tbody tr th:only-of-type {\n",
       "        vertical-align: middle;\n",
       "    }\n",
       "\n",
       "    .dataframe tbody tr th {\n",
       "        vertical-align: top;\n",
       "    }\n",
       "\n",
       "    .dataframe thead th {\n",
       "        text-align: right;\n",
       "    }\n",
       "</style>\n",
       "<table border=\"1\" class=\"dataframe\">\n",
       "  <thead>\n",
       "    <tr style=\"text-align: right;\">\n",
       "      <th></th>\n",
       "      <th>link</th>\n",
       "      <th>bustype</th>\n",
       "      <th>service</th>\n",
       "      <th>comment</th>\n",
       "      <th>code</th>\n",
       "    </tr>\n",
       "  </thead>\n",
       "  <tbody>\n",
       "    <tr>\n",
       "      <th>count</th>\n",
       "      <td>10370</td>\n",
       "      <td>10370</td>\n",
       "      <td>10370</td>\n",
       "      <td>10370</td>\n",
       "      <td>10370</td>\n",
       "    </tr>\n",
       "    <tr>\n",
       "      <th>unique</th>\n",
       "      <td>4000</td>\n",
       "      <td>2</td>\n",
       "      <td>525</td>\n",
       "      <td>519</td>\n",
       "      <td>533</td>\n",
       "    </tr>\n",
       "    <tr>\n",
       "      <th>top</th>\n",
       "      <td>Счет Поставщика 0С000000000000133258 от 22.04....</td>\n",
       "      <td>Логистика</td>\n",
       "      <td>Организация автотранспортной перевозки</td>\n",
       "      <td>Счета авто. Грузятся по реестрам.</td>\n",
       "      <td>190</td>\n",
       "    </tr>\n",
       "    <tr>\n",
       "      <th>freq</th>\n",
       "      <td>50</td>\n",
       "      <td>8468</td>\n",
       "      <td>1776</td>\n",
       "      <td>1864</td>\n",
       "      <td>1642</td>\n",
       "    </tr>\n",
       "  </tbody>\n",
       "</table>\n",
       "</div>"
      ],
      "text/plain": [
       "                                                     link    bustype  \\\n",
       "count                                               10370      10370   \n",
       "unique                                               4000          2   \n",
       "top     Счет Поставщика 0С000000000000133258 от 22.04....  Логистика   \n",
       "freq                                                   50       8468   \n",
       "\n",
       "                                       service  \\\n",
       "count                                    10370   \n",
       "unique                                     525   \n",
       "top     Организация автотранспортной перевозки   \n",
       "freq                                      1776   \n",
       "\n",
       "                                  comment   code  \n",
       "count                               10370  10370  \n",
       "unique                                519    533  \n",
       "top     Счета авто. Грузятся по реестрам.    190  \n",
       "freq                                 1864   1642  "
      ]
     },
     "execution_count": 8,
     "metadata": {},
     "output_type": "execute_result"
    }
   ],
   "source": [
    "df.describe()"
   ]
  },
  {
   "cell_type": "code",
   "execution_count": 8,
   "id": "b2d0df38-8510-409a-b38d-77b4d93fc7af",
   "metadata": {},
   "outputs": [
    {
     "data": {
      "text/html": [
       "<div>\n",
       "<style scoped>\n",
       "    .dataframe tbody tr th:only-of-type {\n",
       "        vertical-align: middle;\n",
       "    }\n",
       "\n",
       "    .dataframe tbody tr th {\n",
       "        vertical-align: top;\n",
       "    }\n",
       "\n",
       "    .dataframe thead th {\n",
       "        text-align: right;\n",
       "    }\n",
       "</style>\n",
       "<table border=\"1\" class=\"dataframe\">\n",
       "  <thead>\n",
       "    <tr style=\"text-align: right;\">\n",
       "      <th></th>\n",
       "      <th>link</th>\n",
       "      <th>bustype</th>\n",
       "      <th>service</th>\n",
       "      <th>comment</th>\n",
       "      <th>code</th>\n",
       "    </tr>\n",
       "  </thead>\n",
       "  <tbody>\n",
       "    <tr>\n",
       "      <th>count</th>\n",
       "      <td>10608</td>\n",
       "      <td>10608</td>\n",
       "      <td>10608</td>\n",
       "      <td>10608</td>\n",
       "      <td>10608</td>\n",
       "    </tr>\n",
       "    <tr>\n",
       "      <th>unique</th>\n",
       "      <td>4001</td>\n",
       "      <td>3</td>\n",
       "      <td>584</td>\n",
       "      <td>671</td>\n",
       "      <td>601</td>\n",
       "    </tr>\n",
       "    <tr>\n",
       "      <th>top</th>\n",
       "      <td>nan</td>\n",
       "      <td>Логистика</td>\n",
       "      <td>Организация автотранспортной перевозки</td>\n",
       "      <td>Счета авто. Грузятся по реестрам.</td>\n",
       "      <td>190</td>\n",
       "    </tr>\n",
       "    <tr>\n",
       "      <th>freq</th>\n",
       "      <td>238</td>\n",
       "      <td>8468</td>\n",
       "      <td>1776</td>\n",
       "      <td>1864</td>\n",
       "      <td>1642</td>\n",
       "    </tr>\n",
       "  </tbody>\n",
       "</table>\n",
       "</div>"
      ],
      "text/plain": [
       "         link    bustype                                 service  \\\n",
       "count   10608      10608                                   10608   \n",
       "unique   4001          3                                     584   \n",
       "top       nan  Логистика  Организация автотранспортной перевозки   \n",
       "freq      238       8468                                    1776   \n",
       "\n",
       "                                  comment   code  \n",
       "count                               10608  10608  \n",
       "unique                                671    601  \n",
       "top     Счета авто. Грузятся по реестрам.    190  \n",
       "freq                                 1864   1642  "
      ]
     },
     "execution_count": 8,
     "metadata": {},
     "output_type": "execute_result"
    }
   ],
   "source": [
    "df.describe()"
   ]
  },
  {
   "cell_type": "code",
   "execution_count": 9,
   "id": "7e97d35d-811c-4d70-88fc-82fc86001a4f",
   "metadata": {},
   "outputs": [
    {
     "data": {
      "text/plain": [
       "(10608, 5)"
      ]
     },
     "execution_count": 9,
     "metadata": {},
     "output_type": "execute_result"
    }
   ],
   "source": [
    "df.shape"
   ]
  },
  {
   "cell_type": "markdown",
   "id": "a5d51c3b-bbf9-408e-b83d-bc74091a811c",
   "metadata": {},
   "source": [
    "### Экспорт списка наиболе часто встречающихся \"Услуг\" "
   ]
  },
  {
   "cell_type": "code",
   "execution_count": 10,
   "id": "85786313-32be-4725-bbf9-08184cac7681",
   "metadata": {},
   "outputs": [
    {
     "data": {
      "text/plain": [
       "service\n",
       "Организация автотранспортной перевозки                                                                                              1776\n",
       "Информационные услуги (импортный груз)                                                                                               313\n",
       "Оказание сопутствующих транспортно-экспедиционных услуг при организации международной перевозки                                      215\n",
       "Проведение экспертной оценки в целях фитосанитарной экспертизы и установления фитосанитарного состояния подкарантинной продукции     197\n",
       "Экспертиза, ед                                                                                                                       181\n",
       "                                                                                                                                    ... \n",
       "Комплект деревянных поддонов                                                                                                          29\n",
       "Транспортно-экспедиционные услуги по организации международной перевозки (конт.)                                                      28\n",
       "Организация хранения контейнеров на контейнерном терминале                                                                            27\n",
       "Транспортировка груза на судне                                                                                                        26\n",
       "термоиндикатор                                                                                                                        26\n",
       "Name: count, Length: 79, dtype: int64"
      ]
     },
     "execution_count": 10,
     "metadata": {},
     "output_type": "execute_result"
    }
   ],
   "source": [
    "service_counts = df['service'].value_counts()\n",
    "\n",
    "filtered_services = service_counts[service_counts > 25]\n",
    "filtered_services"
   ]
  },
  {
   "cell_type": "code",
   "execution_count": 11,
   "id": "b9c69673-2094-46bc-86fa-6d5c00070dd7",
   "metadata": {},
   "outputs": [],
   "source": [
    "import json \n",
    "\n",
    "file = os.path.join(config['BASE_DIR'], 'config', 'freq_services.json')\n",
    "with open(file, 'w', encoding='utf-8') as f:\n",
    "    json.dump(filtered_services.index.to_list(), f, ensure_ascii=False, indent=4)"
   ]
  },
  {
   "cell_type": "markdown",
   "id": "4e9a2210-28c0-4afa-8bb1-5ea9c8ebba7c",
   "metadata": {},
   "source": [
    "### Удаление транспортных позиций"
   ]
  },
  {
   "cell_type": "code",
   "execution_count": 12,
   "id": "f09f4f1e-ce0a-45b0-9421-38e043150fd9",
   "metadata": {},
   "outputs": [
    {
     "name": "stdout",
     "output_type": "stream",
     "text": [
      "['счета авто грузятся по реестрам', 'услуги грузятся автоматически', 'счета авто ']\n"
     ]
    }
   ],
   "source": [
    "def remove_special_characters(text):\n",
    "    response = re.sub(r'[^\\w\\s]', ' ', text.lower())\n",
    "    return re.sub(r'(\\s{2,}|\\n)', ' ', response)\n",
    "\n",
    "excluded = ['счета авто грузятся по реестрам', 'услуги грузятся автоматически', 'Счета авто. ']\n",
    "excluded = [remove_special_characters(x) for x in excluded]\n",
    "print(excluded)"
   ]
  },
  {
   "cell_type": "code",
   "execution_count": 13,
   "id": "8b102724-8795-4fa8-aed3-b59558432597",
   "metadata": {},
   "outputs": [
    {
     "data": {
      "text/plain": [
       "(7189, 5)"
      ]
     },
     "execution_count": 13,
     "metadata": {},
     "output_type": "execute_result"
    }
   ],
   "source": [
    "df['comment_cleaned'] = df['comment'].apply(remove_special_characters)\n",
    "df = df[~df['comment_cleaned'].str.strip().isin(excluded)]\n",
    "df = df.drop('comment_cleaned', axis=1)\n",
    "df.shape"
   ]
  },
  {
   "cell_type": "code",
   "execution_count": 14,
   "id": "a3f2ac9e-73f8-40d9-ad67-86e9ca84e1e9",
   "metadata": {},
   "outputs": [
    {
     "data": {
      "text/html": [
       "<div>\n",
       "<style scoped>\n",
       "    .dataframe tbody tr th:only-of-type {\n",
       "        vertical-align: middle;\n",
       "    }\n",
       "\n",
       "    .dataframe tbody tr th {\n",
       "        vertical-align: top;\n",
       "    }\n",
       "\n",
       "    .dataframe thead th {\n",
       "        text-align: right;\n",
       "    }\n",
       "</style>\n",
       "<table border=\"1\" class=\"dataframe\">\n",
       "  <thead>\n",
       "    <tr style=\"text-align: right;\">\n",
       "      <th></th>\n",
       "      <th>link</th>\n",
       "      <th>bustype</th>\n",
       "      <th>service</th>\n",
       "      <th>comment</th>\n",
       "      <th>code</th>\n",
       "    </tr>\n",
       "  </thead>\n",
       "  <tbody>\n",
       "    <tr>\n",
       "      <th>count</th>\n",
       "      <td>7189</td>\n",
       "      <td>7189</td>\n",
       "      <td>7189</td>\n",
       "      <td>7189</td>\n",
       "      <td>7189</td>\n",
       "    </tr>\n",
       "    <tr>\n",
       "      <th>unique</th>\n",
       "      <td>2495</td>\n",
       "      <td>3</td>\n",
       "      <td>564</td>\n",
       "      <td>669</td>\n",
       "      <td>578</td>\n",
       "    </tr>\n",
       "    <tr>\n",
       "      <th>top</th>\n",
       "      <td>nan</td>\n",
       "      <td>Логистика</td>\n",
       "      <td>Проведение экспертной оценки в целях фитосанит...</td>\n",
       "      <td>услуга русс.яз для акта</td>\n",
       "      <td>ТК-003254</td>\n",
       "    </tr>\n",
       "    <tr>\n",
       "      <th>freq</th>\n",
       "      <td>238</td>\n",
       "      <td>5049</td>\n",
       "      <td>197</td>\n",
       "      <td>325</td>\n",
       "      <td>197</td>\n",
       "    </tr>\n",
       "  </tbody>\n",
       "</table>\n",
       "</div>"
      ],
      "text/plain": [
       "        link    bustype                                            service  \\\n",
       "count   7189       7189                                               7189   \n",
       "unique  2495          3                                                564   \n",
       "top      nan  Логистика  Проведение экспертной оценки в целях фитосанит...   \n",
       "freq     238       5049                                                197   \n",
       "\n",
       "                        comment       code  \n",
       "count                      7189       7189  \n",
       "unique                      669        578  \n",
       "top     услуга русс.яз для акта  ТК-003254  \n",
       "freq                        325        197  "
      ]
     },
     "execution_count": 14,
     "metadata": {},
     "output_type": "execute_result"
    }
   ],
   "source": [
    "df.describe()"
   ]
  },
  {
   "cell_type": "markdown",
   "id": "7ab0f359-10cf-4ba6-8781-6866bf7388ad",
   "metadata": {},
   "source": [
    "### Удаление позиций \"услуга русс. яз для акта\""
   ]
  },
  {
   "cell_type": "code",
   "execution_count": 15,
   "id": "6f3cacb2-4604-48fc-a95c-87bc2c8b96bb",
   "metadata": {},
   "outputs": [
    {
     "name": "stdout",
     "output_type": "stream",
     "text": [
      "['услуга русс яз для акта']\n"
     ]
    }
   ],
   "source": [
    "excluded = ['услуга русс.яз для акта']\n",
    "excluded = [remove_special_characters(x) for x in excluded]\n",
    "print(excluded)"
   ]
  },
  {
   "cell_type": "code",
   "execution_count": 16,
   "id": "6ceeceb7-63c9-4790-ba14-eae5be5936e6",
   "metadata": {},
   "outputs": [
    {
     "data": {
      "text/plain": [
       "(6856, 5)"
      ]
     },
     "execution_count": 16,
     "metadata": {},
     "output_type": "execute_result"
    }
   ],
   "source": [
    "df['comment_cleaned'] = df['comment'].apply(remove_special_characters)\n",
    "df = df[~df['comment_cleaned'].str.strip().isin(excluded)]\n",
    "df = df.drop('comment_cleaned', axis=1)\n",
    "df.shape"
   ]
  },
  {
   "cell_type": "markdown",
   "id": "072acf51-1e70-42ef-8e0c-aa35db902f7e",
   "metadata": {
    "jp-MarkdownHeadingCollapsed": true
   },
   "source": [
    "### Количество различных комментариев в одной услуге"
   ]
  },
  {
   "cell_type": "code",
   "execution_count": null,
   "id": "e9cceaad-2fad-444b-b67f-a1c48c6f7ba5",
   "metadata": {
    "scrolled": true
   },
   "outputs": [],
   "source": [
    "uniq_services = df.groupby(['service']).agg(num_comments=('comment', 'count'), uniq_comments=('comment', 'nunique')).reset_index()\n",
    "uniq_services.tail()"
   ]
  },
  {
   "cell_type": "code",
   "execution_count": null,
   "id": "e760cb18-1d82-4a9c-956e-1988abee106f",
   "metadata": {
    "scrolled": true
   },
   "outputs": [],
   "source": [
    "uniq_services.query(\"uniq_comments > 1\")"
   ]
  },
  {
   "cell_type": "markdown",
   "id": "ff621736-a689-4d2d-8c64-d15947986248",
   "metadata": {
    "jp-MarkdownHeadingCollapsed": true
   },
   "source": [
    "### Количество различных услуг в одном комментарии"
   ]
  },
  {
   "cell_type": "code",
   "execution_count": null,
   "id": "b9634d26-a1f8-4f59-b3c9-ba3f4f75a0bc",
   "metadata": {
    "scrolled": true
   },
   "outputs": [],
   "source": [
    "uniq_comments = df.groupby(['comment']).agg(num_services=('service', 'count'), uniq_services=('service', 'nunique')).reset_index()\n",
    "uniq_comments.tail()"
   ]
  },
  {
   "cell_type": "code",
   "execution_count": null,
   "id": "69ca7172-9c6c-4c4d-b288-37f90c116d7c",
   "metadata": {
    "scrolled": true
   },
   "outputs": [],
   "source": [
    "uniq_comments.query(\"uniq_services > 1\")"
   ]
  },
  {
   "cell_type": "markdown",
   "id": "712ada69-2737-407f-83aa-ea745c73c806",
   "metadata": {
    "jp-MarkdownHeadingCollapsed": true
   },
   "source": [
    "### Услуги с двумя и более кодами"
   ]
  },
  {
   "cell_type": "code",
   "execution_count": null,
   "id": "328eb08e-8331-42c9-8060-da768e429169",
   "metadata": {},
   "outputs": [],
   "source": [
    "service_code_counts = df.groupby('service')['code'].nunique()\n",
    "\n",
    "services_with_multiple_codes = service_code_counts[service_code_counts > 1]\n",
    "services_with_multiple_codes"
   ]
  },
  {
   "cell_type": "code",
   "execution_count": null,
   "id": "3510aebd-63fe-44f1-b885-db9de806bb5c",
   "metadata": {},
   "outputs": [],
   "source": [
    "grouped = df[df['service'].isin(services_with_multiple_codes.index)].groupby(['service', 'code']).size().reset_index(name='count')\n",
    "display(grouped)\n",
    "\n",
    "idx = grouped.groupby('service')['count'].idxmin()\n",
    "min_count_code = grouped.loc[idx]\n",
    "display(min_count_code)"
   ]
  },
  {
   "cell_type": "code",
   "execution_count": null,
   "id": "6b7c3d5b-40dc-4924-92d5-b8f06c2e1c37",
   "metadata": {},
   "outputs": [],
   "source": [
    "df_ = df[~df['code'].isin(min_count_code.code)]"
   ]
  },
  {
   "cell_type": "code",
   "execution_count": null,
   "id": "efac7ce8-8768-404f-9cca-422995beabe1",
   "metadata": {},
   "outputs": [],
   "source": [
    "df_.describe()"
   ]
  },
  {
   "cell_type": "markdown",
   "id": "8aefe99d-0f35-4a87-9c5f-d78e02bc6748",
   "metadata": {},
   "source": [
    "### Группировка"
   ]
  },
  {
   "cell_type": "code",
   "execution_count": 17,
   "id": "b10b96ca-c210-45ec-a356-9877af55be68",
   "metadata": {},
   "outputs": [],
   "source": [
    "# old\n",
    "\n",
    "# grouped_comment = df.groupby(['comment']).agg(\n",
    "#     service_list=('service', lambda x: list(dict.fromkeys(x))),\n",
    "#     codelist = ('code', lambda x: list(dict.fromkeys(x)))\n",
    "# ).reset_index()\n",
    "# grouped_comment['len_service'] = grouped_comment['service_list'].apply(len)\n",
    "# grouped_comment['id'] = list(range(1, grouped_comment.shape[0]+1))"
   ]
  },
  {
   "cell_type": "code",
   "execution_count": 17,
   "id": "7e913549-e0b7-4b11-91c4-d43fa61129b1",
   "metadata": {},
   "outputs": [
    {
     "data": {
      "text/html": [
       "<div>\n",
       "<style scoped>\n",
       "    .dataframe tbody tr th:only-of-type {\n",
       "        vertical-align: middle;\n",
       "    }\n",
       "\n",
       "    .dataframe tbody tr th {\n",
       "        vertical-align: top;\n",
       "    }\n",
       "\n",
       "    .dataframe thead th {\n",
       "        text-align: right;\n",
       "    }\n",
       "</style>\n",
       "<table border=\"1\" class=\"dataframe\">\n",
       "  <thead>\n",
       "    <tr style=\"text-align: right;\">\n",
       "      <th></th>\n",
       "      <th>comment</th>\n",
       "      <th>service</th>\n",
       "      <th>code</th>\n",
       "    </tr>\n",
       "  </thead>\n",
       "  <tbody>\n",
       "    <tr>\n",
       "      <th>38</th>\n",
       "      <td>Оформление результатов</td>\n",
       "      <td>Оформление результатов</td>\n",
       "      <td>ТК-009509</td>\n",
       "    </tr>\n",
       "    <tr>\n",
       "      <th>39</th>\n",
       "      <td>Дегазация подкарантинной продукции в морском к...</td>\n",
       "      <td>Дегазация подкарантинной продукции в морском к...</td>\n",
       "      <td>ТК-009507</td>\n",
       "    </tr>\n",
       "    <tr>\n",
       "      <th>40</th>\n",
       "      <td>1 Изучение представленных документов 2 Оформле...</td>\n",
       "      <td>Лабораторные исследования товара</td>\n",
       "      <td>ТК-008940</td>\n",
       "    </tr>\n",
       "    <tr>\n",
       "      <th>41</th>\n",
       "      <td>1 Анализ и первичная экспертиза подкарантинной...</td>\n",
       "      <td>Лабораторные исследования товара</td>\n",
       "      <td>ТК-008940</td>\n",
       "    </tr>\n",
       "    <tr>\n",
       "      <th>42</th>\n",
       "      <td>Комплекс услуг: электронное уведомление о приб...</td>\n",
       "      <td>Комплекс услуг: электронное уведомление о приб...</td>\n",
       "      <td>ТК-008270</td>\n",
       "    </tr>\n",
       "  </tbody>\n",
       "</table>\n",
       "</div>"
      ],
      "text/plain": [
       "                                              comment  \\\n",
       "38                             Оформление результатов   \n",
       "39  Дегазация подкарантинной продукции в морском к...   \n",
       "40  1 Изучение представленных документов 2 Оформле...   \n",
       "41  1 Анализ и первичная экспертиза подкарантинной...   \n",
       "42  Комплекс услуг: электронное уведомление о приб...   \n",
       "\n",
       "                                              service       code  \n",
       "38                             Оформление результатов  ТК-009509  \n",
       "39  Дегазация подкарантинной продукции в морском к...  ТК-009507  \n",
       "40                   Лабораторные исследования товара  ТК-008940  \n",
       "41                   Лабораторные исследования товара  ТК-008940  \n",
       "42  Комплекс услуг: электронное уведомление о приб...  ТК-008270  "
      ]
     },
     "execution_count": 17,
     "metadata": {},
     "output_type": "execute_result"
    }
   ],
   "source": [
    "df[['comment', 'service', 'code']].head()"
   ]
  },
  {
   "cell_type": "code",
   "execution_count": 18,
   "id": "68d15917-da2d-4975-9440-ef6f74d4c118",
   "metadata": {},
   "outputs": [
    {
     "data": {
      "text/html": [
       "<div>\n",
       "<style scoped>\n",
       "    .dataframe tbody tr th:only-of-type {\n",
       "        vertical-align: middle;\n",
       "    }\n",
       "\n",
       "    .dataframe tbody tr th {\n",
       "        vertical-align: top;\n",
       "    }\n",
       "\n",
       "    .dataframe thead th {\n",
       "        text-align: right;\n",
       "    }\n",
       "</style>\n",
       "<table border=\"1\" class=\"dataframe\">\n",
       "  <thead>\n",
       "    <tr style=\"text-align: right;\">\n",
       "      <th></th>\n",
       "      <th>comment</th>\n",
       "      <th>service_list</th>\n",
       "      <th>code_list</th>\n",
       "      <th>len_service</th>\n",
       "      <th>id</th>\n",
       "    </tr>\n",
       "  </thead>\n",
       "  <tbody>\n",
       "    <tr>\n",
       "      <th>0</th>\n",
       "      <td>1 Анализ и первичная экспертиза подкарантинной...</td>\n",
       "      <td>[Лабораторные исследования товара]</td>\n",
       "      <td>[ТК-008940]</td>\n",
       "      <td>1</td>\n",
       "      <td>0</td>\n",
       "    </tr>\n",
       "    <tr>\n",
       "      <th>1</th>\n",
       "      <td>1 Изучение представленных документов 2 Оформле...</td>\n",
       "      <td>[Лабораторные исследования товара]</td>\n",
       "      <td>[ТК-008940]</td>\n",
       "      <td>1</td>\n",
       "      <td>1</td>\n",
       "    </tr>\n",
       "    <tr>\n",
       "      <th>2</th>\n",
       "      <td>20-футовый контейнер - перевалка груженого кон...</td>\n",
       "      <td>[20-футовый контейнер - перевалка груженого ко...</td>\n",
       "      <td>[ТК-009698]</td>\n",
       "      <td>1</td>\n",
       "      <td>2</td>\n",
       "    </tr>\n",
       "    <tr>\n",
       "      <th>3</th>\n",
       "      <td>20-футовый контейнер - перемещение груженого к...</td>\n",
       "      <td>[20-футовый контейнер - перемещение груженого ...</td>\n",
       "      <td>[ТК-009699]</td>\n",
       "      <td>1</td>\n",
       "      <td>3</td>\n",
       "    </tr>\n",
       "    <tr>\n",
       "      <th>4</th>\n",
       "      <td>3410</td>\n",
       "      <td>[Выдача контейнера: Контейнер ИСО 20'/40' груж...</td>\n",
       "      <td>[ТК-009528]</td>\n",
       "      <td>1</td>\n",
       "      <td>4</td>\n",
       "    </tr>\n",
       "  </tbody>\n",
       "</table>\n",
       "</div>"
      ],
      "text/plain": [
       "                                             comment  \\\n",
       "0  1 Анализ и первичная экспертиза подкарантинной...   \n",
       "1  1 Изучение представленных документов 2 Оформле...   \n",
       "2  20-футовый контейнер - перевалка груженого кон...   \n",
       "3  20-футовый контейнер - перемещение груженого к...   \n",
       "4                                               3410   \n",
       "\n",
       "                                        service_list    code_list  \\\n",
       "0                 [Лабораторные исследования товара]  [ТК-008940]   \n",
       "1                 [Лабораторные исследования товара]  [ТК-008940]   \n",
       "2  [20-футовый контейнер - перевалка груженого ко...  [ТК-009698]   \n",
       "3  [20-футовый контейнер - перемещение груженого ...  [ТК-009699]   \n",
       "4  [Выдача контейнера: Контейнер ИСО 20'/40' груж...  [ТК-009528]   \n",
       "\n",
       "   len_service  id  \n",
       "0            1   0  \n",
       "1            1   1  \n",
       "2            1   2  \n",
       "3            1   3  \n",
       "4            1   4  "
      ]
     },
     "execution_count": 18,
     "metadata": {},
     "output_type": "execute_result"
    }
   ],
   "source": [
    "def custom_agg(group):\n",
    "    service = list(group['service'])\n",
    "    code = list(group['code'])\n",
    "    service_code_zip = list(dict.fromkeys(zip(service, code)))\n",
    "    service_list, code_list = zip(*service_code_zip)\n",
    "\n",
    "    return pd.Series({'service_list': list(service_list), 'code_list': list(code_list)})\n",
    "\n",
    "grouped_comment = df.groupby(['comment']).apply(custom_agg).reset_index()\n",
    "grouped_comment['len_service'] = grouped_comment['service_list'].apply(len)\n",
    "grouped_comment['id'] = list(range(grouped_comment.shape[0]))\n",
    "\n",
    "grouped_comment.head()"
   ]
  },
  {
   "cell_type": "code",
   "execution_count": 19,
   "id": "e514f015-eaaf-498e-ab5c-497e1d77b4eb",
   "metadata": {},
   "outputs": [],
   "source": [
    "error = \"Длина service_list всегда должна быть равна длине code_list\"\n",
    "\n",
    "assert grouped_comment[grouped_comment['service_list'].apply(len) != grouped_comment['code_list'].apply(len)].size == 0, error"
   ]
  },
  {
   "cell_type": "code",
   "execution_count": 20,
   "id": "b2f299f9-aab5-4c5b-809d-7b29ec3ef23f",
   "metadata": {},
   "outputs": [
    {
     "data": {
      "text/html": [
       "<div>\n",
       "<style scoped>\n",
       "    .dataframe tbody tr th:only-of-type {\n",
       "        vertical-align: middle;\n",
       "    }\n",
       "\n",
       "    .dataframe tbody tr th {\n",
       "        vertical-align: top;\n",
       "    }\n",
       "\n",
       "    .dataframe thead th {\n",
       "        text-align: right;\n",
       "    }\n",
       "</style>\n",
       "<table border=\"1\" class=\"dataframe\">\n",
       "  <thead>\n",
       "    <tr style=\"text-align: right;\">\n",
       "      <th></th>\n",
       "      <th>comment</th>\n",
       "      <th>service_list</th>\n",
       "      <th>code_list</th>\n",
       "      <th>len_service</th>\n",
       "      <th>id</th>\n",
       "    </tr>\n",
       "  </thead>\n",
       "  <tbody>\n",
       "    <tr>\n",
       "      <th>514</th>\n",
       "      <td>Транспортно-экспедиторские услуги ТрансКонтейнер</td>\n",
       "      <td>[Транспортно-экспедиторские услуги (шт), Погру...</td>\n",
       "      <td>[ТК-003562, ТК-005882, ТК-004317, ТК-009584, Т...</td>\n",
       "      <td>6</td>\n",
       "      <td>514</td>\n",
       "    </tr>\n",
       "  </tbody>\n",
       "</table>\n",
       "</div>"
      ],
      "text/plain": [
       "                                              comment  \\\n",
       "514  Транспортно-экспедиторские услуги ТрансКонтейнер   \n",
       "\n",
       "                                          service_list  \\\n",
       "514  [Транспортно-экспедиторские услуги (шт), Погру...   \n",
       "\n",
       "                                             code_list  len_service   id  \n",
       "514  [ТК-003562, ТК-005882, ТК-004317, ТК-009584, Т...            6  514  "
      ]
     },
     "metadata": {},
     "output_type": "display_data"
    },
    {
     "data": {
      "text/plain": [
       "[['Транспортно-экспедиторские услуги (шт)',\n",
       "  'Погрузо-разгрузочные работы',\n",
       "  'Досмотр',\n",
       "  'Перетарка ручная',\n",
       "  'Хранение (сут)',\n",
       "  'Замена пломбы']]"
      ]
     },
     "metadata": {},
     "output_type": "display_data"
    },
    {
     "data": {
      "text/plain": [
       "[['ТК-003562', 'ТК-005882', 'ТК-004317', 'ТК-009584', 'Т00000332', 'Т1510']]"
      ]
     },
     "metadata": {},
     "output_type": "display_data"
    },
    {
     "data": {
      "text/plain": [
       "True"
      ]
     },
     "metadata": {},
     "output_type": "display_data"
    }
   ],
   "source": [
    "z = grouped_comment[grouped_comment[\"comment\"] == \"Транспортно-экспедиторские услуги ТрансКонтейнер\"]\n",
    "display(z)\n",
    "display(z['service_list'].to_list())\n",
    "display(z['code_list'].to_list())\n",
    "display(len(z['service_list'].to_list()) == len(z['code_list'].to_list()))"
   ]
  },
  {
   "cell_type": "code",
   "execution_count": 21,
   "id": "ac67943d-5b2d-4316-8bea-c1063301038c",
   "metadata": {},
   "outputs": [
    {
     "data": {
      "text/plain": [
       "(667, 5)"
      ]
     },
     "execution_count": 21,
     "metadata": {},
     "output_type": "execute_result"
    }
   ],
   "source": [
    "grouped_comment.shape"
   ]
  },
  {
   "cell_type": "code",
   "execution_count": 22,
   "id": "bfd0734e-3652-4bfe-aef9-dc19fc6875f0",
   "metadata": {},
   "outputs": [
    {
     "data": {
      "text/html": [
       "<div>\n",
       "<style scoped>\n",
       "    .dataframe tbody tr th:only-of-type {\n",
       "        vertical-align: middle;\n",
       "    }\n",
       "\n",
       "    .dataframe tbody tr th {\n",
       "        vertical-align: top;\n",
       "    }\n",
       "\n",
       "    .dataframe thead th {\n",
       "        text-align: right;\n",
       "    }\n",
       "</style>\n",
       "<table border=\"1\" class=\"dataframe\">\n",
       "  <thead>\n",
       "    <tr style=\"text-align: right;\">\n",
       "      <th></th>\n",
       "      <th>comment</th>\n",
       "      <th>service_list</th>\n",
       "      <th>code_list</th>\n",
       "      <th>len_service</th>\n",
       "      <th>id</th>\n",
       "      <th>service_code</th>\n",
       "    </tr>\n",
       "  </thead>\n",
       "  <tbody>\n",
       "    <tr>\n",
       "      <th>0</th>\n",
       "      <td>1 Анализ и первичная экспертиза подкарантинной...</td>\n",
       "      <td>[Лабораторные исследования товара]</td>\n",
       "      <td>[ТК-008940]</td>\n",
       "      <td>1</td>\n",
       "      <td>0</td>\n",
       "      <td>[Лабораторные исследования товара#ТК-008940#]</td>\n",
       "    </tr>\n",
       "    <tr>\n",
       "      <th>1</th>\n",
       "      <td>1 Изучение представленных документов 2 Оформле...</td>\n",
       "      <td>[Лабораторные исследования товара]</td>\n",
       "      <td>[ТК-008940]</td>\n",
       "      <td>1</td>\n",
       "      <td>1</td>\n",
       "      <td>[Лабораторные исследования товара#ТК-008940#]</td>\n",
       "    </tr>\n",
       "    <tr>\n",
       "      <th>2</th>\n",
       "      <td>20-футовый контейнер - перевалка груженого кон...</td>\n",
       "      <td>[20-футовый контейнер - перевалка груженого ко...</td>\n",
       "      <td>[ТК-009698]</td>\n",
       "      <td>1</td>\n",
       "      <td>2</td>\n",
       "      <td>[20-футовый контейнер - перевалка груженого ко...</td>\n",
       "    </tr>\n",
       "    <tr>\n",
       "      <th>3</th>\n",
       "      <td>20-футовый контейнер - перемещение груженого к...</td>\n",
       "      <td>[20-футовый контейнер - перемещение груженого ...</td>\n",
       "      <td>[ТК-009699]</td>\n",
       "      <td>1</td>\n",
       "      <td>3</td>\n",
       "      <td>[20-футовый контейнер - перемещение груженого ...</td>\n",
       "    </tr>\n",
       "    <tr>\n",
       "      <th>4</th>\n",
       "      <td>3410</td>\n",
       "      <td>[Выдача контейнера: Контейнер ИСО 20'/40' груж...</td>\n",
       "      <td>[ТК-009528]</td>\n",
       "      <td>1</td>\n",
       "      <td>4</td>\n",
       "      <td>[Выдача контейнера: Контейнер ИСО 20'/40' груж...</td>\n",
       "    </tr>\n",
       "    <tr>\n",
       "      <th>...</th>\n",
       "      <td>...</td>\n",
       "      <td>...</td>\n",
       "      <td>...</td>\n",
       "      <td>...</td>\n",
       "      <td>...</td>\n",
       "      <td>...</td>\n",
       "    </tr>\n",
       "    <tr>\n",
       "      <th>662</th>\n",
       "      <td>хранение 20фут. контейнера импорт</td>\n",
       "      <td>[Хранение, хранение 20фут. контейнера импорт, ...</td>\n",
       "      <td>[307, ТК-008308, Т00000332]</td>\n",
       "      <td>3</td>\n",
       "      <td>662</td>\n",
       "      <td>[Хранение#307#, хранение 20фут. контейнера имп...</td>\n",
       "    </tr>\n",
       "    <tr>\n",
       "      <th>663</th>\n",
       "      <td>хранение 20фут. контейнера импорт с 9-х суток</td>\n",
       "      <td>[Хранение]</td>\n",
       "      <td>[ТК-000473]</td>\n",
       "      <td>1</td>\n",
       "      <td>663</td>\n",
       "      <td>[Хранение#ТК-000473#]</td>\n",
       "    </tr>\n",
       "    <tr>\n",
       "      <th>664</th>\n",
       "      <td>хранение 40фут. контейнера импорт</td>\n",
       "      <td>[Хранение контейнера]</td>\n",
       "      <td>[Т0464]</td>\n",
       "      <td>1</td>\n",
       "      <td>664</td>\n",
       "      <td>[Хранение контейнера#Т0464#]</td>\n",
       "    </tr>\n",
       "    <tr>\n",
       "      <th>665</th>\n",
       "      <td>хранение 40фут. контейнера импорт контейнера и...</td>\n",
       "      <td>[Хранение]</td>\n",
       "      <td>[307]</td>\n",
       "      <td>1</td>\n",
       "      <td>665</td>\n",
       "      <td>[Хранение#307#]</td>\n",
       "    </tr>\n",
       "    <tr>\n",
       "      <th>666</th>\n",
       "      <td>хранение контейнера импорт</td>\n",
       "      <td>[Хранение контейнера]</td>\n",
       "      <td>[Т0464]</td>\n",
       "      <td>1</td>\n",
       "      <td>666</td>\n",
       "      <td>[Хранение контейнера#Т0464#]</td>\n",
       "    </tr>\n",
       "  </tbody>\n",
       "</table>\n",
       "<p>667 rows × 6 columns</p>\n",
       "</div>"
      ],
      "text/plain": [
       "                                               comment  \\\n",
       "0    1 Анализ и первичная экспертиза подкарантинной...   \n",
       "1    1 Изучение представленных документов 2 Оформле...   \n",
       "2    20-футовый контейнер - перевалка груженого кон...   \n",
       "3    20-футовый контейнер - перемещение груженого к...   \n",
       "4                                                 3410   \n",
       "..                                                 ...   \n",
       "662                  хранение 20фут. контейнера импорт   \n",
       "663      хранение 20фут. контейнера импорт с 9-х суток   \n",
       "664                  хранение 40фут. контейнера импорт   \n",
       "665  хранение 40фут. контейнера импорт контейнера и...   \n",
       "666                         хранение контейнера импорт   \n",
       "\n",
       "                                          service_list  \\\n",
       "0                   [Лабораторные исследования товара]   \n",
       "1                   [Лабораторные исследования товара]   \n",
       "2    [20-футовый контейнер - перевалка груженого ко...   \n",
       "3    [20-футовый контейнер - перемещение груженого ...   \n",
       "4    [Выдача контейнера: Контейнер ИСО 20'/40' груж...   \n",
       "..                                                 ...   \n",
       "662  [Хранение, хранение 20фут. контейнера импорт, ...   \n",
       "663                                         [Хранение]   \n",
       "664                              [Хранение контейнера]   \n",
       "665                                         [Хранение]   \n",
       "666                              [Хранение контейнера]   \n",
       "\n",
       "                       code_list  len_service   id  \\\n",
       "0                    [ТК-008940]            1    0   \n",
       "1                    [ТК-008940]            1    1   \n",
       "2                    [ТК-009698]            1    2   \n",
       "3                    [ТК-009699]            1    3   \n",
       "4                    [ТК-009528]            1    4   \n",
       "..                           ...          ...  ...   \n",
       "662  [307, ТК-008308, Т00000332]            3  662   \n",
       "663                  [ТК-000473]            1  663   \n",
       "664                      [Т0464]            1  664   \n",
       "665                        [307]            1  665   \n",
       "666                      [Т0464]            1  666   \n",
       "\n",
       "                                          service_code  \n",
       "0        [Лабораторные исследования товара#ТК-008940#]  \n",
       "1        [Лабораторные исследования товара#ТК-008940#]  \n",
       "2    [20-футовый контейнер - перевалка груженого ко...  \n",
       "3    [20-футовый контейнер - перемещение груженого ...  \n",
       "4    [Выдача контейнера: Контейнер ИСО 20'/40' груж...  \n",
       "..                                                 ...  \n",
       "662  [Хранение#307#, хранение 20фут. контейнера имп...  \n",
       "663                              [Хранение#ТК-000473#]  \n",
       "664                       [Хранение контейнера#Т0464#]  \n",
       "665                                    [Хранение#307#]  \n",
       "666                       [Хранение контейнера#Т0464#]  \n",
       "\n",
       "[667 rows x 6 columns]"
      ]
     },
     "execution_count": 22,
     "metadata": {},
     "output_type": "execute_result"
    }
   ],
   "source": [
    "# Функция для создания строки формата 'service_list#code_list#'\n",
    "\n",
    "def create_service_code_string(row):\n",
    "    return [f\"{s}#{c}#\" for s, c in zip(row['service_list'], row['code_list'])]\n",
    "\n",
    "# Применение функции ко всем строкам с помощью apply\n",
    "grouped_comment['service_code'] = grouped_comment.apply(create_service_code_string, axis=1)\n",
    "grouped_comment"
   ]
  },
  {
   "cell_type": "code",
   "execution_count": 23,
   "id": "dd1ccc61-afda-4476-b68e-144d1b31a04d",
   "metadata": {},
   "outputs": [
    {
     "data": {
      "text/html": [
       "<div>\n",
       "<style scoped>\n",
       "    .dataframe tbody tr th:only-of-type {\n",
       "        vertical-align: middle;\n",
       "    }\n",
       "\n",
       "    .dataframe tbody tr th {\n",
       "        vertical-align: top;\n",
       "    }\n",
       "\n",
       "    .dataframe thead th {\n",
       "        text-align: right;\n",
       "    }\n",
       "</style>\n",
       "<table border=\"1\" class=\"dataframe\">\n",
       "  <thead>\n",
       "    <tr style=\"text-align: right;\">\n",
       "      <th></th>\n",
       "      <th>id</th>\n",
       "      <th>comment</th>\n",
       "      <th>service_code</th>\n",
       "    </tr>\n",
       "  </thead>\n",
       "  <tbody>\n",
       "    <tr>\n",
       "      <th>0</th>\n",
       "      <td>0</td>\n",
       "      <td>1 Анализ и первичная экспертиза подкарантинной...</td>\n",
       "      <td>[Лабораторные исследования товара#ТК-008940#]</td>\n",
       "    </tr>\n",
       "    <tr>\n",
       "      <th>1</th>\n",
       "      <td>1</td>\n",
       "      <td>1 Изучение представленных документов 2 Оформле...</td>\n",
       "      <td>[Лабораторные исследования товара#ТК-008940#]</td>\n",
       "    </tr>\n",
       "    <tr>\n",
       "      <th>2</th>\n",
       "      <td>2</td>\n",
       "      <td>20-футовый контейнер - перевалка груженого кон...</td>\n",
       "      <td>[20-футовый контейнер - перевалка груженого ко...</td>\n",
       "    </tr>\n",
       "    <tr>\n",
       "      <th>3</th>\n",
       "      <td>3</td>\n",
       "      <td>20-футовый контейнер - перемещение груженого к...</td>\n",
       "      <td>[20-футовый контейнер - перемещение груженого ...</td>\n",
       "    </tr>\n",
       "    <tr>\n",
       "      <th>4</th>\n",
       "      <td>4</td>\n",
       "      <td>3410</td>\n",
       "      <td>[Выдача контейнера: Контейнер ИСО 20'/40' груж...</td>\n",
       "    </tr>\n",
       "    <tr>\n",
       "      <th>...</th>\n",
       "      <td>...</td>\n",
       "      <td>...</td>\n",
       "      <td>...</td>\n",
       "    </tr>\n",
       "    <tr>\n",
       "      <th>662</th>\n",
       "      <td>662</td>\n",
       "      <td>хранение 20фут. контейнера импорт</td>\n",
       "      <td>[Хранение#307#, хранение 20фут. контейнера имп...</td>\n",
       "    </tr>\n",
       "    <tr>\n",
       "      <th>663</th>\n",
       "      <td>663</td>\n",
       "      <td>хранение 20фут. контейнера импорт с 9-х суток</td>\n",
       "      <td>[Хранение#ТК-000473#]</td>\n",
       "    </tr>\n",
       "    <tr>\n",
       "      <th>664</th>\n",
       "      <td>664</td>\n",
       "      <td>хранение 40фут. контейнера импорт</td>\n",
       "      <td>[Хранение контейнера#Т0464#]</td>\n",
       "    </tr>\n",
       "    <tr>\n",
       "      <th>665</th>\n",
       "      <td>665</td>\n",
       "      <td>хранение 40фут. контейнера импорт контейнера и...</td>\n",
       "      <td>[Хранение#307#]</td>\n",
       "    </tr>\n",
       "    <tr>\n",
       "      <th>666</th>\n",
       "      <td>666</td>\n",
       "      <td>хранение контейнера импорт</td>\n",
       "      <td>[Хранение контейнера#Т0464#]</td>\n",
       "    </tr>\n",
       "  </tbody>\n",
       "</table>\n",
       "<p>667 rows × 3 columns</p>\n",
       "</div>"
      ],
      "text/plain": [
       "      id                                            comment  \\\n",
       "0      0  1 Анализ и первичная экспертиза подкарантинной...   \n",
       "1      1  1 Изучение представленных документов 2 Оформле...   \n",
       "2      2  20-футовый контейнер - перевалка груженого кон...   \n",
       "3      3  20-футовый контейнер - перемещение груженого к...   \n",
       "4      4                                               3410   \n",
       "..   ...                                                ...   \n",
       "662  662                  хранение 20фут. контейнера импорт   \n",
       "663  663      хранение 20фут. контейнера импорт с 9-х суток   \n",
       "664  664                  хранение 40фут. контейнера импорт   \n",
       "665  665  хранение 40фут. контейнера импорт контейнера и...   \n",
       "666  666                         хранение контейнера импорт   \n",
       "\n",
       "                                          service_code  \n",
       "0        [Лабораторные исследования товара#ТК-008940#]  \n",
       "1        [Лабораторные исследования товара#ТК-008940#]  \n",
       "2    [20-футовый контейнер - перевалка груженого ко...  \n",
       "3    [20-футовый контейнер - перемещение груженого ...  \n",
       "4    [Выдача контейнера: Контейнер ИСО 20'/40' груж...  \n",
       "..                                                 ...  \n",
       "662  [Хранение#307#, хранение 20фут. контейнера имп...  \n",
       "663                              [Хранение#ТК-000473#]  \n",
       "664                       [Хранение контейнера#Т0464#]  \n",
       "665                                    [Хранение#307#]  \n",
       "666                       [Хранение контейнера#Т0464#]  \n",
       "\n",
       "[667 rows x 3 columns]"
      ]
     },
     "execution_count": 23,
     "metadata": {},
     "output_type": "execute_result"
    }
   ],
   "source": [
    "result_df = grouped_comment[['id', 'comment', 'service_code']]\n",
    "result_df"
   ]
  },
  {
   "cell_type": "code",
   "execution_count": 24,
   "id": "6a47dace-e435-45c0-88d2-203bc7a0422d",
   "metadata": {},
   "outputs": [],
   "source": [
    "result_df.to_json(config['unique_comments_file'], orient='records', force_ascii=False, indent=4)"
   ]
  }
 ],
 "metadata": {
  "kernelspec": {
   "display_name": "Python 3 (ipykernel)",
   "language": "python",
   "name": "python3"
  },
  "language_info": {
   "codemirror_mode": {
    "name": "ipython",
    "version": 3
   },
   "file_extension": ".py",
   "mimetype": "text/x-python",
   "name": "python",
   "nbconvert_exporter": "python",
   "pygments_lexer": "ipython3",
   "version": "3.11.7"
  }
 },
 "nbformat": 4,
 "nbformat_minor": 5
}
