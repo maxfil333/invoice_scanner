{
 "cells": [
  {
   "cell_type": "code",
   "execution_count": 1,
   "id": "1b37d14a-3ba5-4434-aeb0-7adefdfe3b7a",
   "metadata": {},
   "outputs": [],
   "source": [
    "import os\n",
    "import sys\n",
    "import json\n",
    "import pandas as pd"
   ]
  },
  {
   "cell_type": "code",
   "execution_count": 2,
   "id": "3d49d4d3-c3fa-49f5-b412-1f534bca1d2c",
   "metadata": {},
   "outputs": [
    {
     "data": {
      "text/plain": [
       "'C:\\\\Users\\\\Filipp\\\\PycharmProjects\\\\Invoice_scanner'"
      ]
     },
     "execution_count": 2,
     "metadata": {},
     "output_type": "execute_result"
    }
   ],
   "source": [
    "project_path = os.path.abspath('..')\n",
    "project_path"
   ]
  },
  {
   "cell_type": "code",
   "execution_count": 3,
   "id": "5738dfb7-fad2-48b7-a3ce-efb3edff836f",
   "metadata": {},
   "outputs": [
    {
     "name": "stdout",
     "output_type": "stream",
     "text": [
      "added\n"
     ]
    },
    {
     "data": {
      "text/plain": [
       "['C:\\\\Users\\\\Filipp\\\\PycharmProjects\\\\Invoice_scanner\\\\src',\n",
       " 'C:\\\\Users\\\\Filipp\\\\AppData\\\\Local\\\\anaconda3\\\\python311.zip',\n",
       " 'C:\\\\Users\\\\Filipp\\\\AppData\\\\Local\\\\anaconda3\\\\DLLs',\n",
       " 'C:\\\\Users\\\\Filipp\\\\AppData\\\\Local\\\\anaconda3\\\\Lib',\n",
       " 'C:\\\\Users\\\\Filipp\\\\AppData\\\\Local\\\\anaconda3',\n",
       " '',\n",
       " 'C:\\\\Users\\\\Filipp\\\\AppData\\\\Local\\\\anaconda3\\\\Lib\\\\site-packages',\n",
       " 'C:\\\\Users\\\\Filipp\\\\AppData\\\\Local\\\\anaconda3\\\\Lib\\\\site-packages\\\\win32',\n",
       " 'C:\\\\Users\\\\Filipp\\\\AppData\\\\Local\\\\anaconda3\\\\Lib\\\\site-packages\\\\win32\\\\lib',\n",
       " 'C:\\\\Users\\\\Filipp\\\\AppData\\\\Local\\\\anaconda3\\\\Lib\\\\site-packages\\\\Pythonwin',\n",
       " 'C:\\\\Users\\\\Filipp\\\\PycharmProjects\\\\Invoice_scanner']"
      ]
     },
     "execution_count": 3,
     "metadata": {},
     "output_type": "execute_result"
    }
   ],
   "source": [
    "if project_path not in sys.path:\n",
    "    sys.path.append(project_path)\n",
    "    print('added')\n",
    "sys.path"
   ]
  },
  {
   "cell_type": "code",
   "execution_count": 4,
   "id": "a3b20ca0-242f-4242-a076-90d59cdaca59",
   "metadata": {},
   "outputs": [],
   "source": [
    "from config.config import config"
   ]
  },
  {
   "cell_type": "code",
   "execution_count": 5,
   "id": "db250f93-92cd-4275-8686-32b07cf2a21a",
   "metadata": {},
   "outputs": [
    {
     "data": {
      "text/plain": [
       "(2955, 4)"
      ]
     },
     "execution_count": 5,
     "metadata": {},
     "output_type": "execute_result"
    }
   ],
   "source": [
    "df = pd.read_excel(config['ships_excel_file'])\n",
    "df.shape"
   ]
  },
  {
   "cell_type": "code",
   "execution_count": 6,
   "id": "4ba958e2-e72e-4bd1-88e8-d67d5d8a7651",
   "metadata": {},
   "outputs": [
    {
     "data": {
      "text/html": [
       "<div>\n",
       "<style scoped>\n",
       "    .dataframe tbody tr th:only-of-type {\n",
       "        vertical-align: middle;\n",
       "    }\n",
       "\n",
       "    .dataframe tbody tr th {\n",
       "        vertical-align: top;\n",
       "    }\n",
       "\n",
       "    .dataframe thead th {\n",
       "        text-align: right;\n",
       "    }\n",
       "</style>\n",
       "<table border=\"1\" class=\"dataframe\">\n",
       "  <thead>\n",
       "    <tr style=\"text-align: right;\">\n",
       "      <th></th>\n",
       "      <th>Код</th>\n",
       "      <th>Наименование (Англ.)</th>\n",
       "      <th>Наименование судна</th>\n",
       "      <th>Флаг</th>\n",
       "    </tr>\n",
       "  </thead>\n",
       "  <tbody>\n",
       "    <tr>\n",
       "      <th>2950</th>\n",
       "      <td>29</td>\n",
       "      <td>OOCL NEVSKIY</td>\n",
       "      <td>NaN</td>\n",
       "      <td>NaN</td>\n",
       "    </tr>\n",
       "    <tr>\n",
       "      <th>2951</th>\n",
       "      <td>23</td>\n",
       "      <td>Finlandia</td>\n",
       "      <td>NaN</td>\n",
       "      <td>NaN</td>\n",
       "    </tr>\n",
       "    <tr>\n",
       "      <th>2952</th>\n",
       "      <td>18</td>\n",
       "      <td>Helgaland</td>\n",
       "      <td>NaN</td>\n",
       "      <td>NaN</td>\n",
       "    </tr>\n",
       "    <tr>\n",
       "      <th>2953</th>\n",
       "      <td>17</td>\n",
       "      <td>MSC Eyra</td>\n",
       "      <td>NaN</td>\n",
       "      <td>NaN</td>\n",
       "    </tr>\n",
       "    <tr>\n",
       "      <th>2954</th>\n",
       "      <td>15</td>\n",
       "      <td>OOCL ST PETERSBURG</td>\n",
       "      <td>NaN</td>\n",
       "      <td>NaN</td>\n",
       "    </tr>\n",
       "  </tbody>\n",
       "</table>\n",
       "</div>"
      ],
      "text/plain": [
       "      Код Наименование (Англ.) Наименование судна Флаг\n",
       "2950   29         OOCL NEVSKIY                NaN  NaN\n",
       "2951   23            Finlandia                NaN  NaN\n",
       "2952   18            Helgaland                NaN  NaN\n",
       "2953   17             MSC Eyra                NaN  NaN\n",
       "2954   15   OOCL ST PETERSBURG                NaN  NaN"
      ]
     },
     "execution_count": 6,
     "metadata": {},
     "output_type": "execute_result"
    }
   ],
   "source": [
    "df.tail()"
   ]
  },
  {
   "cell_type": "code",
   "execution_count": 7,
   "id": "f8fc2dc1-6469-4830-8a89-89480cb2f019",
   "metadata": {},
   "outputs": [
    {
     "name": "stdout",
     "output_type": "stream",
     "text": [
      "<class 'dict'>\n",
      "MERIDA\n",
      "ALISA\n",
      "MSC ANCONA III\n",
      "YM INTERACTION\n",
      "XIANG YUE SU HANG\n"
     ]
    }
   ],
   "source": [
    "ships_json = df['Наименование (Англ.)'].apply(lambda x: x.upper()).to_json()\n",
    "ships_json = json.loads(ships_json)\n",
    "print(type(ships_json))\n",
    "print(ships_json['0'])\n",
    "print(ships_json['1'])\n",
    "print(ships_json['2'])\n",
    "print(ships_json['3'])\n",
    "print(ships_json['4'])"
   ]
  },
  {
   "cell_type": "code",
   "execution_count": null,
   "id": "4604343b-70f1-4879-81f5-f86858f7959c",
   "metadata": {},
   "outputs": [],
   "source": [
    "with open(os.path.join(config['CONFIG'], 'ships.json'), 'w', encoding='utf-8') as f:\n",
    "    json.dump(ships_json, f, ensure_ascii=False, indent=4)"
   ]
  }
 ],
 "metadata": {
  "kernelspec": {
   "display_name": "Python 3 (ipykernel)",
   "language": "python",
   "name": "python3"
  },
  "language_info": {
   "codemirror_mode": {
    "name": "ipython",
    "version": 3
   },
   "file_extension": ".py",
   "mimetype": "text/x-python",
   "name": "python",
   "nbconvert_exporter": "python",
   "pygments_lexer": "ipython3",
   "version": "3.11.7"
  }
 },
 "nbformat": 4,
 "nbformat_minor": 5
}
