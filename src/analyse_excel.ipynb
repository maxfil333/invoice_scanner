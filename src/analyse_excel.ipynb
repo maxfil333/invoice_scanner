{
 "cells": [
  {
   "cell_type": "code",
   "execution_count": null,
   "id": "437d6a4b-4939-4c0a-96cb-a496f767cbb6",
   "metadata": {},
   "outputs": [],
   "source": [
    "# pip install xlrd"
   ]
  },
  {
   "cell_type": "code",
   "execution_count": null,
   "id": "1c8833d4-a2ba-4da4-8391-552cc09c1908",
   "metadata": {},
   "outputs": [],
   "source": [
    "import sys \n",
    "import os\n",
    "import pandas as pd\n",
    "import re"
   ]
  },
  {
   "cell_type": "code",
   "execution_count": null,
   "id": "a44cb8ac-ab7c-4870-bb36-eb0bf648415f",
   "metadata": {},
   "outputs": [],
   "source": [
    "project_path = os.path.abspath('..')\n",
    "if project_path not in sys.path:\n",
    "    sys.path.append(project_path)\n",
    "sys.path"
   ]
  },
  {
   "cell_type": "code",
   "execution_count": null,
   "id": "7062e6ec-1b7b-4d8d-bfa8-2c53211a859e",
   "metadata": {},
   "outputs": [],
   "source": [
    "from config.config import config"
   ]
  },
  {
   "cell_type": "code",
   "execution_count": null,
   "id": "5df1ea5f-fcaa-4d67-b091-4ec03504fe12",
   "metadata": {},
   "outputs": [],
   "source": [
    "file_path = config\n",
    "df = pd.read_excel(config['services_excel_file'])\n",
    "df.shape"
   ]
  },
  {
   "cell_type": "code",
   "execution_count": null,
   "id": "6ebd995d-ee21-433a-92f4-63865178ae38",
   "metadata": {},
   "outputs": [],
   "source": [
    "# удаление и переименование\n",
    "\n",
    "df = df.drop([\"Ссылка.Автор.SAMAccount name\", \"Контрагент\"], axis=1)\n",
    "df.columns = ['link', 'bustype', 'service', 'comment', 'code']\n",
    "df.shape"
   ]
  },
  {
   "cell_type": "code",
   "execution_count": null,
   "id": "a9b4d357-f8cc-4ed4-94fd-0859179400ec",
   "metadata": {},
   "outputs": [],
   "source": [
    "# преобразование в строку, замена переноса строк на пробел, удаление повторяющихся пробелов \n",
    "\n",
    "for col in df.columns:\n",
    "    df[col] = df[col].apply(lambda x: str(x).replace('\\n', ' ').strip())\n",
    "    df[col] = df[col].apply(lambda x: re.sub(r' {2,}', ' ', x).strip())"
   ]
  },
  {
   "cell_type": "code",
   "execution_count": null,
   "id": "f15ff448-a616-4c60-a06b-fc11be81c579",
   "metadata": {},
   "outputs": [],
   "source": [
    "# замена \"1 в 1\"\n",
    "\n",
    "def replace1in1(row):\n",
    "    if row['comment'] == '1 в 1':\n",
    "        return row['service']\n",
    "    else:\n",
    "        return row['comment']\n",
    "\n",
    "df['comment'] = df.apply(replace1in1, axis=1)"
   ]
  },
  {
   "cell_type": "code",
   "execution_count": null,
   "id": "1fb9c753-92a1-4ff8-a69b-23b02a33d2c8",
   "metadata": {},
   "outputs": [],
   "source": [
    "df.describe()"
   ]
  },
  {
   "cell_type": "code",
   "execution_count": null,
   "id": "7e97d35d-811c-4d70-88fc-82fc86001a4f",
   "metadata": {},
   "outputs": [],
   "source": [
    "df.shape"
   ]
  },
  {
   "cell_type": "markdown",
   "id": "4e9a2210-28c0-4afa-8bb1-5ea9c8ebba7c",
   "metadata": {},
   "source": [
    "### Удаление транспортных позиций"
   ]
  },
  {
   "cell_type": "code",
   "execution_count": null,
   "id": "f09f4f1e-ce0a-45b0-9421-38e043150fd9",
   "metadata": {},
   "outputs": [],
   "source": [
    "def remove_special_characters(text):\n",
    "    response = re.sub(r'[^\\w\\s]', ' ', text.lower())\n",
    "    return re.sub(r'(\\s{2,}|\\n)', ' ', response)\n",
    "\n",
    "excluded = ['счета авто грузятся по реестрам', 'услуги грузятся автоматически', 'Счета авто. ']\n",
    "excluded = [remove_special_characters(x) for x in excluded]\n",
    "print(excluded)"
   ]
  },
  {
   "cell_type": "code",
   "execution_count": null,
   "id": "8b102724-8795-4fa8-aed3-b59558432597",
   "metadata": {},
   "outputs": [],
   "source": [
    "df['comment_cleaned'] = df['comment'].apply(remove_special_characters)\n",
    "df = df[~df['comment_cleaned'].str.strip().isin(excluded)]\n",
    "df = df.drop('comment_cleaned', axis=1)\n",
    "df.shape"
   ]
  },
  {
   "cell_type": "code",
   "execution_count": null,
   "id": "a3f2ac9e-73f8-40d9-ad67-86e9ca84e1e9",
   "metadata": {},
   "outputs": [],
   "source": [
    "df.describe()"
   ]
  },
  {
   "cell_type": "markdown",
   "id": "7ab0f359-10cf-4ba6-8781-6866bf7388ad",
   "metadata": {},
   "source": [
    "### Удаление позиций \"услуга русс. яз для акта\""
   ]
  },
  {
   "cell_type": "code",
   "execution_count": null,
   "id": "6f3cacb2-4604-48fc-a95c-87bc2c8b96bb",
   "metadata": {},
   "outputs": [],
   "source": [
    "excluded = ['услуга русс.яз для акта']\n",
    "excluded = [remove_special_characters(x) for x in excluded]\n",
    "print(excluded)"
   ]
  },
  {
   "cell_type": "code",
   "execution_count": null,
   "id": "6ceeceb7-63c9-4790-ba14-eae5be5936e6",
   "metadata": {},
   "outputs": [],
   "source": [
    "df['comment_cleaned'] = df['comment'].apply(remove_special_characters)\n",
    "df = df[~df['comment_cleaned'].str.strip().isin(excluded)]\n",
    "df = df.drop('comment_cleaned', axis=1)\n",
    "df.shape"
   ]
  },
  {
   "cell_type": "markdown",
   "id": "072acf51-1e70-42ef-8e0c-aa35db902f7e",
   "metadata": {
    "jp-MarkdownHeadingCollapsed": true
   },
   "source": [
    "### Количество различных комментариев в одной услуге"
   ]
  },
  {
   "cell_type": "code",
   "execution_count": null,
   "id": "e9cceaad-2fad-444b-b67f-a1c48c6f7ba5",
   "metadata": {
    "scrolled": true
   },
   "outputs": [],
   "source": [
    "uniq_services = df.groupby(['service']).agg(num_comments=('comment', 'count'), uniq_comments=('comment', 'nunique')).reset_index()\n",
    "uniq_services.tail()"
   ]
  },
  {
   "cell_type": "code",
   "execution_count": null,
   "id": "e760cb18-1d82-4a9c-956e-1988abee106f",
   "metadata": {
    "scrolled": true
   },
   "outputs": [],
   "source": [
    "uniq_services.query(\"uniq_comments > 1\")"
   ]
  },
  {
   "cell_type": "markdown",
   "id": "ff621736-a689-4d2d-8c64-d15947986248",
   "metadata": {
    "jp-MarkdownHeadingCollapsed": true
   },
   "source": [
    "### Количество различных услуг в одном комментарии"
   ]
  },
  {
   "cell_type": "code",
   "execution_count": null,
   "id": "b9634d26-a1f8-4f59-b3c9-ba3f4f75a0bc",
   "metadata": {
    "scrolled": true
   },
   "outputs": [],
   "source": [
    "uniq_comments = df.groupby(['comment']).agg(num_services=('service', 'count'), uniq_services=('service', 'nunique')).reset_index()\n",
    "uniq_comments.tail()"
   ]
  },
  {
   "cell_type": "code",
   "execution_count": null,
   "id": "69ca7172-9c6c-4c4d-b288-37f90c116d7c",
   "metadata": {
    "scrolled": true
   },
   "outputs": [],
   "source": [
    "uniq_comments.query(\"uniq_services > 1\")"
   ]
  },
  {
   "cell_type": "markdown",
   "id": "712ada69-2737-407f-83aa-ea745c73c806",
   "metadata": {},
   "source": [
    "### Услуги с двумя и более кодами"
   ]
  },
  {
   "cell_type": "code",
   "execution_count": null,
   "id": "328eb08e-8331-42c9-8060-da768e429169",
   "metadata": {},
   "outputs": [],
   "source": [
    "service_code_counts = df.groupby('service')['code'].nunique()\n",
    "\n",
    "services_with_multiple_codes = service_code_counts[service_code_counts > 1]\n",
    "services_with_multiple_codes"
   ]
  },
  {
   "cell_type": "code",
   "execution_count": null,
   "id": "3510aebd-63fe-44f1-b885-db9de806bb5c",
   "metadata": {},
   "outputs": [],
   "source": [
    "grouped = df[df['service'].isin(services_with_multiple_codes.index)].groupby(['service', 'code']).size().reset_index(name='count')\n",
    "display(grouped)\n",
    "\n",
    "idx = grouped.groupby('service')['count'].idxmin()\n",
    "min_count_code = grouped.loc[idx]\n",
    "display(min_count_code)"
   ]
  },
  {
   "cell_type": "code",
   "execution_count": null,
   "id": "6b7c3d5b-40dc-4924-92d5-b8f06c2e1c37",
   "metadata": {},
   "outputs": [],
   "source": [
    "df = df[~df['code'].isin(min_count_code.code)]"
   ]
  },
  {
   "cell_type": "code",
   "execution_count": null,
   "id": "efac7ce8-8768-404f-9cca-422995beabe1",
   "metadata": {},
   "outputs": [],
   "source": [
    "df.describe()"
   ]
  },
  {
   "cell_type": "markdown",
   "id": "55219f1e-37f4-4707-959b-7aacc3845f7f",
   "metadata": {},
   "source": [
    "================================================================"
   ]
  },
  {
   "cell_type": "markdown",
   "id": "fcaa3dc6-9400-49a9-8cc3-13e820ab167b",
   "metadata": {},
   "source": [
    "================================================================"
   ]
  },
  {
   "cell_type": "markdown",
   "id": "8aefe99d-0f35-4a87-9c5f-d78e02bc6748",
   "metadata": {},
   "source": [
    "### Группировка"
   ]
  },
  {
   "cell_type": "code",
   "execution_count": null,
   "id": "b10b96ca-c210-45ec-a356-9877af55be68",
   "metadata": {},
   "outputs": [],
   "source": [
    "grouped_comment = df.groupby(['comment']).agg(service_list=('service', lambda x: list(set(x))), codelist = ('code', lambda x: list(set(x)))).reset_index()\n",
    "grouped_comment['len_service'] = grouped_comment['service_list'].apply(len)\n",
    "grouped_comment['id'] = list(range(1, grouped_comment.shape[0]+1))"
   ]
  },
  {
   "cell_type": "code",
   "execution_count": null,
   "id": "ac67943d-5b2d-4316-8bea-c1063301038c",
   "metadata": {},
   "outputs": [],
   "source": [
    "grouped_comment.shape"
   ]
  },
  {
   "cell_type": "code",
   "execution_count": null,
   "id": "7653eb2d-f29d-4e17-bfbf-f171db1e7295",
   "metadata": {},
   "outputs": [],
   "source": [
    "grouped_comment"
   ]
  },
  {
   "cell_type": "code",
   "execution_count": null,
   "id": "e0946420-7e63-4338-9cc2-c64646b84313",
   "metadata": {},
   "outputs": [],
   "source": [
    "grouped_comment[grouped_comment.len_service > 1]"
   ]
  },
  {
   "cell_type": "code",
   "execution_count": null,
   "id": "6a47dace-e435-45c0-88d2-203bc7a0422d",
   "metadata": {},
   "outputs": [],
   "source": [
    "grouped_comment.to_json(config['uniq_comments_file'], orient='records', force_ascii=False, indent=4)"
   ]
  }
 ],
 "metadata": {
  "kernelspec": {
   "display_name": "Python 3 (ipykernel)",
   "language": "python",
   "name": "python3"
  },
  "language_info": {
   "codemirror_mode": {
    "name": "ipython",
    "version": 3
   },
   "file_extension": ".py",
   "mimetype": "text/x-python",
   "name": "python",
   "nbconvert_exporter": "python",
   "pygments_lexer": "ipython3",
   "version": "3.11.7"
  }
 },
 "nbformat": 4,
 "nbformat_minor": 5
}
