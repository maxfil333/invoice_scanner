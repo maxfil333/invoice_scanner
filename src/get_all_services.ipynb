{
 "cells": [
  {
   "cell_type": "markdown",
   "id": "76f5463a-58a7-4420-bb56-72cda5cdfdd2",
   "metadata": {},
   "source": [
    "## Сбор списка всех услуга#код за временной промежуток"
   ]
  },
  {
   "cell_type": "code",
   "execution_count": 1,
   "id": "1c8833d4-a2ba-4da4-8391-552cc09c1908",
   "metadata": {},
   "outputs": [],
   "source": [
    "import sys \n",
    "import os\n",
    "import re\n",
    "import json\n",
    "import time\n",
    "import pandas as pd\n",
    "from datetime import date, timedelta\n",
    "from typing import Union, Callable\n",
    "from functools import wraps\n",
    "\n",
    "import base64\n",
    "import requests\n",
    "from requests.auth import HTTPBasicAuth"
   ]
  },
  {
   "cell_type": "code",
   "execution_count": 2,
   "id": "a44cb8ac-ab7c-4870-bb36-eb0bf648415f",
   "metadata": {},
   "outputs": [
    {
     "data": {
      "text/plain": [
       "['C:\\\\Users\\\\Filipp\\\\PycharmProjects\\\\Invoice_scanner\\\\src',\n",
       " 'C:\\\\Users\\\\Filipp\\\\AppData\\\\Local\\\\anaconda3\\\\python311.zip',\n",
       " 'C:\\\\Users\\\\Filipp\\\\AppData\\\\Local\\\\anaconda3\\\\DLLs',\n",
       " 'C:\\\\Users\\\\Filipp\\\\AppData\\\\Local\\\\anaconda3\\\\Lib',\n",
       " 'C:\\\\Users\\\\Filipp\\\\AppData\\\\Local\\\\anaconda3',\n",
       " '',\n",
       " 'C:\\\\Users\\\\Filipp\\\\AppData\\\\Local\\\\anaconda3\\\\Lib\\\\site-packages',\n",
       " 'C:\\\\Users\\\\Filipp\\\\AppData\\\\Local\\\\anaconda3\\\\Lib\\\\site-packages\\\\win32',\n",
       " 'C:\\\\Users\\\\Filipp\\\\AppData\\\\Local\\\\anaconda3\\\\Lib\\\\site-packages\\\\win32\\\\lib',\n",
       " 'C:\\\\Users\\\\Filipp\\\\AppData\\\\Local\\\\anaconda3\\\\Lib\\\\site-packages\\\\Pythonwin',\n",
       " 'C:\\\\Users\\\\Filipp\\\\PycharmProjects\\\\Invoice_scanner']"
      ]
     },
     "execution_count": 2,
     "metadata": {},
     "output_type": "execute_result"
    }
   ],
   "source": [
    "project_path = os.path.abspath('..')\n",
    "if project_path not in sys.path:\n",
    "    sys.path.append(project_path)\n",
    "sys.path"
   ]
  },
  {
   "cell_type": "code",
   "execution_count": 3,
   "id": "7062e6ec-1b7b-4d8d-bfa8-2c53211a859e",
   "metadata": {},
   "outputs": [
    {
     "name": "stdout",
     "output_type": "stream",
     "text": [
      "CONFIG INFO:\n",
      "sys.frozen: False\n"
     ]
    },
    {
     "data": {
      "text/plain": [
       "True"
      ]
     },
     "execution_count": 3,
     "metadata": {},
     "output_type": "execute_result"
    }
   ],
   "source": [
    "from config.config import config\n",
    "from src.logger import logger\n",
    "from dotenv import load_dotenv\n",
    "\n",
    "load_dotenv()"
   ]
  },
  {
   "cell_type": "code",
   "execution_count": 4,
   "id": "d7aaab6a-d965-4b8f-b384-9c95201bd83b",
   "metadata": {},
   "outputs": [],
   "source": [
    "config['user_1C'] = os.getenv('user_1C')\n",
    "config['password_1C'] = os.getenv('password_1C')\n",
    "\n",
    "auth = HTTPBasicAuth(config['user_1C'], config['password_1C'])"
   ]
  },
  {
   "cell_type": "code",
   "execution_count": 5,
   "id": "b1a108fd-315b-4798-9980-1c14c786a327",
   "metadata": {},
   "outputs": [],
   "source": [
    "def cache_http_requests(func):\n",
    "    \"\"\" Декоратор для кэширования запросов на основе URL \"\"\"\n",
    "\n",
    "    cache = {}\n",
    "    max_cache_size = 40\n",
    "\n",
    "    @wraps(func)\n",
    "    def wrapper(function, *args, **kwargs):\n",
    "        # Формируем ключ кэша из функции + \"_\" + аргументы\n",
    "        function_args = r'_'.join(args)\n",
    "        url_cache_key = function + r'_' + function_args\n",
    "\n",
    "        # Проверяем, есть ли результат в кэше для данного URL\n",
    "        if url_cache_key in cache:\n",
    "            logger.print(\"Получение результата из кэша...\")\n",
    "            return cache[url_cache_key]\n",
    "\n",
    "        # Выполняем запрос и сохраняем результат в кэше\n",
    "        result = func(function, *args, **kwargs)\n",
    "        cache[url_cache_key] = result\n",
    "\n",
    "        if len(cache) > max_cache_size:\n",
    "            cache.pop(next(iter(cache)))\n",
    "\n",
    "        return result\n",
    "\n",
    "    return wrapper\n",
    "\n",
    "\n",
    "@cache_http_requests\n",
    "def cup_http_request(function, *args, kappa=False, encode_off=False) -> Union[list, dict, None]:\n",
    "    user_1C = config['user_1C']\n",
    "    password_1C = config['password_1C']\n",
    "\n",
    "    # Определение серверов\n",
    "    if kappa:\n",
    "        primary_base = r'http://kappa5.group.ru:81/ca/hs/interaction/'\n",
    "        secondary_base = r'http://10.10.0.10:81/ca/hs/interaction/'\n",
    "    else:\n",
    "        primary_base = r'http://10.10.0.10:81/ca/hs/interaction/'\n",
    "        secondary_base = r'http://kappa5.group.ru:81/ca/hs/interaction/'\n",
    "\n",
    "    if encode_off:\n",
    "        encode_func: Callable = lambda x: x\n",
    "    else:\n",
    "        encode_func: Callable = lambda x: base64.urlsafe_b64encode(x.encode()).decode()\n",
    "\n",
    "    function_args = r'/'.join(map(encode_func, args))\n",
    "\n",
    "    try:\n",
    "        # Формируем URL для первого сервера\n",
    "        primary_url = primary_base + function + r'/' + function_args\n",
    "        logger.print(f\"Попытка запроса: {primary_url}\")\n",
    "\n",
    "        # Попытка отправить запрос на первый сервер\n",
    "        response = requests.get(primary_url, auth=HTTPBasicAuth(user_1C, password_1C))\n",
    "\n",
    "        # Если первый запрос успешен, возвращаем результат\n",
    "        if response.status_code == 200:\n",
    "            return response.json()\n",
    "        else:\n",
    "            logger.print(f\"Ошибка при запросе к первому серверу: {response.status_code} - {response.reason}\")\n",
    "    except Exception as error:\n",
    "        logger.print(error)\n",
    "\n",
    "    try:\n",
    "        # Формируем URL для второго сервера\n",
    "        secondary_url = secondary_base + function + r'/' + function_args\n",
    "        logger.print(f\"Попытка запроса ко второму серверу: {secondary_url}\")\n",
    "\n",
    "        # Попытка отправить запрос на второй сервер\n",
    "        response = requests.get(secondary_url, auth=HTTPBasicAuth(user_1C, password_1C))\n",
    "\n",
    "        # Возвращаем результат, если успешен\n",
    "        if response.status_code == 200:\n",
    "            return response.json()\n",
    "        else:\n",
    "            logger.print(f\"Ошибка при запросе ко второму серверу: {response.status_code} - {response.reason}\")\n",
    "            return None\n",
    "    except Exception as error:\n",
    "        logger.print(error)\n",
    "        return None\n",
    "\n",
    "\n",
    "def add_partner(response: Union[list, dict, None]):\n",
    "    if not isinstance(response, list):\n",
    "        return response\n",
    "\n",
    "    regex = r'(.*) (от) (.*)'\n",
    "    matches = [re.fullmatch(regex, deal, re.IGNORECASE) for deal in response]\n",
    "    if all(matches):\n",
    "        deals = [match.group(1) for match in matches]\n",
    "        partners = [cup_http_request(r'ValueByTransactionNumber', deal, 'Контрагент') for deal in deals]\n",
    "        partners = [p[0] if p else '' for p in partners]\n",
    "\n",
    "        new_response = []\n",
    "        for m, p in zip(matches, partners):\n",
    "            deal_and_partner = m.group() + f\" | {p}\"\n",
    "            new_response.append(deal_and_partner)\n",
    "        return new_response\n",
    "\n",
    "    else:\n",
    "        return response\n",
    "\n",
    "\n",
    "def cup_http_request_partner(function, *args, kappa=False, encode_off=False) -> Union[list, dict, None]:\n",
    "    response = cup_http_request(function, *args, kappa=kappa, encode_off=encode_off)\n",
    "    return add_partner(response)"
   ]
  },
  {
   "cell_type": "markdown",
   "id": "50111f61-e4d6-46f4-b89d-99eb34be2efc",
   "metadata": {},
   "source": [
    "## get services "
   ]
  },
  {
   "cell_type": "code",
   "execution_count": 6,
   "id": "1bfb89cb-943d-4809-ab7b-86f8b9339c50",
   "metadata": {},
   "outputs": [
    {
     "name": "stdout",
     "output_type": "stream",
     "text": [
      "Попытка запроса: http://10.10.0.10:81/ca/hs/interaction/InvoicesItemsByDates/01-10-2024/10-10-2024\n",
      "275\n"
     ]
    },
    {
     "data": {
      "text/plain": [
       "[{'Услуга': 'Сверхнормативное использование автотранспорта',\n",
       "  'УслугаКод': 'ТК-003329',\n",
       "  'Упоминаний': 2,\n",
       "  'Счетов': 1},\n",
       " {'Услуга': 'Погрузка ручная ',\n",
       "  'УслугаКод': 'ТК-003336',\n",
       "  'Упоминаний': 1,\n",
       "  'Счетов': 1},\n",
       " {'Услуга': 'Взвешивание',\n",
       "  'УслугаКод': 'ТК-006728',\n",
       "  'Упоминаний': 13,\n",
       "  'Счетов': 9}]"
      ]
     },
     "execution_count": 6,
     "metadata": {},
     "output_type": "execute_result"
    }
   ],
   "source": [
    "# Пример работы функции\n",
    "\n",
    "res = cup_http_request(\"InvoicesItemsByDates\", '01-10-2024', '10-10-2024', encode_off=True)\n",
    "\n",
    "print(len(res))\n",
    "res[0:3]"
   ]
  },
  {
   "cell_type": "code",
   "execution_count": 16,
   "id": "cc6a9b29-d447-4a9b-89ae-bc071363513e",
   "metadata": {},
   "outputs": [
    {
     "name": "stdout",
     "output_type": "stream",
     "text": [
      "('01-01-2024', '31-01-2024')\n",
      "('01-02-2024', '29-02-2024')\n",
      "('01-03-2024', '31-03-2024')\n",
      "('01-04-2024', '30-04-2024')\n",
      "('01-05-2024', '31-05-2024')\n",
      "('01-06-2024', '30-06-2024')\n",
      "('01-07-2024', '31-07-2024')\n",
      "('01-08-2024', '31-08-2024')\n",
      "('01-09-2024', '30-09-2024')\n",
      "('01-10-2024', '31-10-2024')\n",
      "('01-11-2024', '30-11-2024')\n",
      "('01-12-2024', '31-12-2024')\n",
      "('01-01-2025', '31-01-2025')\n",
      "('01-02-2025', '28-02-2025')\n",
      "('01-03-2025', '31-03-2025')\n",
      "('01-04-2025', '30-04-2025')\n",
      "('01-05-2025', '31-05-2025')\n",
      "('01-06-2025', '30-06-2025')\n",
      "('01-07-2025', '31-07-2025')\n",
      "('01-08-2025', '31-08-2025')\n",
      "('01-09-2025', '30-09-2025')\n",
      "('01-10-2025', '31-10-2025')\n",
      "('01-11-2025', '30-11-2025')\n",
      "('01-12-2025', '31-12-2025')\n"
     ]
    }
   ],
   "source": [
    "# Получаем первую и последнюю дату каждого месяца\n",
    "\n",
    "def first_and_last_day(years) -> list[tuple[str, str]]:\n",
    "    result = []\n",
    "    for year in years:\n",
    "        for month in range(1, 13):\n",
    "            first_day = date(year, month, 1)\n",
    "            if month == 12:\n",
    "                last_day = date(year + 1, 1, 1) - timedelta(days=1)\n",
    "            else:\n",
    "                last_day = date(year, month + 1, 1) - timedelta(days=1)\n",
    "            result.append((first_day.strftime('%d-%m-%Y'), last_day.strftime('%d-%m-%Y')))\n",
    "    return result\n",
    "\n",
    "years = [2024, 2025]\n",
    "days = first_and_last_day(years)\n",
    "for i in days:\n",
    "    print(i)"
   ]
  },
  {
   "cell_type": "code",
   "execution_count": 17,
   "id": "116701f1-ca64-4db5-9c39-7e40ca07aba9",
   "metadata": {},
   "outputs": [
    {
     "name": "stdout",
     "output_type": "stream",
     "text": [
      "Получение результата из кэша...\n",
      "Получение результата из кэша...\n",
      "Получение результата из кэша...\n",
      "Получение результата из кэша...\n",
      "Получение результата из кэша...\n",
      "Получение результата из кэша...\n",
      "Получение результата из кэша...\n",
      "Получение результата из кэша...\n",
      "Получение результата из кэша...\n",
      "Получение результата из кэша...\n",
      "Получение результата из кэша...\n",
      "Получение результата из кэша...\n",
      "Попытка запроса: http://10.10.0.10:81/ca/hs/interaction/InvoicesItemsByDates/01-01-2025/31-01-2025\n",
      "Попытка запроса: http://10.10.0.10:81/ca/hs/interaction/InvoicesItemsByDates/01-02-2025/28-02-2025\n",
      "Попытка запроса: http://10.10.0.10:81/ca/hs/interaction/InvoicesItemsByDates/01-03-2025/31-03-2025\n",
      "Попытка запроса: http://10.10.0.10:81/ca/hs/interaction/InvoicesItemsByDates/01-04-2025/30-04-2025\n",
      "Попытка запроса: http://10.10.0.10:81/ca/hs/interaction/InvoicesItemsByDates/01-05-2025/31-05-2025\n",
      "Попытка запроса: http://10.10.0.10:81/ca/hs/interaction/InvoicesItemsByDates/01-06-2025/30-06-2025\n",
      "Попытка запроса: http://10.10.0.10:81/ca/hs/interaction/InvoicesItemsByDates/01-07-2025/31-07-2025\n",
      "Попытка запроса: http://10.10.0.10:81/ca/hs/interaction/InvoicesItemsByDates/01-08-2025/31-08-2025\n",
      "Попытка запроса: http://10.10.0.10:81/ca/hs/interaction/InvoicesItemsByDates/01-09-2025/30-09-2025\n",
      "Попытка запроса: http://10.10.0.10:81/ca/hs/interaction/InvoicesItemsByDates/01-10-2025/31-10-2025\n",
      "Попытка запроса: http://10.10.0.10:81/ca/hs/interaction/InvoicesItemsByDates/01-11-2025/30-11-2025\n",
      "Попытка запроса: http://10.10.0.10:81/ca/hs/interaction/InvoicesItemsByDates/01-12-2025/31-12-2025\n",
      "6418\n",
      "[{'Услуга': 'Ксерокопирование комплекта документов', 'УслугаКод': 'ТК-003284', 'Упоминаний': 1, 'Счетов': 1}, {'Услуга': 'Хранение груженых контейнеров', 'УслугаКод': 'ТК-003384', 'Упоминаний': 11, 'Счетов': 3}, {'Услуга': 'Линейный сбор', 'УслугаКод': 'Т1389    ', 'Упоминаний': 6, 'Счетов': 2}]\n"
     ]
    }
   ],
   "source": [
    "# Вызываем InvoicesItemsByDates для каждого месяца. Сохраняем все словари в список lst\n",
    "\n",
    "lst = []\n",
    "for i, j in days:\n",
    "    lst.extend(cup_http_request(\"InvoicesItemsByDates\", i, j, encode_off=True))\n",
    "\n",
    "print(len(lst))\n",
    "print(lst[0:3])"
   ]
  },
  {
   "cell_type": "code",
   "execution_count": 18,
   "id": "457e8104-02ca-4509-a936-17223a46bb57",
   "metadata": {},
   "outputs": [],
   "source": [
    "# подготовляваем данные для формирования DataFrame\n",
    "\n",
    "services = []\n",
    "codes = []\n",
    "num_docs = []\n",
    "\n",
    "for i in lst:\n",
    "    services.append(i['Услуга'])\n",
    "    codes.append(i['УслугаКод'])\n",
    "    num_docs.append(i['Счетов'])"
   ]
  },
  {
   "cell_type": "code",
   "execution_count": 19,
   "id": "1641e19e-fb87-4f0a-a628-775b914148c9",
   "metadata": {},
   "outputs": [
    {
     "data": {
      "text/html": [
       "<div>\n",
       "<style scoped>\n",
       "    .dataframe tbody tr th:only-of-type {\n",
       "        vertical-align: middle;\n",
       "    }\n",
       "\n",
       "    .dataframe tbody tr th {\n",
       "        vertical-align: top;\n",
       "    }\n",
       "\n",
       "    .dataframe thead th {\n",
       "        text-align: right;\n",
       "    }\n",
       "</style>\n",
       "<table border=\"1\" class=\"dataframe\">\n",
       "  <thead>\n",
       "    <tr style=\"text-align: right;\">\n",
       "      <th></th>\n",
       "      <th>service</th>\n",
       "      <th>code</th>\n",
       "      <th>num</th>\n",
       "    </tr>\n",
       "  </thead>\n",
       "  <tbody>\n",
       "    <tr>\n",
       "      <th>0</th>\n",
       "      <td>Ксерокопирование комплекта документов</td>\n",
       "      <td>ТК-003284</td>\n",
       "      <td>1</td>\n",
       "    </tr>\n",
       "    <tr>\n",
       "      <th>1</th>\n",
       "      <td>Хранение груженых контейнеров</td>\n",
       "      <td>ТК-003384</td>\n",
       "      <td>3</td>\n",
       "    </tr>\n",
       "    <tr>\n",
       "      <th>2</th>\n",
       "      <td>Линейный сбор</td>\n",
       "      <td>Т1389</td>\n",
       "      <td>2</td>\n",
       "    </tr>\n",
       "    <tr>\n",
       "      <th>3</th>\n",
       "      <td>Хранение груза на сухом складе</td>\n",
       "      <td>ТК-006721</td>\n",
       "      <td>3</td>\n",
       "    </tr>\n",
       "    <tr>\n",
       "      <th>4</th>\n",
       "      <td>Взвешивание</td>\n",
       "      <td>ТК-006728</td>\n",
       "      <td>26</td>\n",
       "    </tr>\n",
       "  </tbody>\n",
       "</table>\n",
       "</div>"
      ],
      "text/plain": [
       "                                 service       code  num\n",
       "0  Ксерокопирование комплекта документов  ТК-003284    1\n",
       "1          Хранение груженых контейнеров  ТК-003384    3\n",
       "2                          Линейный сбор  Т1389        2\n",
       "3         Хранение груза на сухом складе  ТК-006721    3\n",
       "4                            Взвешивание  ТК-006728   26"
      ]
     },
     "execution_count": 19,
     "metadata": {},
     "output_type": "execute_result"
    }
   ],
   "source": [
    "# формируем DataFrame\n",
    "\n",
    "df = pd.DataFrame(zip(services, codes, num_docs))\n",
    "df.columns = ['service', 'code', 'num']\n",
    "df.head()"
   ]
  },
  {
   "cell_type": "markdown",
   "id": "81b996e0-bc8e-497b-a854-cb0c4abaf866",
   "metadata": {},
   "source": [
    "### Если для одного service встречается несколько code (берем самый часто встречаемый code)"
   ]
  },
  {
   "cell_type": "code",
   "execution_count": 20,
   "id": "0fa648e4-cc04-4a90-ba35-22fc0ecc5b4d",
   "metadata": {},
   "outputs": [
    {
     "data": {
      "text/html": [
       "<div>\n",
       "<style scoped>\n",
       "    .dataframe tbody tr th:only-of-type {\n",
       "        vertical-align: middle;\n",
       "    }\n",
       "\n",
       "    .dataframe tbody tr th {\n",
       "        vertical-align: top;\n",
       "    }\n",
       "\n",
       "    .dataframe thead th {\n",
       "        text-align: right;\n",
       "    }\n",
       "</style>\n",
       "<table border=\"1\" class=\"dataframe\">\n",
       "  <thead>\n",
       "    <tr style=\"text-align: right;\">\n",
       "      <th></th>\n",
       "      <th>service</th>\n",
       "      <th>code</th>\n",
       "      <th>sum_num</th>\n",
       "    </tr>\n",
       "  </thead>\n",
       "  <tbody>\n",
       "    <tr>\n",
       "      <th>0</th>\n",
       "      <td>20-футовый контейнер - перевалка груженого кон...</td>\n",
       "      <td>ТК-009698</td>\n",
       "      <td>1</td>\n",
       "    </tr>\n",
       "    <tr>\n",
       "      <th>1</th>\n",
       "      <td>20-футовый контейнер - перемещение груженого к...</td>\n",
       "      <td>ТК-009699</td>\n",
       "      <td>1</td>\n",
       "    </tr>\n",
       "    <tr>\n",
       "      <th>2</th>\n",
       "      <td>ADDITIONAL</td>\n",
       "      <td>ТК-008437</td>\n",
       "      <td>11</td>\n",
       "    </tr>\n",
       "    <tr>\n",
       "      <th>3</th>\n",
       "      <td>AGENT FEE (МОРЕ)</td>\n",
       "      <td>ТК-008580</td>\n",
       "      <td>193</td>\n",
       "    </tr>\n",
       "    <tr>\n",
       "      <th>4</th>\n",
       "      <td>AMENDMENT FEE</td>\n",
       "      <td>ТК-008738</td>\n",
       "      <td>8</td>\n",
       "    </tr>\n",
       "  </tbody>\n",
       "</table>\n",
       "</div>"
      ],
      "text/plain": [
       "                                             service       code  sum_num\n",
       "0  20-футовый контейнер - перевалка груженого кон...  ТК-009698        1\n",
       "1  20-футовый контейнер - перемещение груженого к...  ТК-009699        1\n",
       "2                                         ADDITIONAL  ТК-008437       11\n",
       "3                                   AGENT FEE (МОРЕ)  ТК-008580      193\n",
       "4                                      AMENDMENT FEE  ТК-008738        8"
      ]
     },
     "execution_count": 20,
     "metadata": {},
     "output_type": "execute_result"
    }
   ],
   "source": [
    "# группируем по service, code с суммированием кол-ва встречаемости\n",
    "\n",
    "gr = df.groupby(['service', 'code']).agg(sum_num=('num', 'sum')).reset_index()\n",
    "gr.head()"
   ]
  },
  {
   "cell_type": "code",
   "execution_count": 21,
   "id": "c4c1fffa-8795-4d21-b591-410216c6a265",
   "metadata": {},
   "outputs": [
    {
     "data": {
      "text/html": [
       "<div>\n",
       "<style scoped>\n",
       "    .dataframe tbody tr th:only-of-type {\n",
       "        vertical-align: middle;\n",
       "    }\n",
       "\n",
       "    .dataframe tbody tr th {\n",
       "        vertical-align: top;\n",
       "    }\n",
       "\n",
       "    .dataframe thead th {\n",
       "        text-align: right;\n",
       "    }\n",
       "</style>\n",
       "<table border=\"1\" class=\"dataframe\">\n",
       "  <thead>\n",
       "    <tr style=\"text-align: right;\">\n",
       "      <th></th>\n",
       "      <th>service</th>\n",
       "      <th>code</th>\n",
       "      <th>sum_num</th>\n",
       "    </tr>\n",
       "  </thead>\n",
       "  <tbody>\n",
       "    <tr>\n",
       "      <th>558</th>\n",
       "      <td>Организация автотранспортной перевозки</td>\n",
       "      <td>000000190</td>\n",
       "      <td>4736</td>\n",
       "    </tr>\n",
       "    <tr>\n",
       "      <th>706</th>\n",
       "      <td>Оформление документации</td>\n",
       "      <td>Т0778</td>\n",
       "      <td>2302</td>\n",
       "    </tr>\n",
       "    <tr>\n",
       "      <th>985</th>\n",
       "      <td>Просмотр для выявления семян сорных растений, ...</td>\n",
       "      <td>ТК-008928</td>\n",
       "      <td>2249</td>\n",
       "    </tr>\n",
       "    <tr>\n",
       "      <th>980</th>\n",
       "      <td>Просмотр для выявления семян сорных растений, ...</td>\n",
       "      <td>ТК-008932</td>\n",
       "      <td>2234</td>\n",
       "    </tr>\n",
       "    <tr>\n",
       "      <th>983</th>\n",
       "      <td>Просмотр для выявления семян сорных растений, ...</td>\n",
       "      <td>ТК-008929</td>\n",
       "      <td>2057</td>\n",
       "    </tr>\n",
       "  </tbody>\n",
       "</table>\n",
       "</div>"
      ],
      "text/plain": [
       "                                               service       code  sum_num\n",
       "558             Организация автотранспортной перевозки  000000190     4736\n",
       "706                            Оформление документации  Т0778         2302\n",
       "985  Просмотр для выявления семян сорных растений, ...  ТК-008928     2249\n",
       "980  Просмотр для выявления семян сорных растений, ...  ТК-008932     2234\n",
       "983  Просмотр для выявления семян сорных растений, ...  ТК-008929     2057"
      ]
     },
     "execution_count": 21,
     "metadata": {},
     "output_type": "execute_result"
    }
   ],
   "source": [
    "# сортируем по встречаемости\n",
    "\n",
    "gr = gr.sort_values('sum_num', ascending=False)\n",
    "gr.head()"
   ]
  },
  {
   "cell_type": "code",
   "execution_count": 22,
   "id": "bdc99192-23fd-411b-853f-c76e7245a193",
   "metadata": {},
   "outputs": [],
   "source": [
    "# формируем итоговый список услуг (в него не попадут повторяющиеся service+code)\n",
    "\n",
    "d = {}\n",
    "\n",
    "for idx, row in gr.iterrows():\n",
    "    service = row['service']\n",
    "    code = row['code']\n",
    "    if service not in d:\n",
    "        d[service.strip()] = code.strip()\n",
    "\n",
    "# d = {'service1': code1, 'service2': code2 ...}"
   ]
  },
  {
   "cell_type": "code",
   "execution_count": 23,
   "id": "7d5b2546-73bd-4e08-9d92-c7c6ddc06c21",
   "metadata": {},
   "outputs": [
    {
     "data": {
      "text/plain": [
       "1450"
      ]
     },
     "execution_count": 23,
     "metadata": {},
     "output_type": "execute_result"
    }
   ],
   "source": [
    "len(d)"
   ]
  },
  {
   "cell_type": "code",
   "execution_count": 24,
   "id": "e891d0e6-42c1-460b-9957-0d5f3b551188",
   "metadata": {},
   "outputs": [],
   "source": [
    "# create new all_services.json\n",
    "\n",
    "# with open(os.path.join(config['all_services_file']), 'w', encoding='utf-8') as file:\n",
    "#     json.dump(d, file, ensure_ascii=False, indent=4)"
   ]
  },
  {
   "cell_type": "code",
   "execution_count": 25,
   "id": "f0f2022e-285f-4783-944c-73da54041e22",
   "metadata": {},
   "outputs": [
    {
     "name": "stdout",
     "output_type": "stream",
     "text": [
      "1432\n",
      "1450\n"
     ]
    }
   ],
   "source": [
    "# update existing all_services.json\n",
    "\n",
    "with open(os.path.join(config['all_services_file']), 'r', encoding='utf-8') as file:\n",
    "    old = json.load(file)\n",
    "\n",
    "print(len(old))\n",
    "\n",
    "old.update(d)\n",
    "\n",
    "print(len(old))\n",
    "\n",
    "\n",
    "with open(os.path.join(config['all_services_file']), 'w', encoding='utf-8') as file:\n",
    "    json.dump(old, file, ensure_ascii=False, indent=4)"
   ]
  },
  {
   "cell_type": "code",
   "execution_count": null,
   "id": "16bca72e-5e97-4ace-ba73-b84257fa97dd",
   "metadata": {},
   "outputs": [],
   "source": []
  }
 ],
 "metadata": {
  "kernelspec": {
   "display_name": "Python 3 (ipykernel)",
   "language": "python",
   "name": "python3"
  },
  "language_info": {
   "codemirror_mode": {
    "name": "ipython",
    "version": 3
   },
   "file_extension": ".py",
   "mimetype": "text/x-python",
   "name": "python",
   "nbconvert_exporter": "python",
   "pygments_lexer": "ipython3",
   "version": "3.11.7"
  }
 },
 "nbformat": 4,
 "nbformat_minor": 5
}
