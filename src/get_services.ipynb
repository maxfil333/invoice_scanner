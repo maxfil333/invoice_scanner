{
 "cells": [
  {
   "cell_type": "code",
   "execution_count": 1,
   "id": "1c8833d4-a2ba-4da4-8391-552cc09c1908",
   "metadata": {},
   "outputs": [],
   "source": [
    "import sys \n",
    "import os\n",
    "import re\n",
    "\n",
    "import time\n",
    "from typing import Union, Callable\n",
    "from functools import wraps\n",
    "\n",
    "import base64\n",
    "import requests\n",
    "from requests.auth import HTTPBasicAuth"
   ]
  },
  {
   "cell_type": "code",
   "execution_count": 2,
   "id": "a44cb8ac-ab7c-4870-bb36-eb0bf648415f",
   "metadata": {},
   "outputs": [
    {
     "data": {
      "text/plain": [
       "['C:\\\\Users\\\\Filipp\\\\PycharmProjects\\\\Invoice_scanner\\\\src',\n",
       " 'C:\\\\Users\\\\Filipp\\\\AppData\\\\Local\\\\anaconda3\\\\python311.zip',\n",
       " 'C:\\\\Users\\\\Filipp\\\\AppData\\\\Local\\\\anaconda3\\\\DLLs',\n",
       " 'C:\\\\Users\\\\Filipp\\\\AppData\\\\Local\\\\anaconda3\\\\Lib',\n",
       " 'C:\\\\Users\\\\Filipp\\\\AppData\\\\Local\\\\anaconda3',\n",
       " '',\n",
       " 'C:\\\\Users\\\\Filipp\\\\AppData\\\\Local\\\\anaconda3\\\\Lib\\\\site-packages',\n",
       " 'C:\\\\Users\\\\Filipp\\\\AppData\\\\Local\\\\anaconda3\\\\Lib\\\\site-packages\\\\win32',\n",
       " 'C:\\\\Users\\\\Filipp\\\\AppData\\\\Local\\\\anaconda3\\\\Lib\\\\site-packages\\\\win32\\\\lib',\n",
       " 'C:\\\\Users\\\\Filipp\\\\AppData\\\\Local\\\\anaconda3\\\\Lib\\\\site-packages\\\\Pythonwin',\n",
       " 'C:\\\\Users\\\\Filipp\\\\PycharmProjects\\\\Invoice_scanner']"
      ]
     },
     "execution_count": 2,
     "metadata": {},
     "output_type": "execute_result"
    }
   ],
   "source": [
    "project_path = os.path.abspath('..')\n",
    "if project_path not in sys.path:\n",
    "    sys.path.append(project_path)\n",
    "sys.path"
   ]
  },
  {
   "cell_type": "code",
   "execution_count": 8,
   "id": "7062e6ec-1b7b-4d8d-bfa8-2c53211a859e",
   "metadata": {},
   "outputs": [
    {
     "data": {
      "text/plain": [
       "True"
      ]
     },
     "execution_count": 8,
     "metadata": {},
     "output_type": "execute_result"
    }
   ],
   "source": [
    "from config.config import config\n",
    "from src.logger import logger\n",
    "from dotenv import load_dotenv\n",
    "\n",
    "load_dotenv()"
   ]
  },
  {
   "cell_type": "code",
   "execution_count": 9,
   "id": "d7aaab6a-d965-4b8f-b384-9c95201bd83b",
   "metadata": {},
   "outputs": [],
   "source": [
    "config['user_1C'] = os.getenv('user_1C')\n",
    "config['password_1C'] = os.getenv('password_1C')\n",
    "\n",
    "auth = HTTPBasicAuth(config['user_1C'], config['password_1C'])"
   ]
  },
  {
   "cell_type": "code",
   "execution_count": 10,
   "id": "b1a108fd-315b-4798-9980-1c14c786a327",
   "metadata": {},
   "outputs": [],
   "source": [
    "def cache_http_requests(func):\n",
    "    \"\"\" Декоратор для кэширования запросов на основе URL \"\"\"\n",
    "\n",
    "    cache = {}\n",
    "    max_cache_size = 40\n",
    "\n",
    "    @wraps(func)\n",
    "    def wrapper(function, *args, **kwargs):\n",
    "        # Формируем ключ кэша из функции + \"_\" + аргументы\n",
    "        function_args = r'_'.join(args)\n",
    "        url_cache_key = function + r'_' + function_args\n",
    "\n",
    "        # Проверяем, есть ли результат в кэше для данного URL\n",
    "        if url_cache_key in cache:\n",
    "            logger.print(\"Получение результата из кэша...\")\n",
    "            return cache[url_cache_key]\n",
    "\n",
    "        # Выполняем запрос и сохраняем результат в кэше\n",
    "        result = func(function, *args, **kwargs)\n",
    "        cache[url_cache_key] = result\n",
    "\n",
    "        if len(cache) > max_cache_size:\n",
    "            cache.pop(next(iter(cache)))\n",
    "\n",
    "        return result\n",
    "\n",
    "    return wrapper\n",
    "\n",
    "\n",
    "@cache_http_requests\n",
    "def cup_http_request(function, *args, kappa=False, encode_off=False) -> Union[list, dict, None]:\n",
    "    user_1C = config['user_1C']\n",
    "    password_1C = config['password_1C']\n",
    "\n",
    "    # Определение серверов\n",
    "    if kappa:\n",
    "        primary_base = r'http://kappa5.group.ru:81/ca/hs/interaction/'\n",
    "        secondary_base = r'http://10.10.0.10:81/ca/hs/interaction/'\n",
    "    else:\n",
    "        primary_base = r'http://10.10.0.10:81/ca/hs/interaction/'\n",
    "        secondary_base = r'http://kappa5.group.ru:81/ca/hs/interaction/'\n",
    "\n",
    "    if encode_off:\n",
    "        encode_func: Callable = lambda x: x\n",
    "    else:\n",
    "        encode_func: Callable = lambda x: base64.urlsafe_b64encode(x.encode()).decode()\n",
    "\n",
    "    function_args = r'/'.join(map(encode_func, args))\n",
    "\n",
    "    try:\n",
    "        # Формируем URL для первого сервера\n",
    "        primary_url = primary_base + function + r'/' + function_args\n",
    "        logger.print(f\"Попытка запроса: {primary_url}\")\n",
    "\n",
    "        # Попытка отправить запрос на первый сервер\n",
    "        response = requests.get(primary_url, auth=HTTPBasicAuth(user_1C, password_1C))\n",
    "\n",
    "        # Если первый запрос успешен, возвращаем результат\n",
    "        if response.status_code == 200:\n",
    "            return response.json()\n",
    "        else:\n",
    "            logger.print(f\"Ошибка при запросе к первому серверу: {response.status_code} - {response.reason}\")\n",
    "    except Exception as error:\n",
    "        logger.print(error)\n",
    "\n",
    "    try:\n",
    "        # Формируем URL для второго сервера\n",
    "        secondary_url = secondary_base + function + r'/' + function_args\n",
    "        logger.print(f\"Попытка запроса ко второму серверу: {secondary_url}\")\n",
    "\n",
    "        # Попытка отправить запрос на второй сервер\n",
    "        response = requests.get(secondary_url, auth=HTTPBasicAuth(user_1C, password_1C))\n",
    "\n",
    "        # Возвращаем результат, если успешен\n",
    "        if response.status_code == 200:\n",
    "            return response.json()\n",
    "        else:\n",
    "            logger.print(f\"Ошибка при запросе ко второму серверу: {response.status_code} - {response.reason}\")\n",
    "            return None\n",
    "    except Exception as error:\n",
    "        logger.print(error)\n",
    "        return None\n",
    "\n",
    "\n",
    "def add_partner(response: Union[list, dict, None]):\n",
    "    if not isinstance(response, list):\n",
    "        return response\n",
    "\n",
    "    regex = r'(.*) (от) (.*)'\n",
    "    matches = [re.fullmatch(regex, deal, re.IGNORECASE) for deal in response]\n",
    "    if all(matches):\n",
    "        deals = [match.group(1) for match in matches]\n",
    "        partners = [cup_http_request(r'ValueByTransactionNumber', deal, 'Контрагент') for deal in deals]\n",
    "        partners = [p[0] if p else '' for p in partners]\n",
    "\n",
    "        new_response = []\n",
    "        for m, p in zip(matches, partners):\n",
    "            deal_and_partner = m.group() + f\" | {p}\"\n",
    "            new_response.append(deal_and_partner)\n",
    "        return new_response\n",
    "\n",
    "    else:\n",
    "        return response\n",
    "\n",
    "\n",
    "def cup_http_request_partner(function, *args, kappa=False, encode_off=False) -> Union[list, dict, None]:\n",
    "    response = cup_http_request(function, *args, kappa=kappa, encode_off=encode_off)\n",
    "    return add_partner(response)"
   ]
  },
  {
   "cell_type": "code",
   "execution_count": 14,
   "id": "1bfb89cb-943d-4809-ab7b-86f8b9339c50",
   "metadata": {},
   "outputs": [
    {
     "name": "stdout",
     "output_type": "stream",
     "text": [
      "Получение результата из кэша...\n"
     ]
    }
   ],
   "source": [
    "res = cup_http_request(\"InvoicesItemsByDates\", '01-10-2024', '10-10-2024', encode_off=True)"
   ]
  },
  {
   "cell_type": "code",
   "execution_count": 16,
   "id": "de898767-efaa-4de5-a3c0-dfa68a71b867",
   "metadata": {},
   "outputs": [
    {
     "data": {
      "text/plain": [
       "[{'Услуга': 'Сверхнормативное использование автотранспорта',\n",
       "  'УслугаКод': 'ТК-003329',\n",
       "  'Упоминаний': 2,\n",
       "  'Счетов': 1},\n",
       " {'Услуга': 'Погрузка ручная ',\n",
       "  'УслугаКод': 'ТК-003336',\n",
       "  'Упоминаний': 1,\n",
       "  'Счетов': 1},\n",
       " {'Услуга': 'Взвешивание',\n",
       "  'УслугаКод': 'ТК-006728',\n",
       "  'Упоминаний': 13,\n",
       "  'Счетов': 9}]"
      ]
     },
     "execution_count": 16,
     "metadata": {},
     "output_type": "execute_result"
    }
   ],
   "source": [
    "res[0:3]"
   ]
  },
  {
   "cell_type": "code",
   "execution_count": null,
   "id": "9aa82e54-afb0-41b0-b469-8b2bf65dd896",
   "metadata": {},
   "outputs": [],
   "source": []
  }
 ],
 "metadata": {
  "kernelspec": {
   "display_name": "Python 3 (ipykernel)",
   "language": "python",
   "name": "python3"
  },
  "language_info": {
   "codemirror_mode": {
    "name": "ipython",
    "version": 3
   },
   "file_extension": ".py",
   "mimetype": "text/x-python",
   "name": "python",
   "nbconvert_exporter": "python",
   "pygments_lexer": "ipython3",
   "version": "3.11.7"
  }
 },
 "nbformat": 4,
 "nbformat_minor": 5
}
