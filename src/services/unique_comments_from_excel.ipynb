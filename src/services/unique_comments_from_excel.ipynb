{
 "cells": [
  {
   "cell_type": "code",
   "execution_count": 1,
   "id": "1c8833d4-a2ba-4da4-8391-552cc09c1908",
   "metadata": {},
   "outputs": [],
   "source": [
    "# pip install xlrd\n",
    "\n",
    "import sys \n",
    "import os\n",
    "import pandas as pd\n",
    "import re"
   ]
  },
  {
   "cell_type": "code",
   "execution_count": 2,
   "id": "a44cb8ac-ab7c-4870-bb36-eb0bf648415f",
   "metadata": {},
   "outputs": [
    {
     "data": {
      "text/plain": [
       "['C:\\\\Users\\\\Filipp\\\\PycharmProjects\\\\Invoice_scanner\\\\src\\\\services',\n",
       " 'C:\\\\Users\\\\Filipp\\\\AppData\\\\Local\\\\anaconda3\\\\python311.zip',\n",
       " 'C:\\\\Users\\\\Filipp\\\\AppData\\\\Local\\\\anaconda3\\\\DLLs',\n",
       " 'C:\\\\Users\\\\Filipp\\\\AppData\\\\Local\\\\anaconda3\\\\Lib',\n",
       " 'C:\\\\Users\\\\Filipp\\\\AppData\\\\Local\\\\anaconda3',\n",
       " '',\n",
       " 'C:\\\\Users\\\\Filipp\\\\AppData\\\\Local\\\\anaconda3\\\\Lib\\\\site-packages',\n",
       " 'C:\\\\Users\\\\Filipp\\\\AppData\\\\Local\\\\anaconda3\\\\Lib\\\\site-packages\\\\win32',\n",
       " 'C:\\\\Users\\\\Filipp\\\\AppData\\\\Local\\\\anaconda3\\\\Lib\\\\site-packages\\\\win32\\\\lib',\n",
       " 'C:\\\\Users\\\\Filipp\\\\AppData\\\\Local\\\\anaconda3\\\\Lib\\\\site-packages\\\\Pythonwin',\n",
       " 'C:\\\\Users\\\\Filipp\\\\PycharmProjects\\\\Invoice_scanner']"
      ]
     },
     "execution_count": 2,
     "metadata": {},
     "output_type": "execute_result"
    }
   ],
   "source": [
    "project_path = os.path.dirname(os.path.abspath('..'))\n",
    "if project_path not in sys.path:\n",
    "    sys.path.append(project_path)\n",
    "sys.path"
   ]
  },
  {
   "cell_type": "code",
   "execution_count": 3,
   "id": "7062e6ec-1b7b-4d8d-bfa8-2c53211a859e",
   "metadata": {},
   "outputs": [],
   "source": [
    "from config.config import config"
   ]
  },
  {
   "cell_type": "code",
   "execution_count": 4,
   "id": "5df1ea5f-fcaa-4d67-b091-4ec03504fe12",
   "metadata": {},
   "outputs": [
    {
     "data": {
      "text/plain": [
       "(238, 3)"
      ]
     },
     "execution_count": 4,
     "metadata": {},
     "output_type": "execute_result"
    }
   ],
   "source": [
    "# excel_file.xlsx если генерируем из \"unique_comments_to_excel.py\"\n",
    "\n",
    "# df = pd.read_excel(\"excel_file.xlsx\")\n",
    "# df.shape\n",
    "\n",
    "# generated_services.xlsx если генерируем из service_generator.ipynb (для новых услуг)\n",
    "\n",
    "df = pd.read_excel(\"generated_services.xlsx\")\n",
    "df.shape"
   ]
  },
  {
   "cell_type": "code",
   "execution_count": 7,
   "id": "f0e6ffbc-770a-40e8-9a1d-0810e19c8de5",
   "metadata": {},
   "outputs": [
    {
     "data": {
      "text/html": [
       "<div>\n",
       "<style scoped>\n",
       "    .dataframe tbody tr th:only-of-type {\n",
       "        vertical-align: middle;\n",
       "    }\n",
       "\n",
       "    .dataframe tbody tr th {\n",
       "        vertical-align: top;\n",
       "    }\n",
       "\n",
       "    .dataframe thead th {\n",
       "        text-align: right;\n",
       "    }\n",
       "</style>\n",
       "<table border=\"1\" class=\"dataframe\">\n",
       "  <thead>\n",
       "    <tr style=\"text-align: right;\">\n",
       "      <th></th>\n",
       "      <th>service</th>\n",
       "      <th>comment</th>\n",
       "      <th>code</th>\n",
       "    </tr>\n",
       "  </thead>\n",
       "  <tbody>\n",
       "    <tr>\n",
       "      <th>0</th>\n",
       "      <td>Терминальная обработка</td>\n",
       "      <td>Терминальная обработка по приёму (40' контейне...</td>\n",
       "      <td>000000421</td>\n",
       "    </tr>\n",
       "    <tr>\n",
       "      <th>1</th>\n",
       "      <td>Линейный фрахтовый сбор (THC)</td>\n",
       "      <td>Линейный фрахтовый сбор (ТНС)</td>\n",
       "      <td>000000420</td>\n",
       "    </tr>\n",
       "  </tbody>\n",
       "</table>\n",
       "</div>"
      ],
      "text/plain": [
       "                         service  \\\n",
       "0         Терминальная обработка   \n",
       "1  Линейный фрахтовый сбор (THC)   \n",
       "\n",
       "                                             comment       code  \n",
       "0  Терминальная обработка по приёму (40' контейне...  000000421  \n",
       "1                      Линейный фрахтовый сбор (ТНС)  000000420  "
      ]
     },
     "execution_count": 7,
     "metadata": {},
     "output_type": "execute_result"
    }
   ],
   "source": [
    "df.head(2)"
   ]
  },
  {
   "cell_type": "code",
   "execution_count": 8,
   "id": "b9c4f8dc-441c-4f6d-8288-361fa3c68a6d",
   "metadata": {},
   "outputs": [
    {
     "data": {
      "text/html": [
       "<div>\n",
       "<style scoped>\n",
       "    .dataframe tbody tr th:only-of-type {\n",
       "        vertical-align: middle;\n",
       "    }\n",
       "\n",
       "    .dataframe tbody tr th {\n",
       "        vertical-align: top;\n",
       "    }\n",
       "\n",
       "    .dataframe thead th {\n",
       "        text-align: right;\n",
       "    }\n",
       "</style>\n",
       "<table border=\"1\" class=\"dataframe\">\n",
       "  <thead>\n",
       "    <tr style=\"text-align: right;\">\n",
       "      <th></th>\n",
       "      <th>service</th>\n",
       "      <th>comment</th>\n",
       "      <th>code</th>\n",
       "    </tr>\n",
       "  </thead>\n",
       "  <tbody>\n",
       "    <tr>\n",
       "      <th>0</th>\n",
       "      <td>Терминальная обработка</td>\n",
       "      <td>Терминальная обработка по приёму (40' контейне...</td>\n",
       "      <td>000000421</td>\n",
       "    </tr>\n",
       "    <tr>\n",
       "      <th>1</th>\n",
       "      <td>Линейный фрахтовый сбор (THC)</td>\n",
       "      <td>Линейный фрахтовый сбор (ТНС)</td>\n",
       "      <td>000000420</td>\n",
       "    </tr>\n",
       "  </tbody>\n",
       "</table>\n",
       "</div>"
      ],
      "text/plain": [
       "                         service  \\\n",
       "0         Терминальная обработка   \n",
       "1  Линейный фрахтовый сбор (THC)   \n",
       "\n",
       "                                             comment       code  \n",
       "0  Терминальная обработка по приёму (40' контейне...  000000421  \n",
       "1                      Линейный фрахтовый сбор (ТНС)  000000420  "
      ]
     },
     "execution_count": 8,
     "metadata": {},
     "output_type": "execute_result"
    }
   ],
   "source": [
    "if 'id' in df.columns:\n",
    "    del df['id']\n",
    "\n",
    "df.head(2)"
   ]
  },
  {
   "cell_type": "code",
   "execution_count": 9,
   "id": "a9b4d357-f8cc-4ed4-94fd-0859179400ec",
   "metadata": {},
   "outputs": [],
   "source": [
    "# преобразование в строку, замена переноса строк на пробел, удаление повторяющихся пробелов \n",
    "\n",
    "for col in df.columns:\n",
    "    df[col] = df[col].apply(lambda x: str(x).replace('\\n', ' ').strip())\n",
    "    df[col] = df[col].apply(lambda x: re.sub(r' {2,}', ' ', x).strip())"
   ]
  },
  {
   "cell_type": "code",
   "execution_count": 10,
   "id": "1fb9c753-92a1-4ff8-a69b-23b02a33d2c8",
   "metadata": {},
   "outputs": [
    {
     "data": {
      "text/html": [
       "<div>\n",
       "<style scoped>\n",
       "    .dataframe tbody tr th:only-of-type {\n",
       "        vertical-align: middle;\n",
       "    }\n",
       "\n",
       "    .dataframe tbody tr th {\n",
       "        vertical-align: top;\n",
       "    }\n",
       "\n",
       "    .dataframe thead th {\n",
       "        text-align: right;\n",
       "    }\n",
       "</style>\n",
       "<table border=\"1\" class=\"dataframe\">\n",
       "  <thead>\n",
       "    <tr style=\"text-align: right;\">\n",
       "      <th></th>\n",
       "      <th>service</th>\n",
       "      <th>comment</th>\n",
       "      <th>code</th>\n",
       "    </tr>\n",
       "  </thead>\n",
       "  <tbody>\n",
       "    <tr>\n",
       "      <th>count</th>\n",
       "      <td>238</td>\n",
       "      <td>238</td>\n",
       "      <td>238</td>\n",
       "    </tr>\n",
       "    <tr>\n",
       "      <th>unique</th>\n",
       "      <td>210</td>\n",
       "      <td>236</td>\n",
       "      <td>211</td>\n",
       "    </tr>\n",
       "    <tr>\n",
       "      <th>top</th>\n",
       "      <td>Определение содержания остаточных количеств пе...</td>\n",
       "      <td>Оформление документации: Оформление протокола ...</td>\n",
       "      <td>000000593</td>\n",
       "    </tr>\n",
       "    <tr>\n",
       "      <th>freq</th>\n",
       "      <td>3</td>\n",
       "      <td>2</td>\n",
       "      <td>3</td>\n",
       "    </tr>\n",
       "  </tbody>\n",
       "</table>\n",
       "</div>"
      ],
      "text/plain": [
       "                                                  service  \\\n",
       "count                                                 238   \n",
       "unique                                                210   \n",
       "top     Определение содержания остаточных количеств пе...   \n",
       "freq                                                    3   \n",
       "\n",
       "                                                  comment       code  \n",
       "count                                                 238        238  \n",
       "unique                                                236        211  \n",
       "top     Оформление документации: Оформление протокола ...  000000593  \n",
       "freq                                                    2          3  "
      ]
     },
     "execution_count": 10,
     "metadata": {},
     "output_type": "execute_result"
    }
   ],
   "source": [
    "df.describe()"
   ]
  },
  {
   "cell_type": "code",
   "execution_count": 11,
   "id": "7e97d35d-811c-4d70-88fc-82fc86001a4f",
   "metadata": {},
   "outputs": [
    {
     "data": {
      "text/plain": [
       "(238, 3)"
      ]
     },
     "execution_count": 11,
     "metadata": {},
     "output_type": "execute_result"
    }
   ],
   "source": [
    "df.shape"
   ]
  },
  {
   "cell_type": "markdown",
   "id": "a5d51c3b-bbf9-408e-b83d-bc74091a811c",
   "metadata": {
    "jp-MarkdownHeadingCollapsed": true
   },
   "source": [
    "### Экспорт списка наиболе часто встречающихся \"Услуг\" "
   ]
  },
  {
   "cell_type": "code",
   "execution_count": null,
   "id": "85786313-32be-4725-bbf9-08184cac7681",
   "metadata": {},
   "outputs": [],
   "source": [
    "service_counts = df['service'].value_counts()\n",
    "\n",
    "filtered_services = service_counts[service_counts > 3]\n",
    "filtered_services"
   ]
  },
  {
   "cell_type": "code",
   "execution_count": null,
   "id": "b9c69673-2094-46bc-86fa-6d5c00070dd7",
   "metadata": {},
   "outputs": [],
   "source": [
    "# import json \n",
    "\n",
    "# file = os.path.join(config['BASE_DIR'], 'config', 'freq_services.json')\n",
    "# with open(file, 'w', encoding='utf-8') as f:\n",
    "#     json.dump(filtered_services.index.to_list(), f, ensure_ascii=False, indent=4)"
   ]
  },
  {
   "cell_type": "markdown",
   "id": "4e9a2210-28c0-4afa-8bb1-5ea9c8ebba7c",
   "metadata": {
    "jp-MarkdownHeadingCollapsed": true
   },
   "source": [
    "### Удаление транспортных позиций"
   ]
  },
  {
   "cell_type": "code",
   "execution_count": null,
   "id": "f09f4f1e-ce0a-45b0-9421-38e043150fd9",
   "metadata": {},
   "outputs": [],
   "source": [
    "def remove_special_characters(text):\n",
    "    response = re.sub(r'[^\\w\\s]', ' ', text.lower())\n",
    "    return re.sub(r'(\\s{2,}|\\n)', ' ', response)\n",
    "\n",
    "excluded = ['счета авто грузятся по реестрам', 'услуги грузятся автоматически', 'Счета авто. ']\n",
    "excluded = [remove_special_characters(x) for x in excluded]\n",
    "print(excluded)"
   ]
  },
  {
   "cell_type": "code",
   "execution_count": null,
   "id": "8b102724-8795-4fa8-aed3-b59558432597",
   "metadata": {},
   "outputs": [],
   "source": [
    "df['comment_cleaned'] = df['comment'].apply(remove_special_characters)\n",
    "df = df[~df['comment_cleaned'].str.strip().isin(excluded)]\n",
    "df = df.drop('comment_cleaned', axis=1)\n",
    "df.shape"
   ]
  },
  {
   "cell_type": "code",
   "execution_count": null,
   "id": "a3f2ac9e-73f8-40d9-ad67-86e9ca84e1e9",
   "metadata": {},
   "outputs": [],
   "source": [
    "df.describe()"
   ]
  },
  {
   "cell_type": "markdown",
   "id": "7ab0f359-10cf-4ba6-8781-6866bf7388ad",
   "metadata": {
    "jp-MarkdownHeadingCollapsed": true
   },
   "source": [
    "### Удаление позиций \"услуга русс. яз для акта\""
   ]
  },
  {
   "cell_type": "code",
   "execution_count": null,
   "id": "6f3cacb2-4604-48fc-a95c-87bc2c8b96bb",
   "metadata": {},
   "outputs": [],
   "source": [
    "excluded = ['услуга русс.яз для акта']\n",
    "excluded = [remove_special_characters(x) for x in excluded]\n",
    "print(excluded)"
   ]
  },
  {
   "cell_type": "code",
   "execution_count": null,
   "id": "6ceeceb7-63c9-4790-ba14-eae5be5936e6",
   "metadata": {},
   "outputs": [],
   "source": [
    "df['comment_cleaned'] = df['comment'].apply(remove_special_characters)\n",
    "df = df[~df['comment_cleaned'].str.strip().isin(excluded)]\n",
    "df = df.drop('comment_cleaned', axis=1)\n",
    "df.shape"
   ]
  },
  {
   "cell_type": "markdown",
   "id": "072acf51-1e70-42ef-8e0c-aa35db902f7e",
   "metadata": {
    "jp-MarkdownHeadingCollapsed": true
   },
   "source": [
    "### Количество различных комментариев в одной услуге"
   ]
  },
  {
   "cell_type": "code",
   "execution_count": null,
   "id": "e9cceaad-2fad-444b-b67f-a1c48c6f7ba5",
   "metadata": {
    "scrolled": true
   },
   "outputs": [],
   "source": [
    "uniq_services = df.groupby(['service']).agg(num_comments=('comment', 'count'), uniq_comments=('comment', 'nunique')).reset_index()\n",
    "uniq_services.tail()"
   ]
  },
  {
   "cell_type": "code",
   "execution_count": null,
   "id": "e760cb18-1d82-4a9c-956e-1988abee106f",
   "metadata": {
    "scrolled": true
   },
   "outputs": [],
   "source": [
    "uniq_services.query(\"uniq_comments > 1\")"
   ]
  },
  {
   "cell_type": "markdown",
   "id": "ff621736-a689-4d2d-8c64-d15947986248",
   "metadata": {
    "jp-MarkdownHeadingCollapsed": true
   },
   "source": [
    "### Количество различных услуг в одном комментарии"
   ]
  },
  {
   "cell_type": "code",
   "execution_count": null,
   "id": "b9634d26-a1f8-4f59-b3c9-ba3f4f75a0bc",
   "metadata": {
    "scrolled": true
   },
   "outputs": [],
   "source": [
    "uniq_comments = df.groupby(['comment']).agg(num_services=('service', 'count'), uniq_services=('service', 'nunique')).reset_index()\n",
    "uniq_comments.tail()"
   ]
  },
  {
   "cell_type": "code",
   "execution_count": null,
   "id": "69ca7172-9c6c-4c4d-b288-37f90c116d7c",
   "metadata": {
    "scrolled": true
   },
   "outputs": [],
   "source": [
    "uniq_comments.query(\"uniq_services > 1\")"
   ]
  },
  {
   "cell_type": "markdown",
   "id": "712ada69-2737-407f-83aa-ea745c73c806",
   "metadata": {
    "jp-MarkdownHeadingCollapsed": true
   },
   "source": [
    "### Услуги с двумя и более кодами"
   ]
  },
  {
   "cell_type": "code",
   "execution_count": null,
   "id": "328eb08e-8331-42c9-8060-da768e429169",
   "metadata": {},
   "outputs": [],
   "source": [
    "service_code_counts = df.groupby('service')['code'].nunique()\n",
    "\n",
    "services_with_multiple_codes = service_code_counts[service_code_counts > 1]\n",
    "services_with_multiple_codes"
   ]
  },
  {
   "cell_type": "code",
   "execution_count": null,
   "id": "3510aebd-63fe-44f1-b885-db9de806bb5c",
   "metadata": {},
   "outputs": [],
   "source": [
    "grouped = df[df['service'].isin(services_with_multiple_codes.index)].groupby(['service', 'code']).size().reset_index(name='count')\n",
    "display(grouped)\n",
    "\n",
    "idx = grouped.groupby('service')['count'].idxmin()\n",
    "min_count_code = grouped.loc[idx]\n",
    "display(min_count_code)"
   ]
  },
  {
   "cell_type": "code",
   "execution_count": null,
   "id": "6b7c3d5b-40dc-4924-92d5-b8f06c2e1c37",
   "metadata": {},
   "outputs": [],
   "source": [
    "df_ = df[~df['code'].isin(min_count_code.code)]"
   ]
  },
  {
   "cell_type": "code",
   "execution_count": null,
   "id": "efac7ce8-8768-404f-9cca-422995beabe1",
   "metadata": {},
   "outputs": [],
   "source": [
    "df_.describe()"
   ]
  },
  {
   "cell_type": "markdown",
   "id": "8aefe99d-0f35-4a87-9c5f-d78e02bc6748",
   "metadata": {},
   "source": [
    "### Группировка"
   ]
  },
  {
   "cell_type": "code",
   "execution_count": 12,
   "id": "b10b96ca-c210-45ec-a356-9877af55be68",
   "metadata": {},
   "outputs": [],
   "source": [
    "# old\n",
    "\n",
    "# grouped_comment = df.groupby(['comment']).agg(\n",
    "#     service_list=('service', lambda x: list(dict.fromkeys(x))),\n",
    "#     codelist = ('code', lambda x: list(dict.fromkeys(x)))\n",
    "# ).reset_index()\n",
    "# grouped_comment['len_service'] = grouped_comment['service_list'].apply(len)\n",
    "# grouped_comment['id'] = list(range(1, grouped_comment.shape[0]+1))"
   ]
  },
  {
   "cell_type": "code",
   "execution_count": 13,
   "id": "68d15917-da2d-4975-9440-ef6f74d4c118",
   "metadata": {},
   "outputs": [
    {
     "data": {
      "text/html": [
       "<div>\n",
       "<style scoped>\n",
       "    .dataframe tbody tr th:only-of-type {\n",
       "        vertical-align: middle;\n",
       "    }\n",
       "\n",
       "    .dataframe tbody tr th {\n",
       "        vertical-align: top;\n",
       "    }\n",
       "\n",
       "    .dataframe thead th {\n",
       "        text-align: right;\n",
       "    }\n",
       "</style>\n",
       "<table border=\"1\" class=\"dataframe\">\n",
       "  <thead>\n",
       "    <tr style=\"text-align: right;\">\n",
       "      <th></th>\n",
       "      <th>comment</th>\n",
       "      <th>service_list</th>\n",
       "      <th>code_list</th>\n",
       "      <th>len_service</th>\n",
       "      <th>id</th>\n",
       "    </tr>\n",
       "  </thead>\n",
       "  <tbody>\n",
       "    <tr>\n",
       "      <th>0</th>\n",
       "      <td>3410</td>\n",
       "      <td>[Выдача контейнера: Контейнер ИСО 20'/40' груж...</td>\n",
       "      <td>[ТК-009528]</td>\n",
       "      <td>1</td>\n",
       "      <td>0</td>\n",
       "    </tr>\n",
       "    <tr>\n",
       "      <th>1</th>\n",
       "      <td>AMENDMENT FEE</td>\n",
       "      <td>[AMENDMENT FEE]</td>\n",
       "      <td>[ТК-008738]</td>\n",
       "      <td>1</td>\n",
       "      <td>1</td>\n",
       "    </tr>\n",
       "    <tr>\n",
       "      <th>2</th>\n",
       "      <td>Additional charges</td>\n",
       "      <td>[Additional charges]</td>\n",
       "      <td>[ТК-009557]</td>\n",
       "      <td>1</td>\n",
       "      <td>2</td>\n",
       "    </tr>\n",
       "    <tr>\n",
       "      <th>3</th>\n",
       "      <td>Agency Recovery Fee</td>\n",
       "      <td>[Agency Recovery Fee (фрахт)]</td>\n",
       "      <td>[ТК-008991]</td>\n",
       "      <td>1</td>\n",
       "      <td>3</td>\n",
       "    </tr>\n",
       "    <tr>\n",
       "      <th>4</th>\n",
       "      <td>B/L SURRENDER FEE</td>\n",
       "      <td>[B/L SURRENDER FEE (фрахт)]</td>\n",
       "      <td>[ТК-008964]</td>\n",
       "      <td>1</td>\n",
       "      <td>4</td>\n",
       "    </tr>\n",
       "  </tbody>\n",
       "</table>\n",
       "</div>"
      ],
      "text/plain": [
       "               comment                                       service_list  \\\n",
       "0                 3410  [Выдача контейнера: Контейнер ИСО 20'/40' груж...   \n",
       "1        AMENDMENT FEE                                    [AMENDMENT FEE]   \n",
       "2   Additional charges                               [Additional charges]   \n",
       "3  Agency Recovery Fee                      [Agency Recovery Fee (фрахт)]   \n",
       "4    B/L SURRENDER FEE                        [B/L SURRENDER FEE (фрахт)]   \n",
       "\n",
       "     code_list  len_service  id  \n",
       "0  [ТК-009528]            1   0  \n",
       "1  [ТК-008738]            1   1  \n",
       "2  [ТК-009557]            1   2  \n",
       "3  [ТК-008991]            1   3  \n",
       "4  [ТК-008964]            1   4  "
      ]
     },
     "execution_count": 13,
     "metadata": {},
     "output_type": "execute_result"
    }
   ],
   "source": [
    "def custom_agg(group):\n",
    "    service = list(group['service'])\n",
    "    code = list(group['code'])\n",
    "    service_code_zip = list(dict.fromkeys(zip(service, code)))\n",
    "    service_list, code_list = zip(*service_code_zip)\n",
    "\n",
    "    return pd.Series({'service_list': list(service_list), 'code_list': list(code_list)})\n",
    "\n",
    "grouped_comment = df.groupby(['comment']).apply(custom_agg).reset_index()\n",
    "grouped_comment['len_service'] = grouped_comment['service_list'].apply(len)\n",
    "grouped_comment['id'] = list(range(grouped_comment.shape[0]))\n",
    "\n",
    "grouped_comment.head()"
   ]
  },
  {
   "cell_type": "code",
   "execution_count": 14,
   "id": "e514f015-eaaf-498e-ab5c-497e1d77b4eb",
   "metadata": {},
   "outputs": [],
   "source": [
    "error = \"Длина service_list всегда должна быть равна длине code_list\"\n",
    "\n",
    "assert grouped_comment[grouped_comment['service_list'].apply(len) != grouped_comment['code_list'].apply(len)].size == 0, error"
   ]
  },
  {
   "cell_type": "code",
   "execution_count": 15,
   "id": "b2f299f9-aab5-4c5b-809d-7b29ec3ef23f",
   "metadata": {},
   "outputs": [
    {
     "data": {
      "text/html": [
       "<div>\n",
       "<style scoped>\n",
       "    .dataframe tbody tr th:only-of-type {\n",
       "        vertical-align: middle;\n",
       "    }\n",
       "\n",
       "    .dataframe tbody tr th {\n",
       "        vertical-align: top;\n",
       "    }\n",
       "\n",
       "    .dataframe thead th {\n",
       "        text-align: right;\n",
       "    }\n",
       "</style>\n",
       "<table border=\"1\" class=\"dataframe\">\n",
       "  <thead>\n",
       "    <tr style=\"text-align: right;\">\n",
       "      <th></th>\n",
       "      <th>comment</th>\n",
       "      <th>service_list</th>\n",
       "      <th>code_list</th>\n",
       "      <th>len_service</th>\n",
       "      <th>id</th>\n",
       "    </tr>\n",
       "  </thead>\n",
       "  <tbody>\n",
       "  </tbody>\n",
       "</table>\n",
       "</div>"
      ],
      "text/plain": [
       "Empty DataFrame\n",
       "Columns: [comment, service_list, code_list, len_service, id]\n",
       "Index: []"
      ]
     },
     "metadata": {},
     "output_type": "display_data"
    },
    {
     "data": {
      "text/plain": [
       "[]"
      ]
     },
     "metadata": {},
     "output_type": "display_data"
    },
    {
     "data": {
      "text/plain": [
       "[]"
      ]
     },
     "metadata": {},
     "output_type": "display_data"
    },
    {
     "data": {
      "text/plain": [
       "True"
      ]
     },
     "metadata": {},
     "output_type": "display_data"
    }
   ],
   "source": [
    "z = grouped_comment[grouped_comment[\"comment\"] == \"Транспортно-экспедиторские услуги ТрансКонтейнер\"]\n",
    "display(z)\n",
    "display(z['service_list'].to_list())\n",
    "display(z['code_list'].to_list())\n",
    "display(len(z['service_list'].to_list()) == len(z['code_list'].to_list()))"
   ]
  },
  {
   "cell_type": "code",
   "execution_count": 16,
   "id": "ac67943d-5b2d-4316-8bea-c1063301038c",
   "metadata": {},
   "outputs": [
    {
     "data": {
      "text/plain": [
       "(236, 5)"
      ]
     },
     "execution_count": 16,
     "metadata": {},
     "output_type": "execute_result"
    }
   ],
   "source": [
    "grouped_comment.shape"
   ]
  },
  {
   "cell_type": "code",
   "execution_count": 17,
   "id": "bfd0734e-3652-4bfe-aef9-dc19fc6875f0",
   "metadata": {},
   "outputs": [
    {
     "data": {
      "text/html": [
       "<div>\n",
       "<style scoped>\n",
       "    .dataframe tbody tr th:only-of-type {\n",
       "        vertical-align: middle;\n",
       "    }\n",
       "\n",
       "    .dataframe tbody tr th {\n",
       "        vertical-align: top;\n",
       "    }\n",
       "\n",
       "    .dataframe thead th {\n",
       "        text-align: right;\n",
       "    }\n",
       "</style>\n",
       "<table border=\"1\" class=\"dataframe\">\n",
       "  <thead>\n",
       "    <tr style=\"text-align: right;\">\n",
       "      <th></th>\n",
       "      <th>comment</th>\n",
       "      <th>service_list</th>\n",
       "      <th>code_list</th>\n",
       "      <th>len_service</th>\n",
       "      <th>id</th>\n",
       "      <th>service_code</th>\n",
       "    </tr>\n",
       "  </thead>\n",
       "  <tbody>\n",
       "    <tr>\n",
       "      <th>231</th>\n",
       "      <td>охрана и сопровождение груза на поезде</td>\n",
       "      <td>[охрана и сопровождение груза]</td>\n",
       "      <td>[Т2760]</td>\n",
       "      <td>1</td>\n",
       "      <td>231</td>\n",
       "      <td>[охрана и сопровождение груза#Т2760#]</td>\n",
       "    </tr>\n",
       "    <tr>\n",
       "      <th>232</th>\n",
       "      <td>проведение испытаний: Свежие</td>\n",
       "      <td>[проведение испытаний продукции]</td>\n",
       "      <td>[Т0666]</td>\n",
       "      <td>1</td>\n",
       "      <td>232</td>\n",
       "      <td>[проведение испытаний продукции#Т0666#]</td>\n",
       "    </tr>\n",
       "    <tr>\n",
       "      <th>233</th>\n",
       "      <td>установка и снятие генератора по договору</td>\n",
       "      <td>[установка и снятие генератора]</td>\n",
       "      <td>[ТК-006287]</td>\n",
       "      <td>1</td>\n",
       "      <td>233</td>\n",
       "      <td>[установка и снятие генератора#ТК-006287#]</td>\n",
       "    </tr>\n",
       "    <tr>\n",
       "      <th>234</th>\n",
       "      <td>хранение 20фут. контейнера импорт с 9-х суток</td>\n",
       "      <td>[Хранение]</td>\n",
       "      <td>[ТК-000473]</td>\n",
       "      <td>1</td>\n",
       "      <td>234</td>\n",
       "      <td>[Хранение#ТК-000473#]</td>\n",
       "    </tr>\n",
       "    <tr>\n",
       "      <th>235</th>\n",
       "      <td>хранение контейнера импорт</td>\n",
       "      <td>[Хранение контейнера]</td>\n",
       "      <td>[Т0464]</td>\n",
       "      <td>1</td>\n",
       "      <td>235</td>\n",
       "      <td>[Хранение контейнера#Т0464#]</td>\n",
       "    </tr>\n",
       "  </tbody>\n",
       "</table>\n",
       "</div>"
      ],
      "text/plain": [
       "                                           comment  \\\n",
       "231         охрана и сопровождение груза на поезде   \n",
       "232                   проведение испытаний: Свежие   \n",
       "233      установка и снятие генератора по договору   \n",
       "234  хранение 20фут. контейнера импорт с 9-х суток   \n",
       "235                     хранение контейнера импорт   \n",
       "\n",
       "                         service_list    code_list  len_service   id  \\\n",
       "231    [охрана и сопровождение груза]      [Т2760]            1  231   \n",
       "232  [проведение испытаний продукции]      [Т0666]            1  232   \n",
       "233   [установка и снятие генератора]  [ТК-006287]            1  233   \n",
       "234                        [Хранение]  [ТК-000473]            1  234   \n",
       "235             [Хранение контейнера]      [Т0464]            1  235   \n",
       "\n",
       "                                   service_code  \n",
       "231       [охрана и сопровождение груза#Т2760#]  \n",
       "232     [проведение испытаний продукции#Т0666#]  \n",
       "233  [установка и снятие генератора#ТК-006287#]  \n",
       "234                       [Хранение#ТК-000473#]  \n",
       "235                [Хранение контейнера#Т0464#]  "
      ]
     },
     "execution_count": 17,
     "metadata": {},
     "output_type": "execute_result"
    }
   ],
   "source": [
    "# Функция для создания строки формата 'service_list#code_list#'\n",
    "\n",
    "def create_service_code_string(row):\n",
    "    return [f\"{s}#{c}#\" for s, c in zip(row['service_list'], row['code_list'])]\n",
    "\n",
    "# Применение функции ко всем строкам с помощью apply\n",
    "grouped_comment['service_code'] = grouped_comment.apply(create_service_code_string, axis=1)\n",
    "grouped_comment.tail()"
   ]
  },
  {
   "cell_type": "code",
   "execution_count": 18,
   "id": "dd1ccc61-afda-4476-b68e-144d1b31a04d",
   "metadata": {},
   "outputs": [
    {
     "data": {
      "text/html": [
       "<div>\n",
       "<style scoped>\n",
       "    .dataframe tbody tr th:only-of-type {\n",
       "        vertical-align: middle;\n",
       "    }\n",
       "\n",
       "    .dataframe tbody tr th {\n",
       "        vertical-align: top;\n",
       "    }\n",
       "\n",
       "    .dataframe thead th {\n",
       "        text-align: right;\n",
       "    }\n",
       "</style>\n",
       "<table border=\"1\" class=\"dataframe\">\n",
       "  <thead>\n",
       "    <tr style=\"text-align: right;\">\n",
       "      <th></th>\n",
       "      <th>id</th>\n",
       "      <th>comment</th>\n",
       "      <th>service_code</th>\n",
       "    </tr>\n",
       "  </thead>\n",
       "  <tbody>\n",
       "    <tr>\n",
       "      <th>231</th>\n",
       "      <td>231</td>\n",
       "      <td>охрана и сопровождение груза на поезде</td>\n",
       "      <td>[охрана и сопровождение груза#Т2760#]</td>\n",
       "    </tr>\n",
       "    <tr>\n",
       "      <th>232</th>\n",
       "      <td>232</td>\n",
       "      <td>проведение испытаний: Свежие</td>\n",
       "      <td>[проведение испытаний продукции#Т0666#]</td>\n",
       "    </tr>\n",
       "    <tr>\n",
       "      <th>233</th>\n",
       "      <td>233</td>\n",
       "      <td>установка и снятие генератора по договору</td>\n",
       "      <td>[установка и снятие генератора#ТК-006287#]</td>\n",
       "    </tr>\n",
       "    <tr>\n",
       "      <th>234</th>\n",
       "      <td>234</td>\n",
       "      <td>хранение 20фут. контейнера импорт с 9-х суток</td>\n",
       "      <td>[Хранение#ТК-000473#]</td>\n",
       "    </tr>\n",
       "    <tr>\n",
       "      <th>235</th>\n",
       "      <td>235</td>\n",
       "      <td>хранение контейнера импорт</td>\n",
       "      <td>[Хранение контейнера#Т0464#]</td>\n",
       "    </tr>\n",
       "  </tbody>\n",
       "</table>\n",
       "</div>"
      ],
      "text/plain": [
       "      id                                        comment  \\\n",
       "231  231         охрана и сопровождение груза на поезде   \n",
       "232  232                   проведение испытаний: Свежие   \n",
       "233  233      установка и снятие генератора по договору   \n",
       "234  234  хранение 20фут. контейнера импорт с 9-х суток   \n",
       "235  235                     хранение контейнера импорт   \n",
       "\n",
       "                                   service_code  \n",
       "231       [охрана и сопровождение груза#Т2760#]  \n",
       "232     [проведение испытаний продукции#Т0666#]  \n",
       "233  [установка и снятие генератора#ТК-006287#]  \n",
       "234                       [Хранение#ТК-000473#]  \n",
       "235                [Хранение контейнера#Т0464#]  "
      ]
     },
     "execution_count": 18,
     "metadata": {},
     "output_type": "execute_result"
    }
   ],
   "source": [
    "result_df = grouped_comment[['id', 'comment', 'service_code']]\n",
    "result_df.tail()"
   ]
  },
  {
   "cell_type": "code",
   "execution_count": 21,
   "id": "6a47dace-e435-45c0-88d2-203bc7a0422d",
   "metadata": {},
   "outputs": [],
   "source": [
    "result_df.to_json(\"new_unique_comments.json\", orient='records', force_ascii=False, indent=4)"
   ]
  }
 ],
 "metadata": {
  "kernelspec": {
   "display_name": "Python 3 (ipykernel)",
   "language": "python",
   "name": "python3"
  },
  "language_info": {
   "codemirror_mode": {
    "name": "ipython",
    "version": 3
   },
   "file_extension": ".py",
   "mimetype": "text/x-python",
   "name": "python",
   "nbconvert_exporter": "python",
   "pygments_lexer": "ipython3",
   "version": "3.11.7"
  }
 },
 "nbformat": 4,
 "nbformat_minor": 5
}
